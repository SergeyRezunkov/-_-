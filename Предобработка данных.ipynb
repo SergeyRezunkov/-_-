{
 "cells": [
  {
   "cell_type": "markdown",
   "id": "386f2ae7",
   "metadata": {
    "deletable": false,
    "editable": false,
    "id": "386f2ae7"
   },
   "source": [
    "# Исследование надежности заемщиков\n"
   ]
  },
  {
   "cell_type": "markdown",
   "id": "ffe86f65",
   "metadata": {
    "deletable": false,
    "editable": false,
    "id": "ffe86f65"
   },
   "source": [
    "Во второй части проекта вы выполните шаги 3 и 4. Их вручную проверит ревьюер.\n",
    "Чтобы вам не пришлось писать код заново для шагов 1 и 2, мы добавили авторские решения в ячейки с кодом. \n",
    "\n"
   ]
  },
  {
   "cell_type": "markdown",
   "id": "26613308",
   "metadata": {
    "deletable": false,
    "editable": false,
    "id": "26613308"
   },
   "source": [
    "## Откройте таблицу и изучите общую информацию о данных"
   ]
  },
  {
   "cell_type": "markdown",
   "id": "3c9f838e",
   "metadata": {
    "deletable": false,
    "editable": false,
    "id": "3c9f838e"
   },
   "source": [
    "**Задание 1. Импортируйте библиотеку pandas. Считайте данные из csv-файла в датафрейм и сохраните в переменную `data`. Путь к файлу:**\n",
    "\n",
    "`/datasets/data.csv`"
   ]
  },
  {
   "cell_type": "code",
   "execution_count": 1,
   "id": "77a68a90",
   "metadata": {
    "deletable": false,
    "id": "77a68a90"
   },
   "outputs": [],
   "source": [
    "import pandas as pd\n",
    "\n",
    "try:\n",
    "    data = pd.read_csv('/datasets/data.csv')\n",
    "except:\n",
    "    data = pd.read_csv('https://code.s3.yandex.net/datasets/data.csv')"
   ]
  },
  {
   "cell_type": "markdown",
   "id": "45365635",
   "metadata": {
    "deletable": false,
    "editable": false,
    "id": "45365635"
   },
   "source": [
    "**Задание 2. Выведите первые 20 строчек датафрейма `data` на экран.**"
   ]
  },
  {
   "cell_type": "code",
   "execution_count": 2,
   "id": "b0451a9a",
   "metadata": {
    "deletable": false,
    "id": "b0451a9a",
    "outputId": "1a8f3ef2-d323-4ec2-ddf7-89670b5944c4"
   },
   "outputs": [
    {
     "data": {
      "text/html": [
       "<div>\n",
       "<style scoped>\n",
       "    .dataframe tbody tr th:only-of-type {\n",
       "        vertical-align: middle;\n",
       "    }\n",
       "\n",
       "    .dataframe tbody tr th {\n",
       "        vertical-align: top;\n",
       "    }\n",
       "\n",
       "    .dataframe thead th {\n",
       "        text-align: right;\n",
       "    }\n",
       "</style>\n",
       "<table border=\"1\" class=\"dataframe\">\n",
       "  <thead>\n",
       "    <tr style=\"text-align: right;\">\n",
       "      <th></th>\n",
       "      <th>children</th>\n",
       "      <th>days_employed</th>\n",
       "      <th>dob_years</th>\n",
       "      <th>education</th>\n",
       "      <th>education_id</th>\n",
       "      <th>family_status</th>\n",
       "      <th>family_status_id</th>\n",
       "      <th>gender</th>\n",
       "      <th>income_type</th>\n",
       "      <th>debt</th>\n",
       "      <th>total_income</th>\n",
       "      <th>purpose</th>\n",
       "    </tr>\n",
       "  </thead>\n",
       "  <tbody>\n",
       "    <tr>\n",
       "      <th>0</th>\n",
       "      <td>1</td>\n",
       "      <td>-8437.673028</td>\n",
       "      <td>42</td>\n",
       "      <td>высшее</td>\n",
       "      <td>0</td>\n",
       "      <td>женат / замужем</td>\n",
       "      <td>0</td>\n",
       "      <td>F</td>\n",
       "      <td>сотрудник</td>\n",
       "      <td>0</td>\n",
       "      <td>253875.639453</td>\n",
       "      <td>покупка жилья</td>\n",
       "    </tr>\n",
       "    <tr>\n",
       "      <th>1</th>\n",
       "      <td>1</td>\n",
       "      <td>-4024.803754</td>\n",
       "      <td>36</td>\n",
       "      <td>среднее</td>\n",
       "      <td>1</td>\n",
       "      <td>женат / замужем</td>\n",
       "      <td>0</td>\n",
       "      <td>F</td>\n",
       "      <td>сотрудник</td>\n",
       "      <td>0</td>\n",
       "      <td>112080.014102</td>\n",
       "      <td>приобретение автомобиля</td>\n",
       "    </tr>\n",
       "    <tr>\n",
       "      <th>2</th>\n",
       "      <td>0</td>\n",
       "      <td>-5623.422610</td>\n",
       "      <td>33</td>\n",
       "      <td>Среднее</td>\n",
       "      <td>1</td>\n",
       "      <td>женат / замужем</td>\n",
       "      <td>0</td>\n",
       "      <td>M</td>\n",
       "      <td>сотрудник</td>\n",
       "      <td>0</td>\n",
       "      <td>145885.952297</td>\n",
       "      <td>покупка жилья</td>\n",
       "    </tr>\n",
       "    <tr>\n",
       "      <th>3</th>\n",
       "      <td>3</td>\n",
       "      <td>-4124.747207</td>\n",
       "      <td>32</td>\n",
       "      <td>среднее</td>\n",
       "      <td>1</td>\n",
       "      <td>женат / замужем</td>\n",
       "      <td>0</td>\n",
       "      <td>M</td>\n",
       "      <td>сотрудник</td>\n",
       "      <td>0</td>\n",
       "      <td>267628.550329</td>\n",
       "      <td>дополнительное образование</td>\n",
       "    </tr>\n",
       "    <tr>\n",
       "      <th>4</th>\n",
       "      <td>0</td>\n",
       "      <td>340266.072047</td>\n",
       "      <td>53</td>\n",
       "      <td>среднее</td>\n",
       "      <td>1</td>\n",
       "      <td>гражданский брак</td>\n",
       "      <td>1</td>\n",
       "      <td>F</td>\n",
       "      <td>пенсионер</td>\n",
       "      <td>0</td>\n",
       "      <td>158616.077870</td>\n",
       "      <td>сыграть свадьбу</td>\n",
       "    </tr>\n",
       "    <tr>\n",
       "      <th>5</th>\n",
       "      <td>0</td>\n",
       "      <td>-926.185831</td>\n",
       "      <td>27</td>\n",
       "      <td>высшее</td>\n",
       "      <td>0</td>\n",
       "      <td>гражданский брак</td>\n",
       "      <td>1</td>\n",
       "      <td>M</td>\n",
       "      <td>компаньон</td>\n",
       "      <td>0</td>\n",
       "      <td>255763.565419</td>\n",
       "      <td>покупка жилья</td>\n",
       "    </tr>\n",
       "    <tr>\n",
       "      <th>6</th>\n",
       "      <td>0</td>\n",
       "      <td>-2879.202052</td>\n",
       "      <td>43</td>\n",
       "      <td>высшее</td>\n",
       "      <td>0</td>\n",
       "      <td>женат / замужем</td>\n",
       "      <td>0</td>\n",
       "      <td>F</td>\n",
       "      <td>компаньон</td>\n",
       "      <td>0</td>\n",
       "      <td>240525.971920</td>\n",
       "      <td>операции с жильем</td>\n",
       "    </tr>\n",
       "    <tr>\n",
       "      <th>7</th>\n",
       "      <td>0</td>\n",
       "      <td>-152.779569</td>\n",
       "      <td>50</td>\n",
       "      <td>СРЕДНЕЕ</td>\n",
       "      <td>1</td>\n",
       "      <td>женат / замужем</td>\n",
       "      <td>0</td>\n",
       "      <td>M</td>\n",
       "      <td>сотрудник</td>\n",
       "      <td>0</td>\n",
       "      <td>135823.934197</td>\n",
       "      <td>образование</td>\n",
       "    </tr>\n",
       "    <tr>\n",
       "      <th>8</th>\n",
       "      <td>2</td>\n",
       "      <td>-6929.865299</td>\n",
       "      <td>35</td>\n",
       "      <td>ВЫСШЕЕ</td>\n",
       "      <td>0</td>\n",
       "      <td>гражданский брак</td>\n",
       "      <td>1</td>\n",
       "      <td>F</td>\n",
       "      <td>сотрудник</td>\n",
       "      <td>0</td>\n",
       "      <td>95856.832424</td>\n",
       "      <td>на проведение свадьбы</td>\n",
       "    </tr>\n",
       "    <tr>\n",
       "      <th>9</th>\n",
       "      <td>0</td>\n",
       "      <td>-2188.756445</td>\n",
       "      <td>41</td>\n",
       "      <td>среднее</td>\n",
       "      <td>1</td>\n",
       "      <td>женат / замужем</td>\n",
       "      <td>0</td>\n",
       "      <td>M</td>\n",
       "      <td>сотрудник</td>\n",
       "      <td>0</td>\n",
       "      <td>144425.938277</td>\n",
       "      <td>покупка жилья для семьи</td>\n",
       "    </tr>\n",
       "    <tr>\n",
       "      <th>10</th>\n",
       "      <td>2</td>\n",
       "      <td>-4171.483647</td>\n",
       "      <td>36</td>\n",
       "      <td>высшее</td>\n",
       "      <td>0</td>\n",
       "      <td>женат / замужем</td>\n",
       "      <td>0</td>\n",
       "      <td>M</td>\n",
       "      <td>компаньон</td>\n",
       "      <td>0</td>\n",
       "      <td>113943.491460</td>\n",
       "      <td>покупка недвижимости</td>\n",
       "    </tr>\n",
       "    <tr>\n",
       "      <th>11</th>\n",
       "      <td>0</td>\n",
       "      <td>-792.701887</td>\n",
       "      <td>40</td>\n",
       "      <td>среднее</td>\n",
       "      <td>1</td>\n",
       "      <td>женат / замужем</td>\n",
       "      <td>0</td>\n",
       "      <td>F</td>\n",
       "      <td>сотрудник</td>\n",
       "      <td>0</td>\n",
       "      <td>77069.234271</td>\n",
       "      <td>покупка коммерческой недвижимости</td>\n",
       "    </tr>\n",
       "    <tr>\n",
       "      <th>12</th>\n",
       "      <td>0</td>\n",
       "      <td>NaN</td>\n",
       "      <td>65</td>\n",
       "      <td>среднее</td>\n",
       "      <td>1</td>\n",
       "      <td>гражданский брак</td>\n",
       "      <td>1</td>\n",
       "      <td>M</td>\n",
       "      <td>пенсионер</td>\n",
       "      <td>0</td>\n",
       "      <td>NaN</td>\n",
       "      <td>сыграть свадьбу</td>\n",
       "    </tr>\n",
       "    <tr>\n",
       "      <th>13</th>\n",
       "      <td>0</td>\n",
       "      <td>-1846.641941</td>\n",
       "      <td>54</td>\n",
       "      <td>неоконченное высшее</td>\n",
       "      <td>2</td>\n",
       "      <td>женат / замужем</td>\n",
       "      <td>0</td>\n",
       "      <td>F</td>\n",
       "      <td>сотрудник</td>\n",
       "      <td>0</td>\n",
       "      <td>130458.228857</td>\n",
       "      <td>приобретение автомобиля</td>\n",
       "    </tr>\n",
       "    <tr>\n",
       "      <th>14</th>\n",
       "      <td>0</td>\n",
       "      <td>-1844.956182</td>\n",
       "      <td>56</td>\n",
       "      <td>высшее</td>\n",
       "      <td>0</td>\n",
       "      <td>гражданский брак</td>\n",
       "      <td>1</td>\n",
       "      <td>F</td>\n",
       "      <td>компаньон</td>\n",
       "      <td>1</td>\n",
       "      <td>165127.911772</td>\n",
       "      <td>покупка жилой недвижимости</td>\n",
       "    </tr>\n",
       "    <tr>\n",
       "      <th>15</th>\n",
       "      <td>1</td>\n",
       "      <td>-972.364419</td>\n",
       "      <td>26</td>\n",
       "      <td>среднее</td>\n",
       "      <td>1</td>\n",
       "      <td>женат / замужем</td>\n",
       "      <td>0</td>\n",
       "      <td>F</td>\n",
       "      <td>сотрудник</td>\n",
       "      <td>0</td>\n",
       "      <td>116820.904450</td>\n",
       "      <td>строительство собственной недвижимости</td>\n",
       "    </tr>\n",
       "    <tr>\n",
       "      <th>16</th>\n",
       "      <td>0</td>\n",
       "      <td>-1719.934226</td>\n",
       "      <td>35</td>\n",
       "      <td>среднее</td>\n",
       "      <td>1</td>\n",
       "      <td>женат / замужем</td>\n",
       "      <td>0</td>\n",
       "      <td>F</td>\n",
       "      <td>сотрудник</td>\n",
       "      <td>0</td>\n",
       "      <td>289202.704229</td>\n",
       "      <td>недвижимость</td>\n",
       "    </tr>\n",
       "    <tr>\n",
       "      <th>17</th>\n",
       "      <td>0</td>\n",
       "      <td>-2369.999720</td>\n",
       "      <td>33</td>\n",
       "      <td>высшее</td>\n",
       "      <td>0</td>\n",
       "      <td>гражданский брак</td>\n",
       "      <td>1</td>\n",
       "      <td>M</td>\n",
       "      <td>сотрудник</td>\n",
       "      <td>0</td>\n",
       "      <td>90410.586745</td>\n",
       "      <td>строительство недвижимости</td>\n",
       "    </tr>\n",
       "    <tr>\n",
       "      <th>18</th>\n",
       "      <td>0</td>\n",
       "      <td>400281.136913</td>\n",
       "      <td>53</td>\n",
       "      <td>среднее</td>\n",
       "      <td>1</td>\n",
       "      <td>вдовец / вдова</td>\n",
       "      <td>2</td>\n",
       "      <td>F</td>\n",
       "      <td>пенсионер</td>\n",
       "      <td>0</td>\n",
       "      <td>56823.777243</td>\n",
       "      <td>на покупку подержанного автомобиля</td>\n",
       "    </tr>\n",
       "    <tr>\n",
       "      <th>19</th>\n",
       "      <td>0</td>\n",
       "      <td>-10038.818549</td>\n",
       "      <td>48</td>\n",
       "      <td>СРЕДНЕЕ</td>\n",
       "      <td>1</td>\n",
       "      <td>в разводе</td>\n",
       "      <td>3</td>\n",
       "      <td>F</td>\n",
       "      <td>сотрудник</td>\n",
       "      <td>0</td>\n",
       "      <td>242831.107982</td>\n",
       "      <td>на покупку своего автомобиля</td>\n",
       "    </tr>\n",
       "  </tbody>\n",
       "</table>\n",
       "</div>"
      ],
      "text/plain": [
       "    children  days_employed  dob_years            education  education_id  \\\n",
       "0          1   -8437.673028         42               высшее             0   \n",
       "1          1   -4024.803754         36              среднее             1   \n",
       "2          0   -5623.422610         33              Среднее             1   \n",
       "3          3   -4124.747207         32              среднее             1   \n",
       "4          0  340266.072047         53              среднее             1   \n",
       "5          0    -926.185831         27               высшее             0   \n",
       "6          0   -2879.202052         43               высшее             0   \n",
       "7          0    -152.779569         50              СРЕДНЕЕ             1   \n",
       "8          2   -6929.865299         35               ВЫСШЕЕ             0   \n",
       "9          0   -2188.756445         41              среднее             1   \n",
       "10         2   -4171.483647         36               высшее             0   \n",
       "11         0    -792.701887         40              среднее             1   \n",
       "12         0            NaN         65              среднее             1   \n",
       "13         0   -1846.641941         54  неоконченное высшее             2   \n",
       "14         0   -1844.956182         56               высшее             0   \n",
       "15         1    -972.364419         26              среднее             1   \n",
       "16         0   -1719.934226         35              среднее             1   \n",
       "17         0   -2369.999720         33               высшее             0   \n",
       "18         0  400281.136913         53              среднее             1   \n",
       "19         0  -10038.818549         48              СРЕДНЕЕ             1   \n",
       "\n",
       "       family_status  family_status_id gender income_type  debt  \\\n",
       "0    женат / замужем                 0      F   сотрудник     0   \n",
       "1    женат / замужем                 0      F   сотрудник     0   \n",
       "2    женат / замужем                 0      M   сотрудник     0   \n",
       "3    женат / замужем                 0      M   сотрудник     0   \n",
       "4   гражданский брак                 1      F   пенсионер     0   \n",
       "5   гражданский брак                 1      M   компаньон     0   \n",
       "6    женат / замужем                 0      F   компаньон     0   \n",
       "7    женат / замужем                 0      M   сотрудник     0   \n",
       "8   гражданский брак                 1      F   сотрудник     0   \n",
       "9    женат / замужем                 0      M   сотрудник     0   \n",
       "10   женат / замужем                 0      M   компаньон     0   \n",
       "11   женат / замужем                 0      F   сотрудник     0   \n",
       "12  гражданский брак                 1      M   пенсионер     0   \n",
       "13   женат / замужем                 0      F   сотрудник     0   \n",
       "14  гражданский брак                 1      F   компаньон     1   \n",
       "15   женат / замужем                 0      F   сотрудник     0   \n",
       "16   женат / замужем                 0      F   сотрудник     0   \n",
       "17  гражданский брак                 1      M   сотрудник     0   \n",
       "18    вдовец / вдова                 2      F   пенсионер     0   \n",
       "19         в разводе                 3      F   сотрудник     0   \n",
       "\n",
       "     total_income                                 purpose  \n",
       "0   253875.639453                           покупка жилья  \n",
       "1   112080.014102                 приобретение автомобиля  \n",
       "2   145885.952297                           покупка жилья  \n",
       "3   267628.550329              дополнительное образование  \n",
       "4   158616.077870                         сыграть свадьбу  \n",
       "5   255763.565419                           покупка жилья  \n",
       "6   240525.971920                       операции с жильем  \n",
       "7   135823.934197                             образование  \n",
       "8    95856.832424                   на проведение свадьбы  \n",
       "9   144425.938277                 покупка жилья для семьи  \n",
       "10  113943.491460                    покупка недвижимости  \n",
       "11   77069.234271       покупка коммерческой недвижимости  \n",
       "12            NaN                         сыграть свадьбу  \n",
       "13  130458.228857                 приобретение автомобиля  \n",
       "14  165127.911772              покупка жилой недвижимости  \n",
       "15  116820.904450  строительство собственной недвижимости  \n",
       "16  289202.704229                            недвижимость  \n",
       "17   90410.586745              строительство недвижимости  \n",
       "18   56823.777243      на покупку подержанного автомобиля  \n",
       "19  242831.107982            на покупку своего автомобиля  "
      ]
     },
     "execution_count": 2,
     "metadata": {},
     "output_type": "execute_result"
    }
   ],
   "source": [
    "data.head(20)"
   ]
  },
  {
   "cell_type": "markdown",
   "id": "0ed8f27f",
   "metadata": {
    "deletable": false,
    "editable": false,
    "id": "0ed8f27f"
   },
   "source": [
    "**Задание 3. Выведите основную информацию о датафрейме с помощью метода `info()`.**"
   ]
  },
  {
   "cell_type": "code",
   "execution_count": 3,
   "id": "ab3f863b",
   "metadata": {
    "deletable": false,
    "id": "ab3f863b",
    "outputId": "15376089-8dad-46c9-b520-c05248d43158"
   },
   "outputs": [
    {
     "name": "stdout",
     "output_type": "stream",
     "text": [
      "<class 'pandas.core.frame.DataFrame'>\n",
      "RangeIndex: 21525 entries, 0 to 21524\n",
      "Data columns (total 12 columns):\n",
      " #   Column            Non-Null Count  Dtype  \n",
      "---  ------            --------------  -----  \n",
      " 0   children          21525 non-null  int64  \n",
      " 1   days_employed     19351 non-null  float64\n",
      " 2   dob_years         21525 non-null  int64  \n",
      " 3   education         21525 non-null  object \n",
      " 4   education_id      21525 non-null  int64  \n",
      " 5   family_status     21525 non-null  object \n",
      " 6   family_status_id  21525 non-null  int64  \n",
      " 7   gender            21525 non-null  object \n",
      " 8   income_type       21525 non-null  object \n",
      " 9   debt              21525 non-null  int64  \n",
      " 10  total_income      19351 non-null  float64\n",
      " 11  purpose           21525 non-null  object \n",
      "dtypes: float64(2), int64(5), object(5)\n",
      "memory usage: 2.0+ MB\n"
     ]
    }
   ],
   "source": [
    "data.info()"
   ]
  },
  {
   "cell_type": "markdown",
   "id": "60e3e22d",
   "metadata": {
    "deletable": false,
    "editable": false,
    "id": "60e3e22d"
   },
   "source": [
    "## Предобработка данных"
   ]
  },
  {
   "cell_type": "markdown",
   "id": "03dc170c",
   "metadata": {
    "deletable": false,
    "editable": false,
    "id": "03dc170c"
   },
   "source": [
    "### Удаление пропусков"
   ]
  },
  {
   "cell_type": "markdown",
   "id": "a4f54eef",
   "metadata": {
    "deletable": false,
    "editable": false,
    "id": "a4f54eef"
   },
   "source": [
    "**Задание 4. Выведите количество пропущенных значений для каждого столбца. Используйте комбинацию двух методов.**"
   ]
  },
  {
   "cell_type": "code",
   "execution_count": 4,
   "id": "2dc372b2",
   "metadata": {
    "deletable": false,
    "id": "2dc372b2",
    "outputId": "81f4d817-781c-465c-ed15-91ce4446810d"
   },
   "outputs": [
    {
     "data": {
      "text/plain": [
       "children               0\n",
       "days_employed       2174\n",
       "dob_years              0\n",
       "education              0\n",
       "education_id           0\n",
       "family_status          0\n",
       "family_status_id       0\n",
       "gender                 0\n",
       "income_type            0\n",
       "debt                   0\n",
       "total_income        2174\n",
       "purpose                0\n",
       "dtype: int64"
      ]
     },
     "execution_count": 4,
     "metadata": {},
     "output_type": "execute_result"
    }
   ],
   "source": [
    "data.isna().sum()"
   ]
  },
  {
   "cell_type": "markdown",
   "id": "14f011b1",
   "metadata": {
    "deletable": false,
    "editable": false,
    "id": "14f011b1"
   },
   "source": [
    "**Задание 5. В двух столбцах есть пропущенные значения. Один из них — `days_employed`. Пропуски в этом столбце вы обработаете на следующем этапе. Другой столбец с пропущенными значениями — `total_income` — хранит данные о доходах. На сумму дохода сильнее всего влияет тип занятости, поэтому заполнить пропуски в этом столбце нужно медианным значением по каждому типу из столбца `income_type`. Например, у человека с типом занятости `сотрудник` пропуск в столбце `total_income` должен быть заполнен медианным доходом среди всех записей с тем же типом.**"
   ]
  },
  {
   "cell_type": "code",
   "execution_count": 5,
   "id": "bdabfb6e",
   "metadata": {
    "deletable": false,
    "id": "bdabfb6e"
   },
   "outputs": [],
   "source": [
    "for t in data['income_type'].unique():\n",
    "    data.loc[(data['income_type'] == t) & (data['total_income'].isna()), 'total_income'] = \\\n",
    "    data.loc[(data['income_type'] == t), 'total_income'].median()"
   ]
  },
  {
   "cell_type": "markdown",
   "id": "5be34059",
   "metadata": {
    "deletable": false,
    "editable": false,
    "id": "5be34059"
   },
   "source": [
    "### Обработка аномальных значений"
   ]
  },
  {
   "cell_type": "markdown",
   "id": "a87606cb",
   "metadata": {
    "deletable": false,
    "editable": false,
    "id": "a87606cb"
   },
   "source": [
    "**Задание 6. В данных могут встречаться артефакты (аномалии) — значения, которые не отражают действительность и появились по какой-то ошибке. таким артефактом будет отрицательное количество дней трудового стажа в столбце `days_employed`. Для реальных данных это нормально. Обработайте значения в этом столбце: замените все отрицательные значения положительными с помощью метода `abs()`.**"
   ]
  },
  {
   "cell_type": "code",
   "execution_count": 6,
   "id": "020c46cc",
   "metadata": {
    "deletable": false,
    "id": "020c46cc"
   },
   "outputs": [],
   "source": [
    "data['days_employed'] = data['days_employed'].abs()"
   ]
  },
  {
   "cell_type": "markdown",
   "id": "45538a3a",
   "metadata": {
    "deletable": false,
    "editable": false,
    "id": "45538a3a"
   },
   "source": [
    "**Задание 7. Для каждого типа занятости выведите медианное значение трудового стажа `days_employed` в днях.**"
   ]
  },
  {
   "cell_type": "code",
   "execution_count": 7,
   "id": "cd3e6328",
   "metadata": {
    "deletable": false,
    "id": "cd3e6328",
    "outputId": "801ef80e-522b-4668-f34e-565af7432bcf"
   },
   "outputs": [
    {
     "data": {
      "text/plain": [
       "income_type\n",
       "безработный        366413.652744\n",
       "в декрете            3296.759962\n",
       "госслужащий          2689.368353\n",
       "компаньон            1547.382223\n",
       "пенсионер          365213.306266\n",
       "предприниматель       520.848083\n",
       "сотрудник            1574.202821\n",
       "студент               578.751554\n",
       "Name: days_employed, dtype: float64"
      ]
     },
     "execution_count": 7,
     "metadata": {},
     "output_type": "execute_result"
    }
   ],
   "source": [
    "data.groupby('income_type')['days_employed'].agg('median')"
   ]
  },
  {
   "cell_type": "markdown",
   "id": "90c5f058",
   "metadata": {
    "deletable": false,
    "editable": false,
    "id": "90c5f058"
   },
   "source": [
    "У двух типов (безработные и пенсионеры) получатся аномально большие значения. Исправить такие значения сложно, поэтому оставьте их как есть."
   ]
  },
  {
   "cell_type": "markdown",
   "id": "9652e50d",
   "metadata": {
    "deletable": false,
    "editable": false,
    "id": "9652e50d"
   },
   "source": [
    "**Задание 8. Выведите перечень уникальных значений столбца `children`.**"
   ]
  },
  {
   "cell_type": "code",
   "execution_count": 8,
   "id": "dbb37b8e",
   "metadata": {
    "deletable": false,
    "id": "dbb37b8e",
    "outputId": "6975b15c-7f95-4697-d16d-a0c79b657b03"
   },
   "outputs": [
    {
     "data": {
      "text/plain": [
       "array([ 1,  0,  3,  2, -1,  4, 20,  5])"
      ]
     },
     "execution_count": 8,
     "metadata": {},
     "output_type": "execute_result"
    }
   ],
   "source": [
    "data['children'].unique()"
   ]
  },
  {
   "cell_type": "markdown",
   "id": "2b8b0715",
   "metadata": {
    "deletable": false,
    "editable": false,
    "id": "2b8b0715"
   },
   "source": [
    "**Задание 9. В столбце `children` есть два аномальных значения. Удалите строки, в которых встречаются такие аномальные значения из датафрейма `data`.**"
   ]
  },
  {
   "cell_type": "code",
   "execution_count": 9,
   "id": "20009df8",
   "metadata": {
    "deletable": false,
    "id": "20009df8"
   },
   "outputs": [],
   "source": [
    "data = data[(data['children'] != -1) & (data['children'] != 20)]"
   ]
  },
  {
   "cell_type": "markdown",
   "id": "8c6ac9f1",
   "metadata": {
    "deletable": false,
    "editable": false,
    "id": "8c6ac9f1"
   },
   "source": [
    "**Задание 10. Ещё раз выведите перечень уникальных значений столбца `children`, чтобы убедиться, что артефакты удалены.**"
   ]
  },
  {
   "cell_type": "code",
   "execution_count": 10,
   "id": "07337b81",
   "metadata": {
    "deletable": false,
    "id": "07337b81",
    "outputId": "b2097101-d49d-44d9-901b-32a65c9463d1"
   },
   "outputs": [
    {
     "data": {
      "text/plain": [
       "array([1, 0, 3, 2, 4, 5])"
      ]
     },
     "execution_count": 10,
     "metadata": {},
     "output_type": "execute_result"
    }
   ],
   "source": [
    "data['children'].unique()"
   ]
  },
  {
   "cell_type": "markdown",
   "id": "ee3f52d4",
   "metadata": {
    "deletable": false,
    "editable": false,
    "id": "ee3f52d4"
   },
   "source": [
    "### Удаление пропусков (продолжение)"
   ]
  },
  {
   "cell_type": "markdown",
   "id": "a700b0e4",
   "metadata": {
    "deletable": false,
    "editable": false,
    "id": "a700b0e4"
   },
   "source": [
    "**Задание 11. Заполните пропуски в столбце `days_employed` медианными значениями по каждого типа занятости `income_type`.**"
   ]
  },
  {
   "cell_type": "code",
   "execution_count": 11,
   "id": "61946b83",
   "metadata": {
    "deletable": false,
    "id": "61946b83"
   },
   "outputs": [],
   "source": [
    "for t in data['income_type'].unique():\n",
    "    data.loc[(data['income_type'] == t) & (data['days_employed'].isna()), 'days_employed'] = \\\n",
    "    data.loc[(data['income_type'] == t), 'days_employed'].median()"
   ]
  },
  {
   "cell_type": "markdown",
   "id": "550dcd9b",
   "metadata": {
    "deletable": false,
    "editable": false,
    "id": "550dcd9b"
   },
   "source": [
    "**Задание 12. Убедитесь, что все пропуски заполнены. Проверьте себя и ещё раз выведите количество пропущенных значений для каждого столбца с помощью двух методов.**"
   ]
  },
  {
   "cell_type": "code",
   "execution_count": 12,
   "id": "937c7014",
   "metadata": {
    "deletable": false,
    "id": "937c7014",
    "outputId": "8da1e4e1-358e-4e87-98c9-f261bce0a7b2"
   },
   "outputs": [
    {
     "data": {
      "text/plain": [
       "children            0\n",
       "days_employed       0\n",
       "dob_years           0\n",
       "education           0\n",
       "education_id        0\n",
       "family_status       0\n",
       "family_status_id    0\n",
       "gender              0\n",
       "income_type         0\n",
       "debt                0\n",
       "total_income        0\n",
       "purpose             0\n",
       "dtype: int64"
      ]
     },
     "execution_count": 12,
     "metadata": {},
     "output_type": "execute_result"
    }
   ],
   "source": [
    "data.isna().sum()"
   ]
  },
  {
   "cell_type": "markdown",
   "id": "d522e295",
   "metadata": {
    "deletable": false,
    "editable": false,
    "id": "d522e295"
   },
   "source": [
    "### Изменение типов данных"
   ]
  },
  {
   "cell_type": "markdown",
   "id": "c229c581",
   "metadata": {
    "deletable": false,
    "editable": false,
    "id": "c229c581"
   },
   "source": [
    "**Задание 13. Замените вещественный тип данных в столбце `total_income` на целочисленный с помощью метода `astype()`.**"
   ]
  },
  {
   "cell_type": "code",
   "execution_count": 13,
   "id": "31036462",
   "metadata": {
    "deletable": false,
    "id": "31036462"
   },
   "outputs": [],
   "source": [
    "data['total_income'] = data['total_income'].astype(int)"
   ]
  },
  {
   "cell_type": "markdown",
   "id": "b8e3d1d9",
   "metadata": {
    "deletable": false,
    "editable": false,
    "id": "b8e3d1d9"
   },
   "source": [
    "### Обработка дубликатов"
   ]
  },
  {
   "cell_type": "markdown",
   "id": "9be53c49",
   "metadata": {
    "deletable": false,
    "editable": false,
    "id": "9be53c49"
   },
   "source": [
    "**Задание 14. Обработайте неявные дубликаты в столбце `education`. В этом столбце есть одни и те же значения, но записанные по-разному: с использованием заглавных и строчных букв. Приведите их к нижнему регистру.**"
   ]
  },
  {
   "cell_type": "code",
   "execution_count": 14,
   "id": "d89e73e1",
   "metadata": {
    "deletable": false,
    "id": "d89e73e1"
   },
   "outputs": [],
   "source": [
    "data['education'] = data['education'].str.lower()"
   ]
  },
  {
   "cell_type": "markdown",
   "id": "01d4500e",
   "metadata": {
    "deletable": false,
    "editable": false,
    "id": "01d4500e"
   },
   "source": [
    "**Задание 15. Выведите на экран количество строк-дубликатов в данных. Если такие строки присутствуют, удалите их.**"
   ]
  },
  {
   "cell_type": "code",
   "execution_count": 15,
   "id": "e10efb23",
   "metadata": {
    "deletable": false,
    "id": "e10efb23",
    "outputId": "9684deba-1934-42d1-99e1-cda61740f822"
   },
   "outputs": [
    {
     "data": {
      "text/plain": [
       "71"
      ]
     },
     "execution_count": 15,
     "metadata": {},
     "output_type": "execute_result"
    }
   ],
   "source": [
    "data.duplicated().sum()"
   ]
  },
  {
   "cell_type": "code",
   "execution_count": 16,
   "id": "df853f20",
   "metadata": {
    "deletable": false,
    "id": "df853f20"
   },
   "outputs": [],
   "source": [
    "data = data.drop_duplicates()"
   ]
  },
  {
   "cell_type": "markdown",
   "id": "627be38f",
   "metadata": {
    "deletable": false,
    "editable": false,
    "id": "627be38f"
   },
   "source": [
    "### Категоризация данных"
   ]
  },
  {
   "cell_type": "markdown",
   "id": "4684c3e0",
   "metadata": {
    "deletable": false,
    "editable": false,
    "id": "4684c3e0"
   },
   "source": [
    "**Задание 16. На основании диапазонов, указанных ниже, создайте в датафрейме `data` столбец `total_income_category` с категориями:**\n",
    "\n",
    "- 0–30000 — `'E'`;\n",
    "- 30001–50000 — `'D'`;\n",
    "- 50001–200000 — `'C'`;\n",
    "- 200001–1000000 — `'B'`;\n",
    "- 1000001 и выше — `'A'`.\n",
    "\n",
    "\n",
    "**Например, кредитополучателю с доходом 25000 нужно назначить категорию `'E'`, а клиенту, получающему 235000, — `'B'`. Используйте собственную функцию с именем `categorize_income()` и метод `apply()`.**"
   ]
  },
  {
   "cell_type": "code",
   "execution_count": 17,
   "id": "78965238",
   "metadata": {
    "deletable": false,
    "id": "78965238"
   },
   "outputs": [],
   "source": [
    "def categorize_income(income):\n",
    "    try:\n",
    "        if 0 <= income <= 30000:\n",
    "            return 'E'\n",
    "        elif 30001 <= income <= 50000:\n",
    "            return 'D'\n",
    "        elif 50001 <= income <= 200000:\n",
    "            return 'C'\n",
    "        elif 200001 <= income <= 1000000:\n",
    "            return 'B'\n",
    "        elif income >= 1000001:\n",
    "            return 'A'\n",
    "    except:\n",
    "        pass"
   ]
  },
  {
   "cell_type": "code",
   "execution_count": 18,
   "id": "0980ada1",
   "metadata": {
    "deletable": false,
    "id": "0980ada1"
   },
   "outputs": [],
   "source": [
    "data['total_income_category'] = data['total_income'].apply(categorize_income)"
   ]
  },
  {
   "cell_type": "markdown",
   "id": "9917bba0",
   "metadata": {
    "deletable": false,
    "editable": false,
    "id": "9917bba0"
   },
   "source": [
    "**Задание 17. Выведите на экран перечень уникальных целей взятия кредита из столбца `purpose`.**"
   ]
  },
  {
   "cell_type": "code",
   "execution_count": 19,
   "id": "ee07b65e",
   "metadata": {
    "deletable": false,
    "id": "ee07b65e",
    "outputId": "673c12d9-7d7e-4ae0-9812-c622c89dd244"
   },
   "outputs": [
    {
     "data": {
      "text/plain": [
       "array(['покупка жилья', 'приобретение автомобиля',\n",
       "       'дополнительное образование', 'сыграть свадьбу',\n",
       "       'операции с жильем', 'образование', 'на проведение свадьбы',\n",
       "       'покупка жилья для семьи', 'покупка недвижимости',\n",
       "       'покупка коммерческой недвижимости', 'покупка жилой недвижимости',\n",
       "       'строительство собственной недвижимости', 'недвижимость',\n",
       "       'строительство недвижимости', 'на покупку подержанного автомобиля',\n",
       "       'на покупку своего автомобиля',\n",
       "       'операции с коммерческой недвижимостью',\n",
       "       'строительство жилой недвижимости', 'жилье',\n",
       "       'операции со своей недвижимостью', 'автомобили',\n",
       "       'заняться образованием', 'сделка с подержанным автомобилем',\n",
       "       'получение образования', 'автомобиль', 'свадьба',\n",
       "       'получение дополнительного образования', 'покупка своего жилья',\n",
       "       'операции с недвижимостью', 'получение высшего образования',\n",
       "       'свой автомобиль', 'сделка с автомобилем',\n",
       "       'профильное образование', 'высшее образование',\n",
       "       'покупка жилья для сдачи', 'на покупку автомобиля', 'ремонт жилью',\n",
       "       'заняться высшим образованием'], dtype=object)"
      ]
     },
     "execution_count": 19,
     "metadata": {},
     "output_type": "execute_result"
    }
   ],
   "source": [
    "data['purpose'].unique()"
   ]
  },
  {
   "cell_type": "markdown",
   "id": "52b79d56",
   "metadata": {
    "deletable": false,
    "editable": false,
    "id": "52b79d56"
   },
   "source": [
    "**Задание 18. Создайте функцию, которая на основании данных из столбца `purpose` сформирует новый столбец `purpose_category`, в который войдут следующие категории:**\n",
    "\n",
    "- `'операции с автомобилем'`,\n",
    "- `'операции с недвижимостью'`,\n",
    "- `'проведение свадьбы'`,\n",
    "- `'получение образования'`.\n",
    "\n",
    "**Например, если в столбце `purpose` находится подстрока `'на покупку автомобиля'`, то в столбце `purpose_category` должна появиться строка `'операции с автомобилем'`.**\n",
    "\n",
    "**Используйте собственную функцию с именем `categorize_purpose()` и метод `apply()`. Изучите данные в столбце `purpose` и определите, какие подстроки помогут вам правильно определить категорию.**"
   ]
  },
  {
   "cell_type": "code",
   "execution_count": 20,
   "id": "be41da5d",
   "metadata": {
    "deletable": false,
    "id": "be41da5d"
   },
   "outputs": [],
   "source": [
    "def categorize_purpose(row):\n",
    "    try:\n",
    "        if 'автом' in row:\n",
    "            return 'операции с автомобилем'\n",
    "        elif 'жил' in row or 'недвиж' in row:\n",
    "            return 'операции с недвижимостью'\n",
    "        elif 'свад' in row:\n",
    "            return 'проведение свадьбы'\n",
    "        elif 'образов' in row:\n",
    "            return 'получение образования'\n",
    "    except:\n",
    "        return 'нет категории'"
   ]
  },
  {
   "cell_type": "code",
   "execution_count": 21,
   "id": "94c4a19a",
   "metadata": {
    "deletable": false,
    "id": "94c4a19a"
   },
   "outputs": [],
   "source": [
    "data['purpose_category'] = data['purpose'].apply(categorize_purpose)"
   ]
  },
  {
   "cell_type": "markdown",
   "id": "3d596c34",
   "metadata": {
    "deletable": false,
    "editable": false,
    "id": "3d596c34"
   },
   "source": [
    "### Шаг 3. Исследуйте данные и ответьте на вопросы"
   ]
  },
  {
   "cell_type": "markdown",
   "id": "648db036",
   "metadata": {
    "deletable": false,
    "editable": false,
    "id": "648db036"
   },
   "source": [
    "#### 3.1 Есть ли зависимость между количеством детей и возвратом кредита в срок?"
   ]
  },
  {
   "cell_type": "code",
   "execution_count": 22,
   "id": "1c0ff76e",
   "metadata": {
    "deletable": false,
    "id": "7fcff25e"
   },
   "outputs": [
    {
     "data": {
      "text/html": [
       "<div>\n",
       "<style scoped>\n",
       "    .dataframe tbody tr th:only-of-type {\n",
       "        vertical-align: middle;\n",
       "    }\n",
       "\n",
       "    .dataframe tbody tr th {\n",
       "        vertical-align: top;\n",
       "    }\n",
       "\n",
       "    .dataframe thead th {\n",
       "        text-align: right;\n",
       "    }\n",
       "</style>\n",
       "<table border=\"1\" class=\"dataframe\">\n",
       "  <thead>\n",
       "    <tr style=\"text-align: right;\">\n",
       "      <th></th>\n",
       "      <th>no_debt</th>\n",
       "      <th>debt</th>\n",
       "      <th>share_of_debtors</th>\n",
       "    </tr>\n",
       "    <tr>\n",
       "      <th>children</th>\n",
       "      <th></th>\n",
       "      <th></th>\n",
       "      <th></th>\n",
       "    </tr>\n",
       "  </thead>\n",
       "  <tbody>\n",
       "    <tr>\n",
       "      <th>5</th>\n",
       "      <td>9.0</td>\n",
       "      <td>NaN</td>\n",
       "      <td>nan%</td>\n",
       "    </tr>\n",
       "    <tr>\n",
       "      <th>4</th>\n",
       "      <td>37.0</td>\n",
       "      <td>4.0</td>\n",
       "      <td>9.76%</td>\n",
       "    </tr>\n",
       "    <tr>\n",
       "      <th>2</th>\n",
       "      <td>1858.0</td>\n",
       "      <td>194.0</td>\n",
       "      <td>9.45%</td>\n",
       "    </tr>\n",
       "    <tr>\n",
       "      <th>1</th>\n",
       "      <td>4364.0</td>\n",
       "      <td>444.0</td>\n",
       "      <td>9.23%</td>\n",
       "    </tr>\n",
       "    <tr>\n",
       "      <th>3</th>\n",
       "      <td>303.0</td>\n",
       "      <td>27.0</td>\n",
       "      <td>8.18%</td>\n",
       "    </tr>\n",
       "    <tr>\n",
       "      <th>0</th>\n",
       "      <td>13028.0</td>\n",
       "      <td>1063.0</td>\n",
       "      <td>7.54%</td>\n",
       "    </tr>\n",
       "  </tbody>\n",
       "</table>\n",
       "</div>"
      ],
      "text/plain": [
       "          no_debt    debt share_of_debtors\n",
       "children                                  \n",
       "5             9.0     NaN             nan%\n",
       "4            37.0     4.0            9.76%\n",
       "2          1858.0   194.0            9.45%\n",
       "1          4364.0   444.0            9.23%\n",
       "3           303.0    27.0            8.18%\n",
       "0         13028.0  1063.0            7.54%"
      ]
     },
     "execution_count": 22,
     "metadata": {},
     "output_type": "execute_result"
    }
   ],
   "source": [
    "# Создаем таблицу методом pivot_table()\n",
    "debt_children = data.pivot_table(index='children', columns='debt', values='gender', aggfunc='count')\n",
    "# Создаем столбцы\n",
    "debt_children.columns = ['no_debt', 'debt']\n",
    "# Считаем долю должников\n",
    "debt_children['share_of_debtors'] = debt_children['debt'] / (debt_children['debt'] + debt_children['no_debt'])\n",
    "# Переводим значения в столбце доля дожников в проценты\n",
    "debt_children['share_of_debtors'] = debt_children['share_of_debtors'].map('{:.2%}'.format)\n",
    "# Сортируем по столбцу доля лолжников по убыванию\n",
    "debt_children.sort_values(by='share_of_debtors', ascending=False)"
   ]
  },
  {
   "cell_type": "code",
   "execution_count": 29,
   "id": "62a70724",
   "metadata": {},
   "outputs": [
    {
     "data": {
      "text/html": [
       "<div>\n",
       "<style scoped>\n",
       "    .dataframe tbody tr th:only-of-type {\n",
       "        vertical-align: middle;\n",
       "    }\n",
       "\n",
       "    .dataframe tbody tr th {\n",
       "        vertical-align: top;\n",
       "    }\n",
       "\n",
       "    .dataframe thead tr th {\n",
       "        text-align: left;\n",
       "    }\n",
       "\n",
       "    .dataframe thead tr:last-of-type th {\n",
       "        text-align: right;\n",
       "    }\n",
       "</style>\n",
       "<table border=\"1\" class=\"dataframe\">\n",
       "  <thead>\n",
       "    <tr>\n",
       "      <th></th>\n",
       "      <th>count</th>\n",
       "      <th>sum</th>\n",
       "      <th>mean</th>\n",
       "    </tr>\n",
       "    <tr>\n",
       "      <th></th>\n",
       "      <th>debt</th>\n",
       "      <th>debt</th>\n",
       "      <th>debt</th>\n",
       "    </tr>\n",
       "    <tr>\n",
       "      <th>children</th>\n",
       "      <th></th>\n",
       "      <th></th>\n",
       "      <th></th>\n",
       "    </tr>\n",
       "  </thead>\n",
       "  <tbody>\n",
       "    <tr>\n",
       "      <th>0</th>\n",
       "      <td>14091</td>\n",
       "      <td>1063</td>\n",
       "      <td>0.075438</td>\n",
       "    </tr>\n",
       "    <tr>\n",
       "      <th>1</th>\n",
       "      <td>4808</td>\n",
       "      <td>444</td>\n",
       "      <td>0.092346</td>\n",
       "    </tr>\n",
       "    <tr>\n",
       "      <th>2</th>\n",
       "      <td>2052</td>\n",
       "      <td>194</td>\n",
       "      <td>0.094542</td>\n",
       "    </tr>\n",
       "    <tr>\n",
       "      <th>3</th>\n",
       "      <td>330</td>\n",
       "      <td>27</td>\n",
       "      <td>0.081818</td>\n",
       "    </tr>\n",
       "    <tr>\n",
       "      <th>4</th>\n",
       "      <td>41</td>\n",
       "      <td>4</td>\n",
       "      <td>0.097561</td>\n",
       "    </tr>\n",
       "    <tr>\n",
       "      <th>5</th>\n",
       "      <td>9</td>\n",
       "      <td>0</td>\n",
       "      <td>0.000000</td>\n",
       "    </tr>\n",
       "  </tbody>\n",
       "</table>\n",
       "</div>"
      ],
      "text/plain": [
       "          count   sum      mean\n",
       "           debt  debt      debt\n",
       "children                       \n",
       "0         14091  1063  0.075438\n",
       "1          4808   444  0.092346\n",
       "2          2052   194  0.094542\n",
       "3           330    27  0.081818\n",
       "4            41     4  0.097561\n",
       "5             9     0  0.000000"
      ]
     },
     "execution_count": 29,
     "metadata": {},
     "output_type": "execute_result"
    }
   ],
   "source": [
    "data.pivot_table(index='children', values='debt', aggfunc=['count', 'sum', 'mean'])"
   ]
  },
  {
   "cell_type": "markdown",
   "id": "a590d0e2",
   "metadata": {
    "deletable": false,
    "id": "2eb9088e"
   },
   "source": [
    "**Вывод:** В результате исследования, по моим данным приведенным в таблице, можно предположить, что количество детей влияет на задолженость. Чем больше детей тем больше они тратят денег, однако данные показывают что у кого 5 детей они возвращают кредит вовремя, это мнение может быть ошибочно из-за того что или данных недостаточно или существует поддержка многодетных семей."
   ]
  },
  {
   "cell_type": "markdown",
   "id": "74c9b3a7",
   "metadata": {
    "deletable": false,
    "editable": false,
    "id": "74c9b3a7"
   },
   "source": [
    "#### 3.2 Есть ли зависимость между семейным положением и возвратом кредита в срок?"
   ]
  },
  {
   "cell_type": "code",
   "execution_count": 23,
   "id": "8098ab3b",
   "metadata": {
    "deletable": false,
    "id": "8098ab3b"
   },
   "outputs": [
    {
     "data": {
      "text/html": [
       "<div>\n",
       "<style scoped>\n",
       "    .dataframe tbody tr th:only-of-type {\n",
       "        vertical-align: middle;\n",
       "    }\n",
       "\n",
       "    .dataframe tbody tr th {\n",
       "        vertical-align: top;\n",
       "    }\n",
       "\n",
       "    .dataframe thead th {\n",
       "        text-align: right;\n",
       "    }\n",
       "</style>\n",
       "<table border=\"1\" class=\"dataframe\">\n",
       "  <thead>\n",
       "    <tr style=\"text-align: right;\">\n",
       "      <th></th>\n",
       "      <th>no_debt</th>\n",
       "      <th>debt</th>\n",
       "      <th>share_of_debtors</th>\n",
       "    </tr>\n",
       "    <tr>\n",
       "      <th>family_status</th>\n",
       "      <th></th>\n",
       "      <th></th>\n",
       "      <th></th>\n",
       "    </tr>\n",
       "  </thead>\n",
       "  <tbody>\n",
       "    <tr>\n",
       "      <th>Не женат / не замужем</th>\n",
       "      <td>2523</td>\n",
       "      <td>273</td>\n",
       "      <td>9.76%</td>\n",
       "    </tr>\n",
       "    <tr>\n",
       "      <th>гражданский брак</th>\n",
       "      <td>3749</td>\n",
       "      <td>385</td>\n",
       "      <td>9.31%</td>\n",
       "    </tr>\n",
       "    <tr>\n",
       "      <th>женат / замужем</th>\n",
       "      <td>11334</td>\n",
       "      <td>927</td>\n",
       "      <td>7.56%</td>\n",
       "    </tr>\n",
       "    <tr>\n",
       "      <th>в разводе</th>\n",
       "      <td>1105</td>\n",
       "      <td>84</td>\n",
       "      <td>7.06%</td>\n",
       "    </tr>\n",
       "    <tr>\n",
       "      <th>вдовец / вдова</th>\n",
       "      <td>888</td>\n",
       "      <td>63</td>\n",
       "      <td>6.62%</td>\n",
       "    </tr>\n",
       "  </tbody>\n",
       "</table>\n",
       "</div>"
      ],
      "text/plain": [
       "                       no_debt  debt share_of_debtors\n",
       "family_status                                        \n",
       "Не женат / не замужем     2523   273            9.76%\n",
       "гражданский брак          3749   385            9.31%\n",
       "женат / замужем          11334   927            7.56%\n",
       "в разводе                 1105    84            7.06%\n",
       "вдовец / вдова             888    63            6.62%"
      ]
     },
     "execution_count": 23,
     "metadata": {},
     "output_type": "execute_result"
    }
   ],
   "source": [
    "# Создаем таблицу методом pivot_table()\n",
    "debt_family = data.pivot_table(index='family_status', columns='debt', values='gender', aggfunc='count')\n",
    "# Создаем столбцы\n",
    "debt_family.columns = ['no_debt', 'debt']\n",
    "# Считаем долю должников\n",
    "debt_family['share_of_debtors'] = debt_family['debt'] / (debt_family['debt'] + debt_family['no_debt'])\n",
    "# Переводим значения в столбце доля дожников в проценты\n",
    "debt_family['share_of_debtors'] = debt_family['share_of_debtors'].map('{:.2%}'.format)\n",
    "# Сортируем по столбцу доля лолжников по убыванию\n",
    "debt_family.sort_values(by='share_of_debtors', ascending=False)"
   ]
  },
  {
   "cell_type": "markdown",
   "id": "c389ca63",
   "metadata": {
    "deletable": false,
    "id": "c389ca63"
   },
   "source": [
    "**Вывод:** В результате исследования, по моим данным приведенным в таблице, можно предположить, что люди не состоящие в офециальном и гражданском браке имеют больший процент невозвратов по кредиту в срок."
   ]
  },
  {
   "cell_type": "markdown",
   "id": "9529de68",
   "metadata": {
    "deletable": false,
    "editable": false,
    "id": "9529de68"
   },
   "source": [
    "#### 3.3 Есть ли зависимость между уровнем дохода и возвратом кредита в срок?"
   ]
  },
  {
   "cell_type": "markdown",
   "id": "b29d8161",
   "metadata": {},
   "source": [
    "**Ранее создали в датафрейме `data` столбец `total_income_category` с категориями:**\n",
    "\n",
    "- 0–30000 — `'E'`;\n",
    "- 30001–50000 — `'D'`;\n",
    "- 50001–200000 — `'C'`;\n",
    "- 200001–1000000 — `'B'`;\n",
    "- 1000001 и выше — `'A'`."
   ]
  },
  {
   "cell_type": "code",
   "execution_count": 24,
   "id": "8787f44a",
   "metadata": {
    "deletable": false,
    "id": "8787f44a"
   },
   "outputs": [
    {
     "data": {
      "text/html": [
       "<div>\n",
       "<style scoped>\n",
       "    .dataframe tbody tr th:only-of-type {\n",
       "        vertical-align: middle;\n",
       "    }\n",
       "\n",
       "    .dataframe tbody tr th {\n",
       "        vertical-align: top;\n",
       "    }\n",
       "\n",
       "    .dataframe thead th {\n",
       "        text-align: right;\n",
       "    }\n",
       "</style>\n",
       "<table border=\"1\" class=\"dataframe\">\n",
       "  <thead>\n",
       "    <tr style=\"text-align: right;\">\n",
       "      <th></th>\n",
       "      <th>no_debt</th>\n",
       "      <th>debt</th>\n",
       "      <th>share_of_debtors</th>\n",
       "    </tr>\n",
       "    <tr>\n",
       "      <th>total_income_category</th>\n",
       "      <th></th>\n",
       "      <th></th>\n",
       "      <th></th>\n",
       "    </tr>\n",
       "  </thead>\n",
       "  <tbody>\n",
       "    <tr>\n",
       "      <th>E</th>\n",
       "      <td>20</td>\n",
       "      <td>2</td>\n",
       "      <td>9.09%</td>\n",
       "    </tr>\n",
       "    <tr>\n",
       "      <th>C</th>\n",
       "      <td>14568</td>\n",
       "      <td>1353</td>\n",
       "      <td>8.50%</td>\n",
       "    </tr>\n",
       "    <tr>\n",
       "      <th>A</th>\n",
       "      <td>23</td>\n",
       "      <td>2</td>\n",
       "      <td>8.00%</td>\n",
       "    </tr>\n",
       "    <tr>\n",
       "      <th>B</th>\n",
       "      <td>4660</td>\n",
       "      <td>354</td>\n",
       "      <td>7.06%</td>\n",
       "    </tr>\n",
       "    <tr>\n",
       "      <th>D</th>\n",
       "      <td>328</td>\n",
       "      <td>21</td>\n",
       "      <td>6.02%</td>\n",
       "    </tr>\n",
       "  </tbody>\n",
       "</table>\n",
       "</div>"
      ],
      "text/plain": [
       "                       no_debt  debt share_of_debtors\n",
       "total_income_category                                \n",
       "E                           20     2            9.09%\n",
       "C                        14568  1353            8.50%\n",
       "A                           23     2            8.00%\n",
       "B                         4660   354            7.06%\n",
       "D                          328    21            6.02%"
      ]
     },
     "execution_count": 24,
     "metadata": {},
     "output_type": "execute_result"
    }
   ],
   "source": [
    "# Создаем таблицу методом pivot_table()\n",
    "debt_total_income = data.pivot_table(index='total_income_category', columns='debt', values='gender', aggfunc='count')\n",
    "# Создаем столбцы\n",
    "debt_total_income.columns = ['no_debt', 'debt']\n",
    "# Считаем долю должников\n",
    "debt_total_income['share_of_debtors'] = debt_total_income['debt'] / (debt_total_income['debt'] + debt_total_income['no_debt'])\n",
    "# Переводим значения в столбце доля дожников в проценты\n",
    "debt_total_income['share_of_debtors'] = debt_total_income['share_of_debtors'].map('{:.2%}'.format)\n",
    "# Сортируем по столбцу доля лолжников по убыванию\n",
    "debt_total_income.sort_values(by='share_of_debtors', ascending=False)"
   ]
  },
  {
   "cell_type": "markdown",
   "id": "6dd14b57",
   "metadata": {
    "deletable": false,
    "id": "6dd14b57"
   },
   "source": [
    "**Вывод:** В результате исследования, по моим данным приведенным в таблице, можно предположить, что зависимость существует между уровнем дохода и возвратом кредита в срок.\n",
    "Категории Е А D недостаточно данных для анализа. У людей с зарплатой от 50000 до 200000 больше шансов стать должниками чем у людей с зарплатой от 200000 до 1000000. Но и то это слишко большой разброс.\n"
   ]
  },
  {
   "cell_type": "markdown",
   "id": "10041056",
   "metadata": {},
   "source": [
    "**Изменим функцию которую создавали рание, и построим новую таблицу**\n"
   ]
  },
  {
   "cell_type": "code",
   "execution_count": 25,
   "id": "5f1a681e",
   "metadata": {},
   "outputs": [],
   "source": [
    "def categorize_income(income):\n",
    "    try:\n",
    "        if 0 <= income <= 50000:\n",
    "            return 'E'\n",
    "        elif 50001 <= income <= 100000:\n",
    "            return 'D'\n",
    "        elif 100001 <= income <= 150000:\n",
    "            return 'C'\n",
    "        elif 150001 <= income <= 200000:\n",
    "            return 'B'\n",
    "        elif income >= 250001:\n",
    "            return 'A'\n",
    "    except:\n",
    "        pass"
   ]
  },
  {
   "cell_type": "code",
   "execution_count": 26,
   "id": "c04e714e",
   "metadata": {},
   "outputs": [],
   "source": [
    "data['total_income_category'] = data['total_income'].apply(categorize_income)"
   ]
  },
  {
   "cell_type": "code",
   "execution_count": 27,
   "id": "15913eb5",
   "metadata": {},
   "outputs": [
    {
     "data": {
      "text/html": [
       "<div>\n",
       "<style scoped>\n",
       "    .dataframe tbody tr th:only-of-type {\n",
       "        vertical-align: middle;\n",
       "    }\n",
       "\n",
       "    .dataframe tbody tr th {\n",
       "        vertical-align: top;\n",
       "    }\n",
       "\n",
       "    .dataframe thead th {\n",
       "        text-align: right;\n",
       "    }\n",
       "</style>\n",
       "<table border=\"1\" class=\"dataframe\">\n",
       "  <thead>\n",
       "    <tr style=\"text-align: right;\">\n",
       "      <th></th>\n",
       "      <th>no_debt</th>\n",
       "      <th>debt</th>\n",
       "      <th>share_of_debtors</th>\n",
       "    </tr>\n",
       "    <tr>\n",
       "      <th>total_income_category</th>\n",
       "      <th></th>\n",
       "      <th></th>\n",
       "      <th></th>\n",
       "    </tr>\n",
       "  </thead>\n",
       "  <tbody>\n",
       "    <tr>\n",
       "      <th>C</th>\n",
       "      <td>6491</td>\n",
       "      <td>619</td>\n",
       "      <td>8.71%</td>\n",
       "    </tr>\n",
       "    <tr>\n",
       "      <th>B</th>\n",
       "      <td>4335</td>\n",
       "      <td>403</td>\n",
       "      <td>8.51%</td>\n",
       "    </tr>\n",
       "    <tr>\n",
       "      <th>D</th>\n",
       "      <td>3742</td>\n",
       "      <td>331</td>\n",
       "      <td>8.13%</td>\n",
       "    </tr>\n",
       "    <tr>\n",
       "      <th>A</th>\n",
       "      <td>2603</td>\n",
       "      <td>194</td>\n",
       "      <td>6.94%</td>\n",
       "    </tr>\n",
       "    <tr>\n",
       "      <th>E</th>\n",
       "      <td>348</td>\n",
       "      <td>23</td>\n",
       "      <td>6.20%</td>\n",
       "    </tr>\n",
       "  </tbody>\n",
       "</table>\n",
       "</div>"
      ],
      "text/plain": [
       "                       no_debt  debt share_of_debtors\n",
       "total_income_category                                \n",
       "C                         6491   619            8.71%\n",
       "B                         4335   403            8.51%\n",
       "D                         3742   331            8.13%\n",
       "A                         2603   194            6.94%\n",
       "E                          348    23            6.20%"
      ]
     },
     "execution_count": 27,
     "metadata": {},
     "output_type": "execute_result"
    }
   ],
   "source": [
    "# Создаем таблицу методом pivot_table()\n",
    "debt_total_income = data.pivot_table(index='total_income_category', columns='debt', values='gender', aggfunc='count')\n",
    "# Создаем столбцы\n",
    "debt_total_income.columns = ['no_debt', 'debt']\n",
    "# Считаем долю должников\n",
    "debt_total_income['share_of_debtors'] = debt_total_income['debt'] / (debt_total_income['debt'] + debt_total_income['no_debt'])\n",
    "# Переводим значения в столбце доля дожников в проценты\n",
    "debt_total_income['share_of_debtors'] = debt_total_income['share_of_debtors'].map('{:.2%}'.format)\n",
    "# Сортируем по столбцу доля лолжников по убыванию\n",
    "debt_total_income.sort_values(by='share_of_debtors', ascending=False)"
   ]
  },
  {
   "cell_type": "markdown",
   "id": "5f9e8852",
   "metadata": {},
   "source": [
    "**Вывод** На этой таблице мы мидем что у категорий С B  практически одинаковый шанс невозврата так же как и на предыдущей таблице. "
   ]
  },
  {
   "cell_type": "markdown",
   "id": "1dcc9b12",
   "metadata": {
    "deletable": false,
    "editable": false,
    "id": "1dcc9b12"
   },
   "source": [
    "#### 3.4 Как разные цели кредита влияют на его возврат в срок?"
   ]
  },
  {
   "cell_type": "code",
   "execution_count": 28,
   "id": "c602bc8b",
   "metadata": {
    "deletable": false,
    "id": "c602bc8b"
   },
   "outputs": [
    {
     "data": {
      "text/html": [
       "<div>\n",
       "<style scoped>\n",
       "    .dataframe tbody tr th:only-of-type {\n",
       "        vertical-align: middle;\n",
       "    }\n",
       "\n",
       "    .dataframe tbody tr th {\n",
       "        vertical-align: top;\n",
       "    }\n",
       "\n",
       "    .dataframe thead th {\n",
       "        text-align: right;\n",
       "    }\n",
       "</style>\n",
       "<table border=\"1\" class=\"dataframe\">\n",
       "  <thead>\n",
       "    <tr style=\"text-align: right;\">\n",
       "      <th></th>\n",
       "      <th>no_debt</th>\n",
       "      <th>debt</th>\n",
       "      <th>share_of_debtors</th>\n",
       "    </tr>\n",
       "    <tr>\n",
       "      <th>purpose_category</th>\n",
       "      <th></th>\n",
       "      <th></th>\n",
       "      <th></th>\n",
       "    </tr>\n",
       "  </thead>\n",
       "  <tbody>\n",
       "    <tr>\n",
       "      <th>операции с автомобилем</th>\n",
       "      <td>3879</td>\n",
       "      <td>400</td>\n",
       "      <td>9.35%</td>\n",
       "    </tr>\n",
       "    <tr>\n",
       "      <th>получение образования</th>\n",
       "      <td>3619</td>\n",
       "      <td>369</td>\n",
       "      <td>9.25%</td>\n",
       "    </tr>\n",
       "    <tr>\n",
       "      <th>проведение свадьбы</th>\n",
       "      <td>2130</td>\n",
       "      <td>183</td>\n",
       "      <td>7.91%</td>\n",
       "    </tr>\n",
       "    <tr>\n",
       "      <th>операции с недвижимостью</th>\n",
       "      <td>9971</td>\n",
       "      <td>780</td>\n",
       "      <td>7.26%</td>\n",
       "    </tr>\n",
       "  </tbody>\n",
       "</table>\n",
       "</div>"
      ],
      "text/plain": [
       "                          no_debt  debt share_of_debtors\n",
       "purpose_category                                        \n",
       "операции с автомобилем       3879   400            9.35%\n",
       "получение образования        3619   369            9.25%\n",
       "проведение свадьбы           2130   183            7.91%\n",
       "операции с недвижимостью     9971   780            7.26%"
      ]
     },
     "execution_count": 28,
     "metadata": {},
     "output_type": "execute_result"
    }
   ],
   "source": [
    "# Создаем таблицу методом pivot_table()\n",
    "debt_purpose = data.pivot_table(index='purpose_category', columns='debt', values='gender', aggfunc='count')\n",
    "# Создаем столбцы\n",
    "debt_purpose.columns = ['no_debt', 'debt']\n",
    "# Считаем долю должников\n",
    "debt_purpose['share_of_debtors'] = debt_purpose['debt'] / (debt_purpose['debt'] + debt_purpose['no_debt'])\n",
    "# Переводим значения в столбце доля дожников в проценты\n",
    "debt_purpose['share_of_debtors'] = debt_purpose['share_of_debtors'].map('{:.2%}'.format)\n",
    "# Сортируем по столбцу доля лолжников по убыванию\n",
    "debt_purpose.sort_values(by='share_of_debtors', ascending=False)"
   ]
  },
  {
   "cell_type": "markdown",
   "id": "cf05ed63",
   "metadata": {
    "deletable": false,
    "id": "cf05ed63"
   },
   "source": [
    "**Вывод:** В результате исследования, по моим данным приведенным в таблице, можно предположить, что люди берущие кредит на автомобиль и образование, наибольшая вероятность задолжности."
   ]
  },
  {
   "cell_type": "markdown",
   "id": "46c1f10b",
   "metadata": {
    "deletable": false,
    "editable": false,
    "id": "46c1f10b"
   },
   "source": [
    "#### 3.5 Приведите возможные причины появления пропусков в исходных данных."
   ]
  },
  {
   "cell_type": "markdown",
   "id": "3697d2a9",
   "metadata": {
    "deletable": false,
    "id": "3697d2a9"
   },
   "source": [
    "*Ответ:* Пропуски могли возникнуть копировании, считывании, смене формата, или  вызванные человеческим фактором. Возможно сокрытие данных."
   ]
  },
  {
   "cell_type": "markdown",
   "id": "3137d257",
   "metadata": {
    "deletable": false,
    "editable": false,
    "id": "3137d257"
   },
   "source": [
    "#### 3.6 Объясните, почему заполнить пропуски медианным значением — лучшее решение для количественных переменных."
   ]
  },
  {
   "cell_type": "markdown",
   "id": "cf40012a",
   "metadata": {
    "deletable": false,
    "id": "cf40012a"
   },
   "source": [
    "*Ответ:*  Медианное значение более устойчева к разбросам, чем среднее."
   ]
  },
  {
   "cell_type": "markdown",
   "id": "57bc304e",
   "metadata": {
    "deletable": false,
    "editable": false,
    "id": "57bc304e"
   },
   "source": [
    "### Шаг 4: общий вывод."
   ]
  },
  {
   "cell_type": "markdown",
   "id": "1ab75d1c",
   "metadata": {
    "deletable": false,
    "id": "1ab75d1c"
   },
   "source": [
    "1. Количество детей влияет на просрочки.\n",
    "2. Клиенты, побывавшие или находящиеся в официальном браке, реже допускают просрочки по кредитам.\n",
    "3. У людей с зарплатой от 50000 до 200000 больше шансов стать должниками. Но тут данных недостаточно может из-за того что с маленькой зарплатой реже дают кредит.\n",
    "4. Люди берущие кредит на автомобиль и образование, наибольшая вероятность задолжности."
   ]
  },
  {
   "cell_type": "code",
   "execution_count": null,
   "id": "94c3b562",
   "metadata": {},
   "outputs": [],
   "source": []
  }
 ],
 "metadata": {
  "ExecuteTimeLog": [
   {
    "duration": 48,
    "start_time": "2023-03-22T17:04:48.247Z"
   },
   {
    "duration": 3,
    "start_time": "2023-03-22T17:04:51.207Z"
   },
   {
    "duration": 6,
    "start_time": "2023-03-22T17:04:51.549Z"
   },
   {
    "duration": 9,
    "start_time": "2023-03-22T17:05:55.562Z"
   },
   {
    "duration": 6,
    "start_time": "2023-03-22T17:05:59.015Z"
   },
   {
    "duration": 515,
    "start_time": "2023-03-22T17:06:28.415Z"
   },
   {
    "duration": 22,
    "start_time": "2023-03-22T17:06:28.932Z"
   },
   {
    "duration": 14,
    "start_time": "2023-03-22T17:06:28.956Z"
   },
   {
    "duration": 9,
    "start_time": "2023-03-22T17:06:28.972Z"
   },
   {
    "duration": 49,
    "start_time": "2023-03-22T17:06:28.983Z"
   },
   {
    "duration": 4,
    "start_time": "2023-03-22T17:06:29.033Z"
   },
   {
    "duration": 9,
    "start_time": "2023-03-22T17:06:29.038Z"
   },
   {
    "duration": 4,
    "start_time": "2023-03-22T17:06:29.049Z"
   },
   {
    "duration": 8,
    "start_time": "2023-03-22T17:06:29.054Z"
   },
   {
    "duration": 5,
    "start_time": "2023-03-22T17:06:29.064Z"
   },
   {
    "duration": 62,
    "start_time": "2023-03-22T17:06:29.070Z"
   },
   {
    "duration": 10,
    "start_time": "2023-03-22T17:06:29.134Z"
   },
   {
    "duration": 11,
    "start_time": "2023-03-22T17:06:29.145Z"
   },
   {
    "duration": 13,
    "start_time": "2023-03-22T17:06:29.158Z"
   },
   {
    "duration": 24,
    "start_time": "2023-03-22T17:06:29.175Z"
   },
   {
    "duration": 34,
    "start_time": "2023-03-22T17:06:29.201Z"
   },
   {
    "duration": 4,
    "start_time": "2023-03-22T17:06:29.236Z"
   },
   {
    "duration": 12,
    "start_time": "2023-03-22T17:06:29.241Z"
   },
   {
    "duration": 8,
    "start_time": "2023-03-22T17:06:29.254Z"
   },
   {
    "duration": 4,
    "start_time": "2023-03-22T17:06:29.263Z"
   },
   {
    "duration": 12,
    "start_time": "2023-03-22T17:06:29.268Z"
   },
   {
    "duration": 3,
    "start_time": "2023-03-22T17:06:29.281Z"
   },
   {
    "duration": 8,
    "start_time": "2023-03-22T17:06:29.286Z"
   },
   {
    "duration": 28,
    "start_time": "2023-03-22T17:06:29.295Z"
   },
   {
    "duration": 3,
    "start_time": "2023-03-22T17:06:29.325Z"
   },
   {
    "duration": 9,
    "start_time": "2023-03-22T17:06:37.777Z"
   },
   {
    "duration": 3,
    "start_time": "2023-03-22T17:06:40.439Z"
   },
   {
    "duration": 50,
    "start_time": "2023-03-23T08:00:19.996Z"
   },
   {
    "duration": 6,
    "start_time": "2023-03-23T08:01:34.760Z"
   },
   {
    "duration": 6,
    "start_time": "2023-03-23T08:04:15.159Z"
   },
   {
    "duration": 6,
    "start_time": "2023-03-23T08:05:55.114Z"
   },
   {
    "duration": 545,
    "start_time": "2023-03-23T08:06:10.187Z"
   },
   {
    "duration": 23,
    "start_time": "2023-03-23T08:06:10.984Z"
   },
   {
    "duration": 15,
    "start_time": "2023-03-23T08:06:12.646Z"
   },
   {
    "duration": 9,
    "start_time": "2023-03-23T08:06:13.724Z"
   },
   {
    "duration": 46,
    "start_time": "2023-03-23T08:06:14.221Z"
   },
   {
    "duration": 4,
    "start_time": "2023-03-23T08:06:14.977Z"
   },
   {
    "duration": 7,
    "start_time": "2023-03-23T08:06:15.344Z"
   },
   {
    "duration": 4,
    "start_time": "2023-03-23T08:06:16.239Z"
   },
   {
    "duration": 6,
    "start_time": "2023-03-23T08:06:17.387Z"
   },
   {
    "duration": 5,
    "start_time": "2023-03-23T08:06:17.977Z"
   },
   {
    "duration": 34,
    "start_time": "2023-03-23T08:06:18.624Z"
   },
   {
    "duration": 12,
    "start_time": "2023-03-23T08:06:19.396Z"
   },
   {
    "duration": 3,
    "start_time": "2023-03-23T08:06:19.581Z"
   },
   {
    "duration": 12,
    "start_time": "2023-03-23T08:06:20.315Z"
   },
   {
    "duration": 22,
    "start_time": "2023-03-23T08:06:20.586Z"
   },
   {
    "duration": 18,
    "start_time": "2023-03-23T08:06:20.679Z"
   },
   {
    "duration": 3,
    "start_time": "2023-03-23T08:06:21.358Z"
   },
   {
    "duration": 10,
    "start_time": "2023-03-23T08:06:21.511Z"
   },
   {
    "duration": 6,
    "start_time": "2023-03-23T08:06:21.867Z"
   },
   {
    "duration": 3,
    "start_time": "2023-03-23T08:06:22.181Z"
   },
   {
    "duration": 8,
    "start_time": "2023-03-23T08:06:22.337Z"
   },
   {
    "duration": 28,
    "start_time": "2023-03-23T08:06:23.116Z"
   },
   {
    "duration": 2,
    "start_time": "2023-03-23T08:06:23.301Z"
   },
   {
    "duration": 15,
    "start_time": "2023-03-23T08:12:56.347Z"
   },
   {
    "duration": 19,
    "start_time": "2023-03-23T08:13:28.159Z"
   },
   {
    "duration": 17,
    "start_time": "2023-03-23T08:19:06.328Z"
   },
   {
    "duration": 45,
    "start_time": "2023-03-23T08:25:51.827Z"
   },
   {
    "duration": 7,
    "start_time": "2023-03-23T08:29:15.331Z"
   },
   {
    "duration": 7,
    "start_time": "2023-03-23T08:29:27.487Z"
   },
   {
    "duration": 9,
    "start_time": "2023-03-23T08:29:52.260Z"
   },
   {
    "duration": 17,
    "start_time": "2023-03-23T08:30:41.161Z"
   },
   {
    "duration": 17,
    "start_time": "2023-03-23T08:31:08.300Z"
   },
   {
    "duration": 122,
    "start_time": "2023-03-23T08:32:12.930Z"
   },
   {
    "duration": 15,
    "start_time": "2023-03-23T08:32:57.880Z"
   },
   {
    "duration": 48,
    "start_time": "2023-03-23T08:33:13.070Z"
   },
   {
    "duration": 23,
    "start_time": "2023-03-23T08:36:40.320Z"
   },
   {
    "duration": 16,
    "start_time": "2023-03-23T08:39:08.440Z"
   },
   {
    "duration": 5,
    "start_time": "2023-03-23T08:46:08.671Z"
   },
   {
    "duration": 50,
    "start_time": "2023-03-23T08:47:37.026Z"
   },
   {
    "duration": 10,
    "start_time": "2023-03-23T08:47:54.425Z"
   },
   {
    "duration": 25,
    "start_time": "2023-03-23T08:49:29.101Z"
   },
   {
    "duration": 7,
    "start_time": "2023-03-23T08:50:37.488Z"
   },
   {
    "duration": 21,
    "start_time": "2023-03-23T08:50:57.997Z"
   },
   {
    "duration": 16,
    "start_time": "2023-03-23T08:52:09.696Z"
   },
   {
    "duration": 18,
    "start_time": "2023-03-23T08:52:40.236Z"
   },
   {
    "duration": 19,
    "start_time": "2023-03-23T08:53:10.229Z"
   },
   {
    "duration": 59,
    "start_time": "2023-03-23T08:54:15.037Z"
   },
   {
    "duration": 14,
    "start_time": "2023-03-23T08:54:19.858Z"
   },
   {
    "duration": 9,
    "start_time": "2023-03-23T08:55:28.935Z"
   },
   {
    "duration": 24,
    "start_time": "2023-03-23T08:55:45.255Z"
   },
   {
    "duration": 10,
    "start_time": "2023-03-23T08:59:17.479Z"
   },
   {
    "duration": 16,
    "start_time": "2023-03-23T08:59:53.664Z"
   },
   {
    "duration": 4,
    "start_time": "2023-03-23T09:00:53.025Z"
   },
   {
    "duration": 4,
    "start_time": "2023-03-23T09:00:53.936Z"
   },
   {
    "duration": 20,
    "start_time": "2023-03-23T09:01:15.238Z"
   },
   {
    "duration": 24,
    "start_time": "2023-03-23T09:01:35.364Z"
   },
   {
    "duration": 31,
    "start_time": "2023-03-23T09:01:54.943Z"
   },
   {
    "duration": 30,
    "start_time": "2023-03-23T09:03:06.108Z"
   },
   {
    "duration": 29,
    "start_time": "2023-03-23T09:03:53.749Z"
   },
   {
    "duration": 31,
    "start_time": "2023-03-23T09:04:17.843Z"
   },
   {
    "duration": 26,
    "start_time": "2023-03-23T09:04:26.642Z"
   },
   {
    "duration": 20,
    "start_time": "2023-03-23T09:04:51.551Z"
   },
   {
    "duration": 23,
    "start_time": "2023-03-23T09:05:13.376Z"
   },
   {
    "duration": 21,
    "start_time": "2023-03-23T09:05:41.139Z"
   },
   {
    "duration": 21,
    "start_time": "2023-03-23T09:05:53.552Z"
   },
   {
    "duration": 20,
    "start_time": "2023-03-23T09:06:15.027Z"
   },
   {
    "duration": 23,
    "start_time": "2023-03-23T09:07:30.997Z"
   },
   {
    "duration": 16,
    "start_time": "2023-03-23T09:08:06.874Z"
   },
   {
    "duration": 94,
    "start_time": "2023-03-23T16:33:33.834Z"
   },
   {
    "duration": 51,
    "start_time": "2023-03-23T16:34:07.677Z"
   },
   {
    "duration": 3,
    "start_time": "2023-03-23T16:35:13.876Z"
   },
   {
    "duration": 5,
    "start_time": "2023-03-23T16:35:32.874Z"
   },
   {
    "duration": 668,
    "start_time": "2023-03-23T16:36:02.408Z"
   },
   {
    "duration": 33,
    "start_time": "2023-03-23T16:36:03.078Z"
   },
   {
    "duration": 12,
    "start_time": "2023-03-23T16:36:03.351Z"
   },
   {
    "duration": 9,
    "start_time": "2023-03-23T16:36:03.929Z"
   },
   {
    "duration": 30,
    "start_time": "2023-03-23T16:36:04.225Z"
   },
   {
    "duration": 9,
    "start_time": "2023-03-23T16:36:04.782Z"
   },
   {
    "duration": 10,
    "start_time": "2023-03-23T16:36:05.078Z"
   },
   {
    "duration": 5,
    "start_time": "2023-03-23T16:36:05.532Z"
   },
   {
    "duration": 6,
    "start_time": "2023-03-23T16:36:05.837Z"
   },
   {
    "duration": 4,
    "start_time": "2023-03-23T16:36:06.097Z"
   },
   {
    "duration": 32,
    "start_time": "2023-03-23T16:36:06.577Z"
   },
   {
    "duration": 9,
    "start_time": "2023-03-23T16:36:06.856Z"
   },
   {
    "duration": 3,
    "start_time": "2023-03-23T16:36:07.297Z"
   },
   {
    "duration": 14,
    "start_time": "2023-03-23T16:36:07.879Z"
   },
   {
    "duration": 18,
    "start_time": "2023-03-23T16:36:08.223Z"
   },
   {
    "duration": 24,
    "start_time": "2023-03-23T16:36:08.378Z"
   },
   {
    "duration": 3,
    "start_time": "2023-03-23T16:36:08.876Z"
   },
   {
    "duration": 18,
    "start_time": "2023-03-23T16:36:08.977Z"
   },
   {
    "duration": 6,
    "start_time": "2023-03-23T16:36:09.812Z"
   },
   {
    "duration": 3,
    "start_time": "2023-03-23T16:36:10.676Z"
   },
   {
    "duration": 8,
    "start_time": "2023-03-23T16:36:11.098Z"
   },
   {
    "duration": 2,
    "start_time": "2023-03-23T16:36:12.542Z"
   },
   {
    "duration": 20,
    "start_time": "2023-03-23T16:36:13.713Z"
   },
   {
    "duration": 27,
    "start_time": "2023-03-23T16:36:32.677Z"
   },
   {
    "duration": 35,
    "start_time": "2023-03-23T16:39:23.717Z"
   },
   {
    "duration": 18,
    "start_time": "2023-03-23T16:39:26.922Z"
   },
   {
    "duration": 18,
    "start_time": "2023-03-23T16:39:31.318Z"
   },
   {
    "duration": 12,
    "start_time": "2023-03-23T16:39:34.096Z"
   },
   {
    "duration": 15,
    "start_time": "2023-03-23T16:39:45.500Z"
   },
   {
    "duration": 12,
    "start_time": "2023-03-23T16:39:48.702Z"
   },
   {
    "duration": 94,
    "start_time": "2023-03-23T16:42:02.404Z"
   },
   {
    "duration": 17,
    "start_time": "2023-03-23T16:47:12.782Z"
   },
   {
    "duration": 6,
    "start_time": "2023-03-23T16:47:39.452Z"
   },
   {
    "duration": 10,
    "start_time": "2023-03-23T16:47:50.757Z"
   },
   {
    "duration": 4,
    "start_time": "2023-03-23T16:48:59.737Z"
   },
   {
    "duration": 5,
    "start_time": "2023-03-23T16:49:08.097Z"
   },
   {
    "duration": 16,
    "start_time": "2023-03-23T17:46:45.736Z"
   },
   {
    "duration": 8,
    "start_time": "2023-03-23T17:46:49.797Z"
   },
   {
    "duration": 18,
    "start_time": "2023-03-23T17:47:07.917Z"
   },
   {
    "duration": 25,
    "start_time": "2023-03-23T17:48:31.279Z"
   },
   {
    "duration": 30,
    "start_time": "2023-03-23T17:50:05.409Z"
   },
   {
    "duration": 1066,
    "start_time": "2023-03-23T17:55:38.573Z"
   },
   {
    "duration": 1003,
    "start_time": "2023-03-23T17:55:49.682Z"
   },
   {
    "duration": 16,
    "start_time": "2023-03-23T17:56:00.322Z"
   },
   {
    "duration": 18,
    "start_time": "2023-03-23T17:56:20.042Z"
   },
   {
    "duration": 29,
    "start_time": "2023-03-23T18:05:25.136Z"
   },
   {
    "duration": 18,
    "start_time": "2023-03-23T18:08:04.230Z"
   },
   {
    "duration": 19,
    "start_time": "2023-03-23T18:32:51.999Z"
   },
   {
    "duration": 19,
    "start_time": "2023-03-23T18:59:24.017Z"
   },
   {
    "duration": 31,
    "start_time": "2023-03-23T19:23:48.352Z"
   },
   {
    "duration": 120,
    "start_time": "2023-03-24T18:53:59.761Z"
   },
   {
    "duration": 1117,
    "start_time": "2023-03-24T18:54:14.361Z"
   },
   {
    "duration": 20,
    "start_time": "2023-03-24T18:54:15.480Z"
   },
   {
    "duration": 12,
    "start_time": "2023-03-24T18:54:15.502Z"
   },
   {
    "duration": 8,
    "start_time": "2023-03-24T18:54:15.516Z"
   },
   {
    "duration": 38,
    "start_time": "2023-03-24T18:54:15.726Z"
   },
   {
    "duration": 3,
    "start_time": "2023-03-24T18:54:16.117Z"
   },
   {
    "duration": 7,
    "start_time": "2023-03-24T18:54:16.400Z"
   },
   {
    "duration": 4,
    "start_time": "2023-03-24T18:54:16.830Z"
   },
   {
    "duration": 6,
    "start_time": "2023-03-24T18:54:17.120Z"
   },
   {
    "duration": 4,
    "start_time": "2023-03-24T18:54:17.397Z"
   },
   {
    "duration": 28,
    "start_time": "2023-03-24T18:54:17.961Z"
   },
   {
    "duration": 9,
    "start_time": "2023-03-24T18:54:18.182Z"
   },
   {
    "duration": 3,
    "start_time": "2023-03-24T18:54:18.626Z"
   },
   {
    "duration": 14,
    "start_time": "2023-03-24T18:54:19.061Z"
   },
   {
    "duration": 17,
    "start_time": "2023-03-24T18:54:19.472Z"
   },
   {
    "duration": 16,
    "start_time": "2023-03-24T18:54:19.628Z"
   },
   {
    "duration": 3,
    "start_time": "2023-03-24T18:54:20.967Z"
   },
   {
    "duration": 8,
    "start_time": "2023-03-24T18:54:21.105Z"
   },
   {
    "duration": 5,
    "start_time": "2023-03-24T18:54:22.034Z"
   },
   {
    "duration": 8,
    "start_time": "2023-03-24T18:54:22.547Z"
   },
   {
    "duration": 8,
    "start_time": "2023-03-24T18:54:22.922Z"
   },
   {
    "duration": 80,
    "start_time": "2023-03-24T18:54:23.805Z"
   },
   {
    "duration": 105,
    "start_time": "2023-03-24T19:00:29.880Z"
   },
   {
    "duration": 4,
    "start_time": "2023-03-24T19:01:51.198Z"
   },
   {
    "duration": 7,
    "start_time": "2023-03-24T19:01:51.793Z"
   },
   {
    "duration": 36,
    "start_time": "2023-03-24T19:01:53.676Z"
   },
   {
    "duration": 374,
    "start_time": "2023-03-24T19:02:29.924Z"
   },
   {
    "duration": 19,
    "start_time": "2023-03-24T19:05:20.817Z"
   },
   {
    "duration": 4,
    "start_time": "2023-03-24T19:13:32.505Z"
   },
   {
    "duration": 8,
    "start_time": "2023-03-24T19:13:37.508Z"
   },
   {
    "duration": 3,
    "start_time": "2023-03-24T19:13:45.463Z"
   },
   {
    "duration": 8,
    "start_time": "2023-03-24T19:13:46.776Z"
   },
   {
    "duration": 3,
    "start_time": "2023-03-24T19:15:17.161Z"
   },
   {
    "duration": 17,
    "start_time": "2023-03-24T19:15:17.844Z"
   },
   {
    "duration": 22,
    "start_time": "2023-03-24T19:15:18.606Z"
   },
   {
    "duration": 5,
    "start_time": "2023-03-24T19:16:12.601Z"
   },
   {
    "duration": 11,
    "start_time": "2023-03-24T19:16:13.301Z"
   },
   {
    "duration": 27,
    "start_time": "2023-03-24T19:16:15.860Z"
   },
   {
    "duration": 22,
    "start_time": "2023-03-24T19:17:53.170Z"
   },
   {
    "duration": 35,
    "start_time": "2023-03-24T19:18:20.373Z"
   },
   {
    "duration": 18,
    "start_time": "2023-03-24T19:22:06.428Z"
   },
   {
    "duration": 6,
    "start_time": "2023-03-24T19:23:43.125Z"
   },
   {
    "duration": 29,
    "start_time": "2023-03-24T19:25:49.780Z"
   },
   {
    "duration": 18,
    "start_time": "2023-03-24T19:26:03.560Z"
   },
   {
    "duration": 7,
    "start_time": "2023-03-24T19:26:22.169Z"
   },
   {
    "duration": 4,
    "start_time": "2023-03-24T19:26:23.171Z"
   },
   {
    "duration": 6,
    "start_time": "2023-03-24T19:26:23.561Z"
   },
   {
    "duration": 3,
    "start_time": "2023-03-24T19:26:23.825Z"
   },
   {
    "duration": 33,
    "start_time": "2023-03-24T19:26:24.238Z"
   },
   {
    "duration": 12,
    "start_time": "2023-03-24T19:26:24.533Z"
   },
   {
    "duration": 13,
    "start_time": "2023-03-24T19:26:24.947Z"
   },
   {
    "duration": 10,
    "start_time": "2023-03-24T19:26:25.376Z"
   },
   {
    "duration": 20,
    "start_time": "2023-03-24T19:26:25.674Z"
   },
   {
    "duration": 26,
    "start_time": "2023-03-24T19:26:25.934Z"
   },
   {
    "duration": 3,
    "start_time": "2023-03-24T19:26:26.375Z"
   },
   {
    "duration": 8,
    "start_time": "2023-03-24T19:26:26.493Z"
   },
   {
    "duration": 5,
    "start_time": "2023-03-24T19:26:26.961Z"
   },
   {
    "duration": 3,
    "start_time": "2023-03-24T19:26:27.233Z"
   },
   {
    "duration": 7,
    "start_time": "2023-03-24T19:26:27.399Z"
   },
   {
    "duration": 18,
    "start_time": "2023-03-24T19:26:27.974Z"
   },
   {
    "duration": 25,
    "start_time": "2023-03-24T19:40:20.741Z"
   },
   {
    "duration": 18,
    "start_time": "2023-03-24T19:40:26.961Z"
   },
   {
    "duration": 3,
    "start_time": "2023-03-24T20:08:25.798Z"
   },
   {
    "duration": 10,
    "start_time": "2023-03-24T20:08:26.862Z"
   },
   {
    "duration": 3,
    "start_time": "2023-03-24T20:10:13.493Z"
   },
   {
    "duration": 10,
    "start_time": "2023-03-24T20:10:14.029Z"
   },
   {
    "duration": 20,
    "start_time": "2023-03-24T20:10:16.469Z"
   },
   {
    "duration": 4,
    "start_time": "2023-03-24T20:11:09.341Z"
   },
   {
    "duration": 12,
    "start_time": "2023-03-24T20:11:09.784Z"
   },
   {
    "duration": 21,
    "start_time": "2023-03-24T20:11:10.368Z"
   },
   {
    "duration": 4,
    "start_time": "2023-03-24T20:13:32.109Z"
   },
   {
    "duration": 8,
    "start_time": "2023-03-24T20:13:32.514Z"
   },
   {
    "duration": 18,
    "start_time": "2023-03-24T20:13:33.077Z"
   },
   {
    "duration": 4,
    "start_time": "2023-03-24T20:14:23.069Z"
   },
   {
    "duration": 4,
    "start_time": "2023-03-24T20:17:02.056Z"
   },
   {
    "duration": 9,
    "start_time": "2023-03-24T20:17:02.393Z"
   },
   {
    "duration": 19,
    "start_time": "2023-03-24T20:17:03.006Z"
   },
   {
    "duration": 3,
    "start_time": "2023-03-24T20:19:08.599Z"
   },
   {
    "duration": 9,
    "start_time": "2023-03-24T20:19:09.204Z"
   },
   {
    "duration": 21,
    "start_time": "2023-03-24T20:19:09.808Z"
   },
   {
    "duration": 36,
    "start_time": "2023-03-24T20:20:18.044Z"
   },
   {
    "duration": 17,
    "start_time": "2023-03-24T20:20:33.874Z"
   },
   {
    "duration": 3,
    "start_time": "2023-03-24T20:26:13.465Z"
   },
   {
    "duration": 8,
    "start_time": "2023-03-24T20:26:13.835Z"
   },
   {
    "duration": 17,
    "start_time": "2023-03-24T20:26:14.382Z"
   },
   {
    "duration": 3,
    "start_time": "2023-03-24T20:27:43.798Z"
   },
   {
    "duration": 7,
    "start_time": "2023-03-24T20:27:44.266Z"
   },
   {
    "duration": 23,
    "start_time": "2023-03-24T20:27:44.672Z"
   },
   {
    "duration": 3,
    "start_time": "2023-03-24T20:28:49.161Z"
   },
   {
    "duration": 8,
    "start_time": "2023-03-24T20:28:49.578Z"
   },
   {
    "duration": 18,
    "start_time": "2023-03-24T20:28:50.325Z"
   },
   {
    "duration": 702,
    "start_time": "2023-03-25T17:36:44.753Z"
   },
   {
    "duration": 25,
    "start_time": "2023-03-25T17:36:45.457Z"
   },
   {
    "duration": 18,
    "start_time": "2023-03-25T17:36:45.484Z"
   },
   {
    "duration": 27,
    "start_time": "2023-03-25T17:36:45.505Z"
   },
   {
    "duration": 50,
    "start_time": "2023-03-25T17:36:45.534Z"
   },
   {
    "duration": 3,
    "start_time": "2023-03-25T17:36:45.586Z"
   },
   {
    "duration": 18,
    "start_time": "2023-03-25T17:36:45.591Z"
   },
   {
    "duration": 5,
    "start_time": "2023-03-25T17:36:45.611Z"
   },
   {
    "duration": 24,
    "start_time": "2023-03-25T17:36:45.617Z"
   },
   {
    "duration": 9,
    "start_time": "2023-03-25T17:36:45.645Z"
   },
   {
    "duration": 48,
    "start_time": "2023-03-25T17:36:45.655Z"
   },
   {
    "duration": 10,
    "start_time": "2023-03-25T17:36:45.705Z"
   },
   {
    "duration": 11,
    "start_time": "2023-03-25T17:36:45.717Z"
   },
   {
    "duration": 22,
    "start_time": "2023-03-25T17:36:45.730Z"
   },
   {
    "duration": 29,
    "start_time": "2023-03-25T17:36:45.754Z"
   },
   {
    "duration": 18,
    "start_time": "2023-03-25T17:36:45.784Z"
   },
   {
    "duration": 8,
    "start_time": "2023-03-25T17:36:45.804Z"
   },
   {
    "duration": 30,
    "start_time": "2023-03-25T17:36:45.813Z"
   },
   {
    "duration": 16,
    "start_time": "2023-03-25T17:36:45.845Z"
   },
   {
    "duration": 37,
    "start_time": "2023-03-25T17:36:45.863Z"
   },
   {
    "duration": 15,
    "start_time": "2023-03-25T17:36:45.902Z"
   },
   {
    "duration": 27,
    "start_time": "2023-03-25T17:36:45.919Z"
   },
   {
    "duration": 21,
    "start_time": "2023-03-25T17:36:45.948Z"
   },
   {
    "duration": 37,
    "start_time": "2023-03-25T17:36:45.971Z"
   },
   {
    "duration": 3,
    "start_time": "2023-03-25T17:36:46.017Z"
   },
   {
    "duration": 34,
    "start_time": "2023-03-25T17:36:46.022Z"
   },
   {
    "duration": 28,
    "start_time": "2023-03-25T17:36:46.058Z"
   },
   {
    "duration": 41,
    "start_time": "2023-03-25T17:36:46.089Z"
   },
   {
    "duration": 26,
    "start_time": "2023-03-25T17:39:00.236Z"
   },
   {
    "duration": 57,
    "start_time": "2023-03-25T17:42:13.830Z"
   }
  ],
  "colab": {
   "provenance": []
  },
  "kernelspec": {
   "display_name": "Python 3 (ipykernel)",
   "language": "python",
   "name": "python3"
  },
  "language_info": {
   "codemirror_mode": {
    "name": "ipython",
    "version": 3
   },
   "file_extension": ".py",
   "mimetype": "text/x-python",
   "name": "python",
   "nbconvert_exporter": "python",
   "pygments_lexer": "ipython3",
   "version": "3.10.9"
  },
  "toc": {
   "base_numbering": 1,
   "nav_menu": {},
   "number_sections": true,
   "sideBar": true,
   "skip_h1_title": true,
   "title_cell": "Table of Contents",
   "title_sidebar": "Contents",
   "toc_cell": false,
   "toc_position": {},
   "toc_section_display": true,
   "toc_window_display": false
  }
 },
 "nbformat": 4,
 "nbformat_minor": 5
}
