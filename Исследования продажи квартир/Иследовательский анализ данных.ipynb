{
 "cells": [
  {
   "cell_type": "markdown",
   "metadata": {},
   "source": [
    "# Исследование объявлений о продаже квартир\n",
    "\n",
    "В вашем распоряжении данные сервиса Яндекс.Недвижимость — архив объявлений о продаже квартир в Санкт-Петербурге и соседних населённых пунктов за несколько лет. Нужно научиться определять рыночную стоимость объектов недвижимости. Ваша задача — установить параметры. Это позволит построить автоматизированную систему: она отследит аномалии и мошенническую деятельность. \n",
    "\n",
    "По каждой квартире на продажу доступны два вида данных. Первые вписаны пользователем, вторые — получены автоматически на основе картографических данных. Например, расстояние до центра, аэропорта, ближайшего парка и водоёма. "
   ]
  },
  {
   "cell_type": "markdown",
   "metadata": {},
   "source": [
    "### Откройте файл с данными и изучите общую информацию. "
   ]
  },
  {
   "cell_type": "code",
   "execution_count": 1,
   "metadata": {},
   "outputs": [],
   "source": [
    "## Импорт библиотек\n",
    "import pandas as pd\n",
    "import matplotlib as plt\n",
    "import numpy as np\n",
    "import seaborn as sns"
   ]
  },
  {
   "cell_type": "code",
   "execution_count": 2,
   "metadata": {},
   "outputs": [],
   "source": [
    "## Чтение файла из библиотеки\n",
    "try:\n",
    "    data = pd.read_csv('/datasets/real_estate_data.csv', sep='\\t')\n",
    "except:\n",
    "    data = pd.read_csv('real_estate_data.csv', sep='\\t')\n",
    "pd.set_option('display.max_columns', None)"
   ]
  },
  {
   "cell_type": "code",
   "execution_count": 3,
   "metadata": {},
   "outputs": [
    {
     "name": "stdout",
     "output_type": "stream",
     "text": [
      "<class 'pandas.core.frame.DataFrame'>\n",
      "RangeIndex: 23699 entries, 0 to 23698\n",
      "Data columns (total 22 columns):\n",
      " #   Column                Non-Null Count  Dtype  \n",
      "---  ------                --------------  -----  \n",
      " 0   total_images          23699 non-null  int64  \n",
      " 1   last_price            23699 non-null  float64\n",
      " 2   total_area            23699 non-null  float64\n",
      " 3   first_day_exposition  23699 non-null  object \n",
      " 4   rooms                 23699 non-null  int64  \n",
      " 5   ceiling_height        14504 non-null  float64\n",
      " 6   floors_total          23613 non-null  float64\n",
      " 7   living_area           21796 non-null  float64\n",
      " 8   floor                 23699 non-null  int64  \n",
      " 9   is_apartment          2775 non-null   object \n",
      " 10  studio                23699 non-null  bool   \n",
      " 11  open_plan             23699 non-null  bool   \n",
      " 12  kitchen_area          21421 non-null  float64\n",
      " 13  balcony               12180 non-null  float64\n",
      " 14  locality_name         23650 non-null  object \n",
      " 15  airports_nearest      18157 non-null  float64\n",
      " 16  cityCenters_nearest   18180 non-null  float64\n",
      " 17  parks_around3000      18181 non-null  float64\n",
      " 18  parks_nearest         8079 non-null   float64\n",
      " 19  ponds_around3000      18181 non-null  float64\n",
      " 20  ponds_nearest         9110 non-null   float64\n",
      " 21  days_exposition       20518 non-null  float64\n",
      "dtypes: bool(2), float64(14), int64(3), object(3)\n",
      "memory usage: 3.7+ MB\n"
     ]
    }
   ],
   "source": [
    "data.info();"
   ]
  },
  {
   "cell_type": "code",
   "execution_count": 4,
   "metadata": {},
   "outputs": [
    {
     "data": {
      "text/html": [
       "<div>\n",
       "<style scoped>\n",
       "    .dataframe tbody tr th:only-of-type {\n",
       "        vertical-align: middle;\n",
       "    }\n",
       "\n",
       "    .dataframe tbody tr th {\n",
       "        vertical-align: top;\n",
       "    }\n",
       "\n",
       "    .dataframe thead th {\n",
       "        text-align: right;\n",
       "    }\n",
       "</style>\n",
       "<table border=\"1\" class=\"dataframe\">\n",
       "  <thead>\n",
       "    <tr style=\"text-align: right;\">\n",
       "      <th></th>\n",
       "      <th>total_images</th>\n",
       "      <th>last_price</th>\n",
       "      <th>total_area</th>\n",
       "      <th>first_day_exposition</th>\n",
       "      <th>rooms</th>\n",
       "      <th>ceiling_height</th>\n",
       "      <th>floors_total</th>\n",
       "      <th>living_area</th>\n",
       "      <th>floor</th>\n",
       "      <th>is_apartment</th>\n",
       "      <th>studio</th>\n",
       "      <th>open_plan</th>\n",
       "      <th>kitchen_area</th>\n",
       "      <th>balcony</th>\n",
       "      <th>locality_name</th>\n",
       "      <th>airports_nearest</th>\n",
       "      <th>cityCenters_nearest</th>\n",
       "      <th>parks_around3000</th>\n",
       "      <th>parks_nearest</th>\n",
       "      <th>ponds_around3000</th>\n",
       "      <th>ponds_nearest</th>\n",
       "      <th>days_exposition</th>\n",
       "    </tr>\n",
       "  </thead>\n",
       "  <tbody>\n",
       "    <tr>\n",
       "      <th>0</th>\n",
       "      <td>20</td>\n",
       "      <td>13000000.0</td>\n",
       "      <td>108.00</td>\n",
       "      <td>2019-03-07T00:00:00</td>\n",
       "      <td>3</td>\n",
       "      <td>2.70</td>\n",
       "      <td>16.0</td>\n",
       "      <td>51.00</td>\n",
       "      <td>8</td>\n",
       "      <td>NaN</td>\n",
       "      <td>False</td>\n",
       "      <td>False</td>\n",
       "      <td>25.00</td>\n",
       "      <td>NaN</td>\n",
       "      <td>Санкт-Петербург</td>\n",
       "      <td>18863.0</td>\n",
       "      <td>16028.0</td>\n",
       "      <td>1.0</td>\n",
       "      <td>482.0</td>\n",
       "      <td>2.0</td>\n",
       "      <td>755.0</td>\n",
       "      <td>NaN</td>\n",
       "    </tr>\n",
       "    <tr>\n",
       "      <th>1</th>\n",
       "      <td>7</td>\n",
       "      <td>3350000.0</td>\n",
       "      <td>40.40</td>\n",
       "      <td>2018-12-04T00:00:00</td>\n",
       "      <td>1</td>\n",
       "      <td>NaN</td>\n",
       "      <td>11.0</td>\n",
       "      <td>18.60</td>\n",
       "      <td>1</td>\n",
       "      <td>NaN</td>\n",
       "      <td>False</td>\n",
       "      <td>False</td>\n",
       "      <td>11.00</td>\n",
       "      <td>2.0</td>\n",
       "      <td>посёлок Шушары</td>\n",
       "      <td>12817.0</td>\n",
       "      <td>18603.0</td>\n",
       "      <td>0.0</td>\n",
       "      <td>NaN</td>\n",
       "      <td>0.0</td>\n",
       "      <td>NaN</td>\n",
       "      <td>81.0</td>\n",
       "    </tr>\n",
       "    <tr>\n",
       "      <th>2</th>\n",
       "      <td>10</td>\n",
       "      <td>5196000.0</td>\n",
       "      <td>56.00</td>\n",
       "      <td>2015-08-20T00:00:00</td>\n",
       "      <td>2</td>\n",
       "      <td>NaN</td>\n",
       "      <td>5.0</td>\n",
       "      <td>34.30</td>\n",
       "      <td>4</td>\n",
       "      <td>NaN</td>\n",
       "      <td>False</td>\n",
       "      <td>False</td>\n",
       "      <td>8.30</td>\n",
       "      <td>0.0</td>\n",
       "      <td>Санкт-Петербург</td>\n",
       "      <td>21741.0</td>\n",
       "      <td>13933.0</td>\n",
       "      <td>1.0</td>\n",
       "      <td>90.0</td>\n",
       "      <td>2.0</td>\n",
       "      <td>574.0</td>\n",
       "      <td>558.0</td>\n",
       "    </tr>\n",
       "    <tr>\n",
       "      <th>3</th>\n",
       "      <td>0</td>\n",
       "      <td>64900000.0</td>\n",
       "      <td>159.00</td>\n",
       "      <td>2015-07-24T00:00:00</td>\n",
       "      <td>3</td>\n",
       "      <td>NaN</td>\n",
       "      <td>14.0</td>\n",
       "      <td>NaN</td>\n",
       "      <td>9</td>\n",
       "      <td>NaN</td>\n",
       "      <td>False</td>\n",
       "      <td>False</td>\n",
       "      <td>NaN</td>\n",
       "      <td>0.0</td>\n",
       "      <td>Санкт-Петербург</td>\n",
       "      <td>28098.0</td>\n",
       "      <td>6800.0</td>\n",
       "      <td>2.0</td>\n",
       "      <td>84.0</td>\n",
       "      <td>3.0</td>\n",
       "      <td>234.0</td>\n",
       "      <td>424.0</td>\n",
       "    </tr>\n",
       "    <tr>\n",
       "      <th>4</th>\n",
       "      <td>2</td>\n",
       "      <td>10000000.0</td>\n",
       "      <td>100.00</td>\n",
       "      <td>2018-06-19T00:00:00</td>\n",
       "      <td>2</td>\n",
       "      <td>3.03</td>\n",
       "      <td>14.0</td>\n",
       "      <td>32.00</td>\n",
       "      <td>13</td>\n",
       "      <td>NaN</td>\n",
       "      <td>False</td>\n",
       "      <td>False</td>\n",
       "      <td>41.00</td>\n",
       "      <td>NaN</td>\n",
       "      <td>Санкт-Петербург</td>\n",
       "      <td>31856.0</td>\n",
       "      <td>8098.0</td>\n",
       "      <td>2.0</td>\n",
       "      <td>112.0</td>\n",
       "      <td>1.0</td>\n",
       "      <td>48.0</td>\n",
       "      <td>121.0</td>\n",
       "    </tr>\n",
       "    <tr>\n",
       "      <th>5</th>\n",
       "      <td>10</td>\n",
       "      <td>2890000.0</td>\n",
       "      <td>30.40</td>\n",
       "      <td>2018-09-10T00:00:00</td>\n",
       "      <td>1</td>\n",
       "      <td>NaN</td>\n",
       "      <td>12.0</td>\n",
       "      <td>14.40</td>\n",
       "      <td>5</td>\n",
       "      <td>NaN</td>\n",
       "      <td>False</td>\n",
       "      <td>False</td>\n",
       "      <td>9.10</td>\n",
       "      <td>NaN</td>\n",
       "      <td>городской посёлок Янино-1</td>\n",
       "      <td>NaN</td>\n",
       "      <td>NaN</td>\n",
       "      <td>NaN</td>\n",
       "      <td>NaN</td>\n",
       "      <td>NaN</td>\n",
       "      <td>NaN</td>\n",
       "      <td>55.0</td>\n",
       "    </tr>\n",
       "    <tr>\n",
       "      <th>6</th>\n",
       "      <td>6</td>\n",
       "      <td>3700000.0</td>\n",
       "      <td>37.30</td>\n",
       "      <td>2017-11-02T00:00:00</td>\n",
       "      <td>1</td>\n",
       "      <td>NaN</td>\n",
       "      <td>26.0</td>\n",
       "      <td>10.60</td>\n",
       "      <td>6</td>\n",
       "      <td>NaN</td>\n",
       "      <td>False</td>\n",
       "      <td>False</td>\n",
       "      <td>14.40</td>\n",
       "      <td>1.0</td>\n",
       "      <td>посёлок Парголово</td>\n",
       "      <td>52996.0</td>\n",
       "      <td>19143.0</td>\n",
       "      <td>0.0</td>\n",
       "      <td>NaN</td>\n",
       "      <td>0.0</td>\n",
       "      <td>NaN</td>\n",
       "      <td>155.0</td>\n",
       "    </tr>\n",
       "    <tr>\n",
       "      <th>7</th>\n",
       "      <td>5</td>\n",
       "      <td>7915000.0</td>\n",
       "      <td>71.60</td>\n",
       "      <td>2019-04-18T00:00:00</td>\n",
       "      <td>2</td>\n",
       "      <td>NaN</td>\n",
       "      <td>24.0</td>\n",
       "      <td>NaN</td>\n",
       "      <td>22</td>\n",
       "      <td>NaN</td>\n",
       "      <td>False</td>\n",
       "      <td>False</td>\n",
       "      <td>18.90</td>\n",
       "      <td>2.0</td>\n",
       "      <td>Санкт-Петербург</td>\n",
       "      <td>23982.0</td>\n",
       "      <td>11634.0</td>\n",
       "      <td>0.0</td>\n",
       "      <td>NaN</td>\n",
       "      <td>0.0</td>\n",
       "      <td>NaN</td>\n",
       "      <td>NaN</td>\n",
       "    </tr>\n",
       "    <tr>\n",
       "      <th>8</th>\n",
       "      <td>20</td>\n",
       "      <td>2900000.0</td>\n",
       "      <td>33.16</td>\n",
       "      <td>2018-05-23T00:00:00</td>\n",
       "      <td>1</td>\n",
       "      <td>NaN</td>\n",
       "      <td>27.0</td>\n",
       "      <td>15.43</td>\n",
       "      <td>26</td>\n",
       "      <td>NaN</td>\n",
       "      <td>False</td>\n",
       "      <td>False</td>\n",
       "      <td>8.81</td>\n",
       "      <td>NaN</td>\n",
       "      <td>посёлок Мурино</td>\n",
       "      <td>NaN</td>\n",
       "      <td>NaN</td>\n",
       "      <td>NaN</td>\n",
       "      <td>NaN</td>\n",
       "      <td>NaN</td>\n",
       "      <td>NaN</td>\n",
       "      <td>189.0</td>\n",
       "    </tr>\n",
       "    <tr>\n",
       "      <th>9</th>\n",
       "      <td>18</td>\n",
       "      <td>5400000.0</td>\n",
       "      <td>61.00</td>\n",
       "      <td>2017-02-26T00:00:00</td>\n",
       "      <td>3</td>\n",
       "      <td>2.50</td>\n",
       "      <td>9.0</td>\n",
       "      <td>43.60</td>\n",
       "      <td>7</td>\n",
       "      <td>NaN</td>\n",
       "      <td>False</td>\n",
       "      <td>False</td>\n",
       "      <td>6.50</td>\n",
       "      <td>2.0</td>\n",
       "      <td>Санкт-Петербург</td>\n",
       "      <td>50898.0</td>\n",
       "      <td>15008.0</td>\n",
       "      <td>0.0</td>\n",
       "      <td>NaN</td>\n",
       "      <td>0.0</td>\n",
       "      <td>NaN</td>\n",
       "      <td>289.0</td>\n",
       "    </tr>\n",
       "  </tbody>\n",
       "</table>\n",
       "</div>"
      ],
      "text/plain": [
       "   total_images  last_price  total_area first_day_exposition  rooms  \\\n",
       "0            20  13000000.0      108.00  2019-03-07T00:00:00      3   \n",
       "1             7   3350000.0       40.40  2018-12-04T00:00:00      1   \n",
       "2            10   5196000.0       56.00  2015-08-20T00:00:00      2   \n",
       "3             0  64900000.0      159.00  2015-07-24T00:00:00      3   \n",
       "4             2  10000000.0      100.00  2018-06-19T00:00:00      2   \n",
       "5            10   2890000.0       30.40  2018-09-10T00:00:00      1   \n",
       "6             6   3700000.0       37.30  2017-11-02T00:00:00      1   \n",
       "7             5   7915000.0       71.60  2019-04-18T00:00:00      2   \n",
       "8            20   2900000.0       33.16  2018-05-23T00:00:00      1   \n",
       "9            18   5400000.0       61.00  2017-02-26T00:00:00      3   \n",
       "\n",
       "   ceiling_height  floors_total  living_area  floor is_apartment  studio  \\\n",
       "0            2.70          16.0        51.00      8          NaN   False   \n",
       "1             NaN          11.0        18.60      1          NaN   False   \n",
       "2             NaN           5.0        34.30      4          NaN   False   \n",
       "3             NaN          14.0          NaN      9          NaN   False   \n",
       "4            3.03          14.0        32.00     13          NaN   False   \n",
       "5             NaN          12.0        14.40      5          NaN   False   \n",
       "6             NaN          26.0        10.60      6          NaN   False   \n",
       "7             NaN          24.0          NaN     22          NaN   False   \n",
       "8             NaN          27.0        15.43     26          NaN   False   \n",
       "9            2.50           9.0        43.60      7          NaN   False   \n",
       "\n",
       "   open_plan  kitchen_area  balcony              locality_name  \\\n",
       "0      False         25.00      NaN            Санкт-Петербург   \n",
       "1      False         11.00      2.0             посёлок Шушары   \n",
       "2      False          8.30      0.0            Санкт-Петербург   \n",
       "3      False           NaN      0.0            Санкт-Петербург   \n",
       "4      False         41.00      NaN            Санкт-Петербург   \n",
       "5      False          9.10      NaN  городской посёлок Янино-1   \n",
       "6      False         14.40      1.0          посёлок Парголово   \n",
       "7      False         18.90      2.0            Санкт-Петербург   \n",
       "8      False          8.81      NaN             посёлок Мурино   \n",
       "9      False          6.50      2.0            Санкт-Петербург   \n",
       "\n",
       "   airports_nearest  cityCenters_nearest  parks_around3000  parks_nearest  \\\n",
       "0           18863.0              16028.0               1.0          482.0   \n",
       "1           12817.0              18603.0               0.0            NaN   \n",
       "2           21741.0              13933.0               1.0           90.0   \n",
       "3           28098.0               6800.0               2.0           84.0   \n",
       "4           31856.0               8098.0               2.0          112.0   \n",
       "5               NaN                  NaN               NaN            NaN   \n",
       "6           52996.0              19143.0               0.0            NaN   \n",
       "7           23982.0              11634.0               0.0            NaN   \n",
       "8               NaN                  NaN               NaN            NaN   \n",
       "9           50898.0              15008.0               0.0            NaN   \n",
       "\n",
       "   ponds_around3000  ponds_nearest  days_exposition  \n",
       "0               2.0          755.0              NaN  \n",
       "1               0.0            NaN             81.0  \n",
       "2               2.0          574.0            558.0  \n",
       "3               3.0          234.0            424.0  \n",
       "4               1.0           48.0            121.0  \n",
       "5               NaN            NaN             55.0  \n",
       "6               0.0            NaN            155.0  \n",
       "7               0.0            NaN              NaN  \n",
       "8               NaN            NaN            189.0  \n",
       "9               0.0            NaN            289.0  "
      ]
     },
     "execution_count": 4,
     "metadata": {},
     "output_type": "execute_result"
    }
   ],
   "source": [
    "data.head(10)"
   ]
  },
  {
   "cell_type": "code",
   "execution_count": 5,
   "metadata": {},
   "outputs": [
    {
     "data": {
      "image/png": "[encoded data removed]",
      "text/plain": [
       "<Figure size 1080x1440 with 20 Axes>"
      ]
     },
     "metadata": {
      "needs_background": "light"
     },
     "output_type": "display_data"
    }
   ],
   "source": [
    "## Просмотр общей гистограммы по всей таблице\n",
    "data.hist(figsize=(15, 20));"
   ]
  },
  {
   "cell_type": "markdown",
   "metadata": {},
   "source": [
    "## Вывод ##\n",
    "1. first_day_exposition - object - должен быть тип datetime\n",
    "2. ceiling_height - очень много пропусков\n",
    "3. floors_total - должен быть тип int, количество этажей неможет быть вещественным числом и есть пропущенные значения всего 86 строк, удалим эти строки \n",
    "4. is_apartment - object, должен быть тип bool и есть пропущенные значения, заменим значение на False, т.к. это скорее всего не аппартаменты\n",
    "5. living_area и kitchen_area - есть пропущенные значения, оставим эти строки\n",
    "6. balcony - должен быть тип int, есть пропущенные значения, заменим значение на 0 т.к. скорее всего балконов нет\n",
    "7. locality_name - есть пропущенные значения, удалим эти строки, их немного и причина пропусков неясна\n",
    "8. airports_nearest - возможно аэропортов нет рядом, пропущенные значения заменим на 99999\n",
    "9. city_centers_nearest - до центра города далеко, пропущенные значения заменим на 99999\n",
    "10. parks_around3000 - тип должен быть int, пропущенные значения заменим на 99999\n",
    "11. parks_nearest - пропущенные значения означают парков рядом нет заменим на 0\n",
    "12. ponds_around3000 - тип должен быть int, пропущенные значения заменим на 99999\n",
    "13. ponds_nearest - пропущенные значения означают водоемов рядом нет заменим на 0\n",
    "14. days_exposition - тип должен быть int, пропущенные значения заменим медианным значением"
   ]
  },
  {
   "cell_type": "markdown",
   "metadata": {},
   "source": [
    "### Предобработка данных"
   ]
  },
  {
   "cell_type": "code",
   "execution_count": 6,
   "metadata": {},
   "outputs": [],
   "source": [
    "# Переименуем столбцы\n",
    "data.rename(columns={'cityCenters_nearest' : 'city_centers_nearest'}, inplace=True)"
   ]
  },
  {
   "cell_type": "code",
   "execution_count": 7,
   "metadata": {},
   "outputs": [
    {
     "data": {
      "text/plain": [
       "total_images                0\n",
       "last_price                  0\n",
       "total_area                  0\n",
       "first_day_exposition        0\n",
       "rooms                       0\n",
       "ceiling_height           9195\n",
       "floors_total               86\n",
       "living_area              1903\n",
       "floor                       0\n",
       "is_apartment            20924\n",
       "studio                      0\n",
       "open_plan                   0\n",
       "kitchen_area             2278\n",
       "balcony                 11519\n",
       "locality_name              49\n",
       "airports_nearest         5542\n",
       "city_centers_nearest     5519\n",
       "parks_around3000         5518\n",
       "parks_nearest           15620\n",
       "ponds_around3000         5518\n",
       "ponds_nearest           14589\n",
       "days_exposition          3181\n",
       "dtype: int64"
      ]
     },
     "execution_count": 7,
     "metadata": {},
     "output_type": "execute_result"
    }
   ],
   "source": [
    "# Просмотр Количества пропусков в столбцах\n",
    "data.isna().sum()"
   ]
  },
  {
   "cell_type": "code",
   "execution_count": 8,
   "metadata": {},
   "outputs": [],
   "source": [
    "# переведем столбец с датой в формат datetime\n",
    "data['first_day_exposition'] = pd.to_datetime(data['first_day_exposition'], format = '%Y-%m-%d')"
   ]
  },
  {
   "cell_type": "code",
   "execution_count": 9,
   "metadata": {},
   "outputs": [],
   "source": [
    "# Удалим строки этажей квартиры и заменим тип на int\n",
    "data = data.dropna(subset=['floors_total'])\n",
    "data['floors_total'] = data['floors_total'].astype('int64')"
   ]
  },
  {
   "cell_type": "markdown",
   "metadata": {},
   "source": [
    "<div class=\"alert alert-success\">\n",
    "<b>✔️ Комментарий ревьюера v1:</b> \n",
    "<br>👌\n",
    "</div>"
   ]
  },
  {
   "cell_type": "code",
   "execution_count": 10,
   "metadata": {},
   "outputs": [],
   "source": [
    "# заменим пропуски в balcony и заменим тип данных\n",
    "data['balcony'] = data['balcony'].fillna(0).astype('int64')"
   ]
  },
  {
   "cell_type": "markdown",
   "metadata": {},
   "source": [
    "<div class=\"alert alert-success\">\n",
    "<b>✔️ Комментарий ревьюера v1:</b> \n",
    "<br>👌\n",
    "</div>"
   ]
  },
  {
   "cell_type": "code",
   "execution_count": 11,
   "metadata": {},
   "outputs": [],
   "source": [
    "# заменим пропуски в is_apartment и заменим тип данных\n",
    "data['is_apartment'] = data['is_apartment'].fillna(False).astype('bool')"
   ]
  },
  {
   "cell_type": "markdown",
   "metadata": {},
   "source": [
    "<div class=\"alert alert-success\">\n",
    "<b>✔️ Комментарий ревьюера v1:</b> \n",
    "<br>👌\n",
    "</div>"
   ]
  },
  {
   "cell_type": "code",
   "execution_count": 12,
   "metadata": {},
   "outputs": [
    {
     "name": "stdout",
     "output_type": "stream",
     "text": [
      "95.0\n"
     ]
    }
   ],
   "source": [
    "# Изменим тип данных на int в days_exposition изаменим пропуски на медианное значение\n",
    "print(data['days_exposition'].median())\n",
    "data['days_exposition'] = data['days_exposition'].fillna(data['days_exposition'].median()).astype('int64')"
   ]
  },
  {
   "cell_type": "code",
   "execution_count": 13,
   "metadata": {},
   "outputs": [],
   "source": [
    "#заменим тип данных в airports_nearest\n",
    "data['airports_nearest'] = data['airports_nearest'].fillna(99999)"
   ]
  },
  {
   "cell_type": "code",
   "execution_count": 14,
   "metadata": {},
   "outputs": [],
   "source": [
    "#заменим тип данных в parks_around3000\n",
    "data['parks_around3000'] = data['parks_around3000'].fillna(99999).astype('int64')"
   ]
  },
  {
   "cell_type": "code",
   "execution_count": 15,
   "metadata": {},
   "outputs": [],
   "source": [
    "#заменим тип данных в ponds_around3000\n",
    "data['ponds_around3000'] = data['ponds_around3000'].fillna(99999).astype('int64')"
   ]
  },
  {
   "cell_type": "code",
   "execution_count": 16,
   "metadata": {},
   "outputs": [],
   "source": [
    "#заменим тип данных в living_area\n",
    "data['living_area'] = data['living_area'].fillna(data['living_area'].median()).astype('int64')"
   ]
  },
  {
   "cell_type": "code",
   "execution_count": 17,
   "metadata": {},
   "outputs": [],
   "source": [
    "#заменим тип данных в kitchen_area\n",
    "data['kitchen_area'] = data['kitchen_area'].fillna(data['kitchen_area'].median()).astype('int64')"
   ]
  },
  {
   "cell_type": "code",
   "execution_count": 18,
   "metadata": {},
   "outputs": [],
   "source": [
    "#заменим тип данных в city_centers_nearest\n",
    "data['city_centers_nearest'] = data['city_centers_nearest'].fillna(99999).astype('int64')"
   ]
  },
  {
   "cell_type": "code",
   "execution_count": 19,
   "metadata": {},
   "outputs": [],
   "source": [
    "#заменим тип данных в ceiling_height\n",
    "data['ceiling_height'] = data['ceiling_height'].fillna(data['ceiling_height'].median())"
   ]
  },
  {
   "cell_type": "code",
   "execution_count": 20,
   "metadata": {},
   "outputs": [],
   "source": [
    "#заменим тип данных в parks_nearest\n",
    "data['parks_nearest'] = data['parks_nearest'].fillna(0)"
   ]
  },
  {
   "cell_type": "code",
   "execution_count": 21,
   "metadata": {},
   "outputs": [],
   "source": [
    "#заменим тип данных в ponds_nearest\n",
    "data['ponds_nearest'] = data['ponds_nearest'].fillna(0)"
   ]
  },
  {
   "cell_type": "code",
   "execution_count": 22,
   "metadata": {},
   "outputs": [],
   "source": [
    "# Удалим пустые значения в locality_name\n",
    "data = data.dropna(subset=['locality_name'])"
   ]
  },
  {
   "cell_type": "code",
   "execution_count": 23,
   "metadata": {},
   "outputs": [
    {
     "name": "stdout",
     "output_type": "stream",
     "text": [
      "<class 'pandas.core.frame.DataFrame'>\n",
      "Int64Index: 23565 entries, 0 to 23698\n",
      "Data columns (total 22 columns):\n",
      " #   Column                Non-Null Count  Dtype         \n",
      "---  ------                --------------  -----         \n",
      " 0   total_images          23565 non-null  int64         \n",
      " 1   last_price            23565 non-null  float64       \n",
      " 2   total_area            23565 non-null  float64       \n",
      " 3   first_day_exposition  23565 non-null  datetime64[ns]\n",
      " 4   rooms                 23565 non-null  int64         \n",
      " 5   ceiling_height        23565 non-null  float64       \n",
      " 6   floors_total          23565 non-null  int64         \n",
      " 7   living_area           23565 non-null  int64         \n",
      " 8   floor                 23565 non-null  int64         \n",
      " 9   is_apartment          23565 non-null  bool          \n",
      " 10  studio                23565 non-null  bool          \n",
      " 11  open_plan             23565 non-null  bool          \n",
      " 12  kitchen_area          23565 non-null  int64         \n",
      " 13  balcony               23565 non-null  int64         \n",
      " 14  locality_name         23565 non-null  object        \n",
      " 15  airports_nearest      23565 non-null  float64       \n",
      " 16  city_centers_nearest  23565 non-null  int64         \n",
      " 17  parks_around3000      23565 non-null  int64         \n",
      " 18  parks_nearest         23565 non-null  float64       \n",
      " 19  ponds_around3000      23565 non-null  int64         \n",
      " 20  ponds_nearest         23565 non-null  float64       \n",
      " 21  days_exposition       23565 non-null  int64         \n",
      "dtypes: bool(3), datetime64[ns](1), float64(6), int64(11), object(1)\n",
      "memory usage: 3.7+ MB\n"
     ]
    }
   ],
   "source": [
    "data.info()"
   ]
  },
  {
   "cell_type": "markdown",
   "metadata": {},
   "source": [
    "## Поиск уникальных значений и удаление дубликатов \n",
    "#### Что сделаем\n",
    "1. Заменим все ё на е\n",
    "2. Приведем все к нижнему регистру\n",
    "3. Заменим городской поселок на поселок городского типа"
   ]
  },
  {
   "cell_type": "code",
   "execution_count": 24,
   "metadata": {},
   "outputs": [
    {
     "name": "stdout",
     "output_type": "stream",
     "text": [
      "364\n"
     ]
    }
   ],
   "source": [
    "# Подсчет уникальных значений\n",
    "print(data['locality_name'].value_counts().count())\n"
   ]
  },
  {
   "cell_type": "code",
   "execution_count": 25,
   "metadata": {},
   "outputs": [],
   "source": [
    "# Переводим все в нижний регистр\n",
    "data['locality_name'] = data['locality_name'].str.lower()"
   ]
  },
  {
   "cell_type": "code",
   "execution_count": 26,
   "metadata": {},
   "outputs": [],
   "source": [
    "# Заменяем все ё на е\n",
    "data['locality_name'] = data['locality_name'].str.replace('ё', 'е')"
   ]
  },
  {
   "cell_type": "code",
   "execution_count": 27,
   "metadata": {},
   "outputs": [],
   "source": [
    "# Заменяем городской поселок на поселок городского типа\n",
    "data['locality_name'] = data['locality_name'].str.replace('городской поселок', 'поселок городского типа')"
   ]
  },
  {
   "cell_type": "code",
   "execution_count": 28,
   "metadata": {},
   "outputs": [
    {
     "data": {
      "text/plain": [
       "0"
      ]
     },
     "execution_count": 28,
     "metadata": {},
     "output_type": "execute_result"
    }
   ],
   "source": [
    "# Проверяем наличие явных дубликатов\n",
    "data.duplicated().sum()"
   ]
  },
  {
   "cell_type": "markdown",
   "metadata": {},
   "source": [
    "###  Устранянем редкие и выбивающиеся значения"
   ]
  },
  {
   "cell_type": "code",
   "execution_count": 29,
   "metadata": {},
   "outputs": [
    {
     "data": {
      "text/html": [
       "<div>\n",
       "<style scoped>\n",
       "    .dataframe tbody tr th:only-of-type {\n",
       "        vertical-align: middle;\n",
       "    }\n",
       "\n",
       "    .dataframe tbody tr th {\n",
       "        vertical-align: top;\n",
       "    }\n",
       "\n",
       "    .dataframe thead th {\n",
       "        text-align: right;\n",
       "    }\n",
       "</style>\n",
       "<table border=\"1\" class=\"dataframe\">\n",
       "  <thead>\n",
       "    <tr style=\"text-align: right;\">\n",
       "      <th></th>\n",
       "      <th>total_images</th>\n",
       "      <th>last_price</th>\n",
       "      <th>total_area</th>\n",
       "      <th>rooms</th>\n",
       "      <th>ceiling_height</th>\n",
       "      <th>floors_total</th>\n",
       "      <th>living_area</th>\n",
       "      <th>floor</th>\n",
       "      <th>kitchen_area</th>\n",
       "      <th>balcony</th>\n",
       "      <th>airports_nearest</th>\n",
       "      <th>city_centers_nearest</th>\n",
       "      <th>parks_around3000</th>\n",
       "      <th>parks_nearest</th>\n",
       "      <th>ponds_around3000</th>\n",
       "      <th>ponds_nearest</th>\n",
       "      <th>days_exposition</th>\n",
       "    </tr>\n",
       "  </thead>\n",
       "  <tbody>\n",
       "    <tr>\n",
       "      <th>count</th>\n",
       "      <td>23565.000000</td>\n",
       "      <td>2.356500e+04</td>\n",
       "      <td>23565.000000</td>\n",
       "      <td>23565.000000</td>\n",
       "      <td>23565.000000</td>\n",
       "      <td>23565.000000</td>\n",
       "      <td>23565.000000</td>\n",
       "      <td>23565.000000</td>\n",
       "      <td>23565.000000</td>\n",
       "      <td>23565.000000</td>\n",
       "      <td>23565.000000</td>\n",
       "      <td>23565.000000</td>\n",
       "      <td>23565.000000</td>\n",
       "      <td>23565.000000</td>\n",
       "      <td>23565.000000</td>\n",
       "      <td>23565.000000</td>\n",
       "      <td>23565.000000</td>\n",
       "    </tr>\n",
       "    <tr>\n",
       "      <th>mean</th>\n",
       "      <td>9.878421</td>\n",
       "      <td>6.540058e+06</td>\n",
       "      <td>60.322824</td>\n",
       "      <td>2.070656</td>\n",
       "      <td>2.724530</td>\n",
       "      <td>10.675875</td>\n",
       "      <td>33.875705</td>\n",
       "      <td>5.878124</td>\n",
       "      <td>10.189136</td>\n",
       "      <td>0.593677</td>\n",
       "      <td>45487.911946</td>\n",
       "      <td>34223.239465</td>\n",
       "      <td>23339.934140</td>\n",
       "      <td>167.169998</td>\n",
       "      <td>23340.055209</td>\n",
       "      <td>198.738129</td>\n",
       "      <td>169.203692</td>\n",
       "    </tr>\n",
       "    <tr>\n",
       "      <th>std</th>\n",
       "      <td>5.681156</td>\n",
       "      <td>1.091093e+07</td>\n",
       "      <td>35.657060</td>\n",
       "      <td>1.078591</td>\n",
       "      <td>0.991026</td>\n",
       "      <td>6.594823</td>\n",
       "      <td>21.186871</td>\n",
       "      <td>4.871485</td>\n",
       "      <td>5.640145</td>\n",
       "      <td>0.960660</td>\n",
       "      <td>32125.446415</td>\n",
       "      <td>37073.615761</td>\n",
       "      <td>42299.486932</td>\n",
       "      <td>306.301628</td>\n",
       "      <td>42299.420129</td>\n",
       "      <td>305.195521</td>\n",
       "      <td>206.497729</td>\n",
       "    </tr>\n",
       "    <tr>\n",
       "      <th>min</th>\n",
       "      <td>0.000000</td>\n",
       "      <td>1.219000e+04</td>\n",
       "      <td>12.000000</td>\n",
       "      <td>0.000000</td>\n",
       "      <td>1.000000</td>\n",
       "      <td>1.000000</td>\n",
       "      <td>2.000000</td>\n",
       "      <td>1.000000</td>\n",
       "      <td>1.000000</td>\n",
       "      <td>0.000000</td>\n",
       "      <td>0.000000</td>\n",
       "      <td>181.000000</td>\n",
       "      <td>0.000000</td>\n",
       "      <td>0.000000</td>\n",
       "      <td>0.000000</td>\n",
       "      <td>0.000000</td>\n",
       "      <td>1.000000</td>\n",
       "    </tr>\n",
       "    <tr>\n",
       "      <th>25%</th>\n",
       "      <td>6.000000</td>\n",
       "      <td>3.400000e+06</td>\n",
       "      <td>40.000000</td>\n",
       "      <td>1.000000</td>\n",
       "      <td>2.600000</td>\n",
       "      <td>5.000000</td>\n",
       "      <td>19.000000</td>\n",
       "      <td>2.000000</td>\n",
       "      <td>7.000000</td>\n",
       "      <td>0.000000</td>\n",
       "      <td>21166.000000</td>\n",
       "      <td>10935.000000</td>\n",
       "      <td>0.000000</td>\n",
       "      <td>0.000000</td>\n",
       "      <td>0.000000</td>\n",
       "      <td>0.000000</td>\n",
       "      <td>45.000000</td>\n",
       "    </tr>\n",
       "    <tr>\n",
       "      <th>50%</th>\n",
       "      <td>9.000000</td>\n",
       "      <td>4.646000e+06</td>\n",
       "      <td>52.000000</td>\n",
       "      <td>2.000000</td>\n",
       "      <td>2.650000</td>\n",
       "      <td>9.000000</td>\n",
       "      <td>30.000000</td>\n",
       "      <td>4.000000</td>\n",
       "      <td>9.000000</td>\n",
       "      <td>0.000000</td>\n",
       "      <td>33564.000000</td>\n",
       "      <td>14996.000000</td>\n",
       "      <td>1.000000</td>\n",
       "      <td>0.000000</td>\n",
       "      <td>1.000000</td>\n",
       "      <td>0.000000</td>\n",
       "      <td>95.000000</td>\n",
       "    </tr>\n",
       "    <tr>\n",
       "      <th>75%</th>\n",
       "      <td>14.000000</td>\n",
       "      <td>6.790000e+06</td>\n",
       "      <td>69.700000</td>\n",
       "      <td>3.000000</td>\n",
       "      <td>2.700000</td>\n",
       "      <td>16.000000</td>\n",
       "      <td>41.000000</td>\n",
       "      <td>8.000000</td>\n",
       "      <td>11.000000</td>\n",
       "      <td>1.000000</td>\n",
       "      <td>54331.000000</td>\n",
       "      <td>35259.000000</td>\n",
       "      <td>3.000000</td>\n",
       "      <td>301.000000</td>\n",
       "      <td>3.000000</td>\n",
       "      <td>389.000000</td>\n",
       "      <td>198.000000</td>\n",
       "    </tr>\n",
       "    <tr>\n",
       "      <th>max</th>\n",
       "      <td>50.000000</td>\n",
       "      <td>7.630000e+08</td>\n",
       "      <td>900.000000</td>\n",
       "      <td>19.000000</td>\n",
       "      <td>100.000000</td>\n",
       "      <td>60.000000</td>\n",
       "      <td>409.000000</td>\n",
       "      <td>33.000000</td>\n",
       "      <td>112.000000</td>\n",
       "      <td>5.000000</td>\n",
       "      <td>99999.000000</td>\n",
       "      <td>99999.000000</td>\n",
       "      <td>99999.000000</td>\n",
       "      <td>3190.000000</td>\n",
       "      <td>99999.000000</td>\n",
       "      <td>1344.000000</td>\n",
       "      <td>1580.000000</td>\n",
       "    </tr>\n",
       "  </tbody>\n",
       "</table>\n",
       "</div>"
      ],
      "text/plain": [
       "       total_images    last_price    total_area         rooms  ceiling_height  \\\n",
       "count  23565.000000  2.356500e+04  23565.000000  23565.000000    23565.000000   \n",
       "mean       9.878421  6.540058e+06     60.322824      2.070656        2.724530   \n",
       "std        5.681156  1.091093e+07     35.657060      1.078591        0.991026   \n",
       "min        0.000000  1.219000e+04     12.000000      0.000000        1.000000   \n",
       "25%        6.000000  3.400000e+06     40.000000      1.000000        2.600000   \n",
       "50%        9.000000  4.646000e+06     52.000000      2.000000        2.650000   \n",
       "75%       14.000000  6.790000e+06     69.700000      3.000000        2.700000   \n",
       "max       50.000000  7.630000e+08    900.000000     19.000000      100.000000   \n",
       "\n",
       "       floors_total   living_area         floor  kitchen_area       balcony  \\\n",
       "count  23565.000000  23565.000000  23565.000000  23565.000000  23565.000000   \n",
       "mean      10.675875     33.875705      5.878124     10.189136      0.593677   \n",
       "std        6.594823     21.186871      4.871485      5.640145      0.960660   \n",
       "min        1.000000      2.000000      1.000000      1.000000      0.000000   \n",
       "25%        5.000000     19.000000      2.000000      7.000000      0.000000   \n",
       "50%        9.000000     30.000000      4.000000      9.000000      0.000000   \n",
       "75%       16.000000     41.000000      8.000000     11.000000      1.000000   \n",
       "max       60.000000    409.000000     33.000000    112.000000      5.000000   \n",
       "\n",
       "       airports_nearest  city_centers_nearest  parks_around3000  \\\n",
       "count      23565.000000          23565.000000      23565.000000   \n",
       "mean       45487.911946          34223.239465      23339.934140   \n",
       "std        32125.446415          37073.615761      42299.486932   \n",
       "min            0.000000            181.000000          0.000000   \n",
       "25%        21166.000000          10935.000000          0.000000   \n",
       "50%        33564.000000          14996.000000          1.000000   \n",
       "75%        54331.000000          35259.000000          3.000000   \n",
       "max        99999.000000          99999.000000      99999.000000   \n",
       "\n",
       "       parks_nearest  ponds_around3000  ponds_nearest  days_exposition  \n",
       "count   23565.000000      23565.000000   23565.000000     23565.000000  \n",
       "mean      167.169998      23340.055209     198.738129       169.203692  \n",
       "std       306.301628      42299.420129     305.195521       206.497729  \n",
       "min         0.000000          0.000000       0.000000         1.000000  \n",
       "25%         0.000000          0.000000       0.000000        45.000000  \n",
       "50%         0.000000          1.000000       0.000000        95.000000  \n",
       "75%       301.000000          3.000000     389.000000       198.000000  \n",
       "max      3190.000000      99999.000000    1344.000000      1580.000000  "
      ]
     },
     "execution_count": 29,
     "metadata": {},
     "output_type": "execute_result"
    }
   ],
   "source": [
    "data.describe()"
   ]
  },
  {
   "cell_type": "markdown",
   "metadata": {},
   "source": [
    "### last_price"
   ]
  },
  {
   "cell_type": "code",
   "execution_count": 30,
   "metadata": {},
   "outputs": [
    {
     "name": "stdout",
     "output_type": "stream",
     "text": [
      "Квартир стоимостью меньше 500000 тыс. и стоимостью больше 100000000 млн.: 51\n"
     ]
    },
    {
     "data": {
      "text/plain": [
       "count    2.351400e+04\n",
       "mean     6.251829e+06\n",
       "std      6.431027e+06\n",
       "min      5.000000e+05\n",
       "25%      3.400000e+06\n",
       "50%      4.630000e+06\n",
       "75%      6.750000e+06\n",
       "max      9.900000e+07\n",
       "Name: last_price, dtype: float64"
      ]
     },
     "execution_count": 30,
     "metadata": {},
     "output_type": "execute_result"
    },
    {
     "data": {
      "image/png": "[encoded data removed]",
      "text/plain": [
       "<Figure size 432x288 with 1 Axes>"
      ]
     },
     "metadata": {
      "needs_background": "light"
     },
     "output_type": "display_data"
    }
   ],
   "source": [
    "# Посмотрим сколько квартир стоимостью менее 500000 тыс. и более 100000000 млн., удалим эти строки\n",
    "\n",
    "print('Квартир стоимостью меньше 500000 тыс. и стоимостью больше 100000000 млн.:', data.query('last_price < 500000 or last_price > 100000000')['last_price'].count())\n",
    "\n",
    "data.drop(index=data.query('last_price < 500000 or last_price > 100000000').index,inplace=True)\n",
    "\n",
    "#Построим гистограмму\n",
    "data.plot(y = 'last_price', kind = 'hist', bins = 150, grid=True, label='last_price', range=(0,40000000))\n",
    "data['last_price'].describe()"
   ]
  },
  {
   "cell_type": "markdown",
   "metadata": {},
   "source": [
    "### total_area"
   ]
  },
  {
   "cell_type": "code",
   "execution_count": 31,
   "metadata": {},
   "outputs": [
    {
     "name": "stdout",
     "output_type": "stream",
     "text": [
      "квартир площадью менее 20 кв.м.и более 200 кв.м.: 222\n"
     ]
    },
    {
     "data": {
      "text/plain": [
       "count    23292.000000\n",
       "mean        58.179572\n",
       "std         26.434690\n",
       "min         20.000000\n",
       "25%         40.000000\n",
       "50%         51.900000\n",
       "75%         68.812500\n",
       "max        200.000000\n",
       "Name: total_area, dtype: float64"
      ]
     },
     "execution_count": 31,
     "metadata": {},
     "output_type": "execute_result"
    },
    {
     "data": {
      "image/png": "[encoded data removed]",
      "text/plain": [
       "<Figure size 432x288 with 1 Axes>"
      ]
     },
     "metadata": {
      "needs_background": "light"
     },
     "output_type": "display_data"
    }
   ],
   "source": [
    "#Посмотри сколько квартир площадью менее 20 кв.м.и более 200 кв.м.\n",
    "print('квартир площадью менее 20 кв.м.и более 200 кв.м.:', data.query('total_area < 20 or total_area > 200')['total_area'].count())\n",
    "data.drop(index=data.query('total_area < 20 or total_area > 200').index,inplace=True)\n",
    "#Построим гистограмму\n",
    "data.plot(y = 'total_area', kind = 'hist', bins = 100, grid=True, label='total_area', range=(0,200))\n",
    "data['total_area'].describe()"
   ]
  },
  {
   "cell_type": "markdown",
   "metadata": {},
   "source": [
    "### rooms"
   ]
  },
  {
   "cell_type": "code",
   "execution_count": 32,
   "metadata": {
    "scrolled": false
   },
   "outputs": [
    {
     "name": "stdout",
     "output_type": "stream",
     "text": [
      "count    23292.000000\n",
      "mean         2.036193\n",
      "std          0.994953\n",
      "min          0.000000\n",
      "25%          1.000000\n",
      "50%          2.000000\n",
      "75%          3.000000\n",
      "max         11.000000\n",
      "Name: rooms, dtype: float64\n",
      "AxesSubplot(0.125,0.125;0.775x0.755)\n",
      "24\n"
     ]
    },
    {
     "data": {
      "image/png": "[encoded data removed]",
      "text/plain": [
       "<Figure size 432x288 with 1 Axes>"
      ]
     },
     "metadata": {
      "needs_background": "light"
     },
     "output_type": "display_data"
    }
   ],
   "source": [
    "#посмотрим на значения\n",
    "print(data['rooms'].describe())\n",
    "\n",
    "# Построим BoxPlot и удалим аномальные значения\n",
    "print(data.plot(y='rooms', kind='box'));\n",
    "print(data.query('rooms > 6')['rooms'].count());\n",
    "data.drop(index=data.query('rooms > 6').index,inplace=True);"
   ]
  },
  {
   "cell_type": "markdown",
   "metadata": {},
   "source": [
    "### ceiling_height"
   ]
  },
  {
   "cell_type": "code",
   "execution_count": 33,
   "metadata": {},
   "outputs": [
    {
     "name": "stdout",
     "output_type": "stream",
     "text": [
      "потолки < 2.5 mетров: 73\n",
      "потолки > 3.5 mетров: 22902\n",
      "потолки >= 25 mетров и <= 35 метров: 23268\n",
      "потолки > 35 mетров: 1\n"
     ]
    }
   ],
   "source": [
    "# Нас интересуют потолки от 2,5 до 3,5 метров, потолки от 25 метров до 35 метров будем считать за опечатку и изменим их\n",
    "print('потолки < 2.5 mетров:', data.query('ceiling_height < 2.5')['ceiling_height'].count())\n",
    "print('потолки > 3.5 mетров:', data.query('ceiling_height < 3.5')['ceiling_height'].count())\n",
    "print('потолки >= 25 mетров и <= 35 метров:', data.query('ceiling_height >= 25 or ceiling_height <= 35')['ceiling_height'].count())\n",
    "print('потолки > 35 mетров:', data.query('ceiling_height > 35')['ceiling_height'].count())"
   ]
  },
  {
   "cell_type": "code",
   "execution_count": 34,
   "metadata": {},
   "outputs": [
    {
     "name": "stdout",
     "output_type": "stream",
     "text": [
      "<class 'pandas.core.frame.DataFrame'>\n",
      "Int64Index: 22960 entries, 0 to 23698\n",
      "Data columns (total 22 columns):\n",
      " #   Column                Non-Null Count  Dtype         \n",
      "---  ------                --------------  -----         \n",
      " 0   total_images          22960 non-null  int64         \n",
      " 1   last_price            22960 non-null  float64       \n",
      " 2   total_area            22960 non-null  float64       \n",
      " 3   first_day_exposition  22960 non-null  datetime64[ns]\n",
      " 4   rooms                 22960 non-null  int64         \n",
      " 5   ceiling_height        22960 non-null  float64       \n",
      " 6   floors_total          22960 non-null  int64         \n",
      " 7   living_area           22960 non-null  int64         \n",
      " 8   floor                 22960 non-null  int64         \n",
      " 9   is_apartment          22960 non-null  bool          \n",
      " 10  studio                22960 non-null  bool          \n",
      " 11  open_plan             22960 non-null  bool          \n",
      " 12  kitchen_area          22960 non-null  int64         \n",
      " 13  balcony               22960 non-null  int64         \n",
      " 14  locality_name         22960 non-null  object        \n",
      " 15  airports_nearest      22960 non-null  float64       \n",
      " 16  city_centers_nearest  22960 non-null  int64         \n",
      " 17  parks_around3000      22960 non-null  int64         \n",
      " 18  parks_nearest         22960 non-null  float64       \n",
      " 19  ponds_around3000      22960 non-null  int64         \n",
      " 20  ponds_nearest         22960 non-null  float64       \n",
      " 21  days_exposition       22960 non-null  int64         \n",
      "dtypes: bool(3), datetime64[ns](1), float64(6), int64(11), object(1)\n",
      "memory usage: 3.6+ MB\n"
     ]
    }
   ],
   "source": [
    "# Обновляем потолки с 25м по 35м, делим на 10\n",
    "data.update(data[(data['ceiling_height'] >= 25) & (data['ceiling_height'] <= 36)]['ceiling_height'] / 10)\n",
    "# Удаляем ячейки\n",
    "data.drop(index=data.query('ceiling_height < 2.5 or ceiling_height > 3.5').index,inplace=True)\n",
    "data.info()"
   ]
  },
  {
   "cell_type": "markdown",
   "metadata": {},
   "source": [
    "### living_area\n"
   ]
  },
  {
   "cell_type": "code",
   "execution_count": 35,
   "metadata": {},
   "outputs": [
    {
     "data": {
      "image/png": "[encoded data removed]",
      "text/plain": [
       "<Figure size 432x288 with 1 Axes>"
      ]
     },
     "metadata": {
      "needs_background": "light"
     },
     "output_type": "display_data"
    }
   ],
   "source": [
    "# Проверим есть ли жилая площадь больше общей, если есть удалим\n",
    "data.query('living_area >= total_area')['living_area'].count()\n",
    "\n",
    "# посмотрим на график\n",
    "data.plot(y = 'total_area', kind = 'hist', bins = 50, grid=True, label='total_area', range=(0,200));"
   ]
  },
  {
   "cell_type": "markdown",
   "metadata": {},
   "source": [
    "### kitchen_area"
   ]
  },
  {
   "cell_type": "code",
   "execution_count": 36,
   "metadata": {},
   "outputs": [
    {
     "name": "stdout",
     "output_type": "stream",
     "text": [
      "240\n"
     ]
    }
   ],
   "source": [
    "# проверим кухни менее 3 кв.м и более 30 кв.м если есть удалим\n",
    "print(data.query('kitchen_area < 3 or kitchen_area > 30')['ceiling_height'].count())\n",
    "data.drop(index=data.query('kitchen_area < 3 or kitchen_area > 30').index,inplace=True)"
   ]
  },
  {
   "cell_type": "markdown",
   "metadata": {},
   "source": [
    "### balcony"
   ]
  },
  {
   "cell_type": "code",
   "execution_count": 37,
   "metadata": {},
   "outputs": [
    {
     "name": "stdout",
     "output_type": "stream",
     "text": [
      "AxesSubplot(0.125,0.125;0.775x0.755)\n"
     ]
    },
    {
     "data": {
      "image/png": "[encoded data removed]",
      "text/plain": [
       "<Figure size 432x288 with 1 Axes>"
      ]
     },
     "metadata": {
      "needs_background": "light"
     },
     "output_type": "display_data"
    }
   ],
   "source": [
    "# Посмотрим на количество болконов\n",
    "print(data.plot(y='balcony', kind='box'))\n",
    "# Удалим где больше 2 балконов\n",
    "data.drop(index=data.query('balcony > 2').index,inplace=True);"
   ]
  },
  {
   "cell_type": "markdown",
   "metadata": {},
   "source": [
    "### days_exposition"
   ]
  },
  {
   "cell_type": "code",
   "execution_count": 38,
   "metadata": {},
   "outputs": [
    {
     "name": "stdout",
     "output_type": "stream",
     "text": [
      "объявления продавались больше 2 лет: 688\n",
      "None\n"
     ]
    },
    {
     "data": {
      "image/png": "[encoded data removed]",
      "text/plain": [
       "<Figure size 432x288 with 1 Axes>"
      ]
     },
     "metadata": {
      "needs_background": "light"
     },
     "output_type": "display_data"
    }
   ],
   "source": [
    "# проверим объявления которые продавались более 2 лет\n",
    "print('объявления продавались больше 2 лет:', data.query('days_exposition > 365*2')['days_exposition'].count())\n",
    "print(data.drop(index=data.query('days_exposition > 365*2').index,inplace=True))\n",
    "data.plot(y='days_exposition', kind='hist', bins=50);"
   ]
  },
  {
   "cell_type": "markdown",
   "metadata": {},
   "source": [
    "### airports_nearest"
   ]
  },
  {
   "cell_type": "code",
   "execution_count": 39,
   "metadata": {},
   "outputs": [
    {
     "name": "stdout",
     "output_type": "stream",
     "text": [
      "1\n"
     ]
    },
    {
     "data": {
      "image/png": "[encoded data removed]",
      "text/plain": [
       "<Figure size 432x288 with 1 Axes>"
      ]
     },
     "metadata": {
      "needs_background": "light"
     },
     "output_type": "display_data"
    }
   ],
   "source": [
    "print(data.query('airports_nearest < 5000')['airports_nearest'].count())\n",
    "data.drop(index=data.query('airports_nearest < 5000').index,inplace=True)\n",
    "data.plot(y='airports_nearest', kind='hist', bins=50, range=(0,80000));"
   ]
  },
  {
   "cell_type": "markdown",
   "metadata": {},
   "source": [
    "### Посчитайте и добавьте в таблицу новые столбцы"
   ]
  },
  {
   "cell_type": "markdown",
   "metadata": {},
   "source": [
    "1. цена одного квадратного метра;\n",
    "2. день недели публикации объявления (0 — понедельник, 1 — вторник и так далее);\n",
    "3. месяц публикации объявления;\n",
    "4. год публикации объявления;\n",
    "5. тип этажа квартиры (значения — «‎первый», «последний», «другой»);\n",
    "6. расстояние до центра города в километрах (переведите из м в км и округлите до целых значений)."
   ]
  },
  {
   "cell_type": "code",
   "execution_count": 40,
   "metadata": {},
   "outputs": [
    {
     "data": {
      "text/plain": [
       "0         254901\n",
       "1         186111\n",
       "2         152823\n",
       "3        2163333\n",
       "5         206428\n",
       "          ...   \n",
       "23693     115000\n",
       "23695      81578\n",
       "23696      86206\n",
       "23697     382500\n",
       "23698     112500\n",
       "Name: price_one_meter, Length: 21497, dtype: int64"
      ]
     },
     "execution_count": 40,
     "metadata": {},
     "output_type": "execute_result"
    }
   ],
   "source": [
    "# Подсчитаем цену одного квадратного метра.\n",
    "data['price_one_meter'] = data['last_price'] / data['living_area']\n",
    "data['price_one_meter'].astype('int64')"
   ]
  },
  {
   "cell_type": "code",
   "execution_count": 41,
   "metadata": {},
   "outputs": [],
   "source": [
    "# Добавляем день публикации объявления\n",
    "data['dayofweek'] = data['first_day_exposition'].dt.dayofweek"
   ]
  },
  {
   "cell_type": "code",
   "execution_count": 42,
   "metadata": {},
   "outputs": [],
   "source": [
    "# Добавляем месяц публикации объявления\n",
    "data['month'] = data['first_day_exposition'].dt.month"
   ]
  },
  {
   "cell_type": "code",
   "execution_count": 43,
   "metadata": {},
   "outputs": [],
   "source": [
    "# Добавляем год публикации объявления\n",
    "data['year'] = data['first_day_exposition'].dt.year"
   ]
  },
  {
   "cell_type": "code",
   "execution_count": 44,
   "metadata": {},
   "outputs": [],
   "source": [
    "# Добавляем тип этажа квартиры (значения — «первый», «последний», «другой»);\n",
    "def floor_category(row):\n",
    "    if row['floor']==1:\n",
    "        return \"Первый\"\n",
    "    if row['floor']==row['floors_total']:\n",
    "        return \"Последний\"\n",
    "    return \"Другой\"\n",
    "data['floor_category']=data.apply(floor_category, axis=1)"
   ]
  },
  {
   "cell_type": "code",
   "execution_count": 45,
   "metadata": {},
   "outputs": [
    {
     "name": "stdout",
     "output_type": "stream",
     "text": [
      "Другой       15826\n",
      "Последний     2968\n",
      "Первый        2703\n",
      "Name: floor_category, dtype: int64\n"
     ]
    },
    {
     "data": {
      "text/html": [
       "<div>\n",
       "<style scoped>\n",
       "    .dataframe tbody tr th:only-of-type {\n",
       "        vertical-align: middle;\n",
       "    }\n",
       "\n",
       "    .dataframe tbody tr th {\n",
       "        vertical-align: top;\n",
       "    }\n",
       "\n",
       "    .dataframe thead th {\n",
       "        text-align: right;\n",
       "    }\n",
       "</style>\n",
       "<table border=\"1\" class=\"dataframe\">\n",
       "  <thead>\n",
       "    <tr style=\"text-align: right;\">\n",
       "      <th></th>\n",
       "      <th>total_images</th>\n",
       "      <th>last_price</th>\n",
       "      <th>total_area</th>\n",
       "      <th>first_day_exposition</th>\n",
       "      <th>rooms</th>\n",
       "      <th>ceiling_height</th>\n",
       "      <th>floors_total</th>\n",
       "      <th>living_area</th>\n",
       "      <th>floor</th>\n",
       "      <th>is_apartment</th>\n",
       "      <th>studio</th>\n",
       "      <th>open_plan</th>\n",
       "      <th>kitchen_area</th>\n",
       "      <th>balcony</th>\n",
       "      <th>locality_name</th>\n",
       "      <th>airports_nearest</th>\n",
       "      <th>city_centers_nearest</th>\n",
       "      <th>parks_around3000</th>\n",
       "      <th>parks_nearest</th>\n",
       "      <th>ponds_around3000</th>\n",
       "      <th>ponds_nearest</th>\n",
       "      <th>days_exposition</th>\n",
       "      <th>price_one_meter</th>\n",
       "      <th>dayofweek</th>\n",
       "      <th>month</th>\n",
       "      <th>year</th>\n",
       "      <th>floor_category</th>\n",
       "    </tr>\n",
       "  </thead>\n",
       "  <tbody>\n",
       "    <tr>\n",
       "      <th>0</th>\n",
       "      <td>20</td>\n",
       "      <td>13000000.0</td>\n",
       "      <td>108.0</td>\n",
       "      <td>2019-03-07</td>\n",
       "      <td>3</td>\n",
       "      <td>2.70</td>\n",
       "      <td>16</td>\n",
       "      <td>51</td>\n",
       "      <td>8</td>\n",
       "      <td>False</td>\n",
       "      <td>False</td>\n",
       "      <td>False</td>\n",
       "      <td>25</td>\n",
       "      <td>0</td>\n",
       "      <td>санкт-петербург</td>\n",
       "      <td>18863.0</td>\n",
       "      <td>16028</td>\n",
       "      <td>1</td>\n",
       "      <td>482.0</td>\n",
       "      <td>2</td>\n",
       "      <td>755.0</td>\n",
       "      <td>95</td>\n",
       "      <td>2.549020e+05</td>\n",
       "      <td>3</td>\n",
       "      <td>3</td>\n",
       "      <td>2019</td>\n",
       "      <td>Другой</td>\n",
       "    </tr>\n",
       "    <tr>\n",
       "      <th>1</th>\n",
       "      <td>7</td>\n",
       "      <td>3350000.0</td>\n",
       "      <td>40.4</td>\n",
       "      <td>2018-12-04</td>\n",
       "      <td>1</td>\n",
       "      <td>2.65</td>\n",
       "      <td>11</td>\n",
       "      <td>18</td>\n",
       "      <td>1</td>\n",
       "      <td>False</td>\n",
       "      <td>False</td>\n",
       "      <td>False</td>\n",
       "      <td>11</td>\n",
       "      <td>2</td>\n",
       "      <td>поселок шушары</td>\n",
       "      <td>12817.0</td>\n",
       "      <td>18603</td>\n",
       "      <td>0</td>\n",
       "      <td>0.0</td>\n",
       "      <td>0</td>\n",
       "      <td>0.0</td>\n",
       "      <td>81</td>\n",
       "      <td>1.861111e+05</td>\n",
       "      <td>1</td>\n",
       "      <td>12</td>\n",
       "      <td>2018</td>\n",
       "      <td>Первый</td>\n",
       "    </tr>\n",
       "    <tr>\n",
       "      <th>2</th>\n",
       "      <td>10</td>\n",
       "      <td>5196000.0</td>\n",
       "      <td>56.0</td>\n",
       "      <td>2015-08-20</td>\n",
       "      <td>2</td>\n",
       "      <td>2.65</td>\n",
       "      <td>5</td>\n",
       "      <td>34</td>\n",
       "      <td>4</td>\n",
       "      <td>False</td>\n",
       "      <td>False</td>\n",
       "      <td>False</td>\n",
       "      <td>8</td>\n",
       "      <td>0</td>\n",
       "      <td>санкт-петербург</td>\n",
       "      <td>21741.0</td>\n",
       "      <td>13933</td>\n",
       "      <td>1</td>\n",
       "      <td>90.0</td>\n",
       "      <td>2</td>\n",
       "      <td>574.0</td>\n",
       "      <td>558</td>\n",
       "      <td>1.528235e+05</td>\n",
       "      <td>3</td>\n",
       "      <td>8</td>\n",
       "      <td>2015</td>\n",
       "      <td>Другой</td>\n",
       "    </tr>\n",
       "    <tr>\n",
       "      <th>3</th>\n",
       "      <td>0</td>\n",
       "      <td>64900000.0</td>\n",
       "      <td>159.0</td>\n",
       "      <td>2015-07-24</td>\n",
       "      <td>3</td>\n",
       "      <td>2.65</td>\n",
       "      <td>14</td>\n",
       "      <td>30</td>\n",
       "      <td>9</td>\n",
       "      <td>False</td>\n",
       "      <td>False</td>\n",
       "      <td>False</td>\n",
       "      <td>9</td>\n",
       "      <td>0</td>\n",
       "      <td>санкт-петербург</td>\n",
       "      <td>28098.0</td>\n",
       "      <td>6800</td>\n",
       "      <td>2</td>\n",
       "      <td>84.0</td>\n",
       "      <td>3</td>\n",
       "      <td>234.0</td>\n",
       "      <td>424</td>\n",
       "      <td>2.163333e+06</td>\n",
       "      <td>4</td>\n",
       "      <td>7</td>\n",
       "      <td>2015</td>\n",
       "      <td>Другой</td>\n",
       "    </tr>\n",
       "    <tr>\n",
       "      <th>5</th>\n",
       "      <td>10</td>\n",
       "      <td>2890000.0</td>\n",
       "      <td>30.4</td>\n",
       "      <td>2018-09-10</td>\n",
       "      <td>1</td>\n",
       "      <td>2.65</td>\n",
       "      <td>12</td>\n",
       "      <td>14</td>\n",
       "      <td>5</td>\n",
       "      <td>False</td>\n",
       "      <td>False</td>\n",
       "      <td>False</td>\n",
       "      <td>9</td>\n",
       "      <td>0</td>\n",
       "      <td>поселок городского типа янино-1</td>\n",
       "      <td>99999.0</td>\n",
       "      <td>99999</td>\n",
       "      <td>99999</td>\n",
       "      <td>0.0</td>\n",
       "      <td>99999</td>\n",
       "      <td>0.0</td>\n",
       "      <td>55</td>\n",
       "      <td>2.064286e+05</td>\n",
       "      <td>0</td>\n",
       "      <td>9</td>\n",
       "      <td>2018</td>\n",
       "      <td>Другой</td>\n",
       "    </tr>\n",
       "  </tbody>\n",
       "</table>\n",
       "</div>"
      ],
      "text/plain": [
       "   total_images  last_price  total_area first_day_exposition  rooms  \\\n",
       "0            20  13000000.0       108.0           2019-03-07      3   \n",
       "1             7   3350000.0        40.4           2018-12-04      1   \n",
       "2            10   5196000.0        56.0           2015-08-20      2   \n",
       "3             0  64900000.0       159.0           2015-07-24      3   \n",
       "5            10   2890000.0        30.4           2018-09-10      1   \n",
       "\n",
       "   ceiling_height  floors_total  living_area  floor  is_apartment  studio  \\\n",
       "0            2.70            16           51      8         False   False   \n",
       "1            2.65            11           18      1         False   False   \n",
       "2            2.65             5           34      4         False   False   \n",
       "3            2.65            14           30      9         False   False   \n",
       "5            2.65            12           14      5         False   False   \n",
       "\n",
       "   open_plan  kitchen_area  balcony                    locality_name  \\\n",
       "0      False            25        0                  санкт-петербург   \n",
       "1      False            11        2                   поселок шушары   \n",
       "2      False             8        0                  санкт-петербург   \n",
       "3      False             9        0                  санкт-петербург   \n",
       "5      False             9        0  поселок городского типа янино-1   \n",
       "\n",
       "   airports_nearest  city_centers_nearest  parks_around3000  parks_nearest  \\\n",
       "0           18863.0                 16028                 1          482.0   \n",
       "1           12817.0                 18603                 0            0.0   \n",
       "2           21741.0                 13933                 1           90.0   \n",
       "3           28098.0                  6800                 2           84.0   \n",
       "5           99999.0                 99999             99999            0.0   \n",
       "\n",
       "   ponds_around3000  ponds_nearest  days_exposition  price_one_meter  \\\n",
       "0                 2          755.0               95     2.549020e+05   \n",
       "1                 0            0.0               81     1.861111e+05   \n",
       "2                 2          574.0              558     1.528235e+05   \n",
       "3                 3          234.0              424     2.163333e+06   \n",
       "5             99999            0.0               55     2.064286e+05   \n",
       "\n",
       "   dayofweek  month  year floor_category  \n",
       "0          3      3  2019         Другой  \n",
       "1          1     12  2018         Первый  \n",
       "2          3      8  2015         Другой  \n",
       "3          4      7  2015         Другой  \n",
       "5          0      9  2018         Другой  "
      ]
     },
     "execution_count": 45,
     "metadata": {},
     "output_type": "execute_result"
    }
   ],
   "source": [
    "print(data['floor_category'].value_counts())\n",
    "data.head()"
   ]
  },
  {
   "cell_type": "code",
   "execution_count": 46,
   "metadata": {},
   "outputs": [],
   "source": [
    "#добавим столбец соотношения жилой плозади к общей\n",
    "data['living_total'] = data['living_area'] / data['total_area']\n",
    "\n",
    "#добавим столбец отношения площади кухни к общей\n",
    "data['kitchen_total'] = data['kitchen_area'] / data['total_area']"
   ]
  },
  {
   "cell_type": "code",
   "execution_count": 47,
   "metadata": {},
   "outputs": [
    {
     "name": "stdout",
     "output_type": "stream",
     "text": [
      "city_centers_nearest_km ok\n"
     ]
    }
   ],
   "source": [
    "data['city_centers_nearest_km'] = data['city_centers_nearest']/1000\n",
    "try:\n",
    "    data['city_centers_nearest_km'] =  data['city_centers_nearest_km'].astype('int')\n",
    "    print('city_centers_nearest_km ok')\n",
    "except:\n",
    "    print('city_centers_nearest_km int fail')"
   ]
  },
  {
   "cell_type": "markdown",
   "metadata": {},
   "source": [
    "### Проведите исследовательский анализ данных"
   ]
  },
  {
   "cell_type": "markdown",
   "metadata": {},
   "source": [
    "### Изучение параметров объектов:\n",
    "1. Общая площадь"
   ]
  },
  {
   "cell_type": "code",
   "execution_count": 48,
   "metadata": {},
   "outputs": [
    {
     "name": "stdout",
     "output_type": "stream",
     "text": [
      "count    21497.000000\n",
      "mean        56.328443\n",
      "std         24.421195\n",
      "min         20.000000\n",
      "25%         39.400000\n",
      "50%         50.100000\n",
      "75%         66.200000\n",
      "max        200.000000\n",
      "Name: total_area, dtype: float64\n"
     ]
    },
    {
     "data": {
      "image/png": "[encoded data removed]",
      "text/plain": [
       "<Figure size 432x288 with 1 Axes>"
      ]
     },
     "metadata": {
      "needs_background": "light"
     },
     "output_type": "display_data"
    }
   ],
   "source": [
    "print(data['total_area'].describe())\n",
    "data.hist('total_area', bins=100);"
   ]
  },
  {
   "cell_type": "markdown",
   "metadata": {},
   "source": [
    "Из графика видно что в основном это объекты от 30 до 100 кв.м. среднее 56 кв.м."
   ]
  },
  {
   "cell_type": "markdown",
   "metadata": {},
   "source": [
    "2. Жилая площадь"
   ]
  },
  {
   "cell_type": "code",
   "execution_count": 49,
   "metadata": {},
   "outputs": [
    {
     "name": "stdout",
     "output_type": "stream",
     "text": [
      "count    21497.000000\n",
      "mean        31.867889\n",
      "std         15.754751\n",
      "min          2.000000\n",
      "25%         18.000000\n",
      "50%         30.000000\n",
      "75%         39.000000\n",
      "max        164.000000\n",
      "Name: living_area, dtype: float64\n"
     ]
    },
    {
     "data": {
      "image/png": "[encoded data removed]",
      "text/plain": [
       "<Figure size 432x288 with 1 Axes>"
      ]
     },
     "metadata": {
      "needs_background": "light"
     },
     "output_type": "display_data"
    }
   ],
   "source": [
    "print(data['living_area'].describe())\n",
    "data.hist('living_area', bins=100);"
   ]
  },
  {
   "cell_type": "markdown",
   "metadata": {},
   "source": [
    "Больше всего объявлений 18 кв.м жилой площади. И от 25 до 43 кв.м. Среднее 32 кв.м."
   ]
  },
  {
   "cell_type": "markdown",
   "metadata": {},
   "source": [
    "3. Площадь кухни"
   ]
  },
  {
   "cell_type": "code",
   "execution_count": 50,
   "metadata": {},
   "outputs": [
    {
     "name": "stdout",
     "output_type": "stream",
     "text": [
      "count    21497.000000\n",
      "mean         9.597339\n",
      "std          3.833411\n",
      "min          3.000000\n",
      "25%          7.000000\n",
      "50%          9.000000\n",
      "75%         11.000000\n",
      "max         30.000000\n",
      "Name: kitchen_area, dtype: float64\n"
     ]
    },
    {
     "data": {
      "image/png": "[encoded data removed]",
      "text/plain": [
       "<Figure size 432x288 with 1 Axes>"
      ]
     },
     "metadata": {
      "needs_background": "light"
     },
     "output_type": "display_data"
    }
   ],
   "source": [
    "print(data['kitchen_area'].describe())\n",
    "data.hist('kitchen_area', bins=50);"
   ]
  },
  {
   "cell_type": "markdown",
   "metadata": {},
   "source": [
    "Среднее значение 9 кв.м. площадь кухни"
   ]
  },
  {
   "cell_type": "markdown",
   "metadata": {},
   "source": [
    "4. Цена объекта"
   ]
  },
  {
   "cell_type": "code",
   "execution_count": 51,
   "metadata": {},
   "outputs": [],
   "source": [
    "data['last_price_query'] = data['last_price'] / 1000000"
   ]
  },
  {
   "cell_type": "code",
   "execution_count": 52,
   "metadata": {},
   "outputs": [
    {
     "name": "stdout",
     "output_type": "stream",
     "text": [
      "count    21497.000000\n",
      "mean         5.653208\n",
      "std          4.779777\n",
      "min          0.500000\n",
      "25%          3.390000\n",
      "50%          4.500000\n",
      "75%          6.400000\n",
      "max         98.000000\n",
      "Name: last_price_query, dtype: float64\n"
     ]
    },
    {
     "data": {
      "image/png": "[encoded data removed]",
      "text/plain": [
       "<Figure size 432x288 with 1 Axes>"
      ]
     },
     "metadata": {
      "needs_background": "light"
     },
     "output_type": "display_data"
    }
   ],
   "source": [
    "print(data['last_price_query'].describe())\n",
    "data.hist('last_price_query', bins=100);"
   ]
  },
  {
   "cell_type": "markdown",
   "metadata": {},
   "source": [
    "Средняя цена 5.5 млн. максимальная цена 9.5 млн. а минимальная 500 тыс., график выглядит нормально"
   ]
  },
  {
   "cell_type": "markdown",
   "metadata": {},
   "source": [
    "5. Количество комнат"
   ]
  },
  {
   "cell_type": "code",
   "execution_count": 53,
   "metadata": {},
   "outputs": [
    {
     "name": "stdout",
     "output_type": "stream",
     "text": [
      "count    21497.000000\n",
      "mean         1.990324\n",
      "std          0.964430\n",
      "min          0.000000\n",
      "25%          1.000000\n",
      "50%          2.000000\n",
      "75%          3.000000\n",
      "max          6.000000\n",
      "Name: rooms, dtype: float64\n"
     ]
    },
    {
     "data": {
      "image/png": "[encoded data removed]",
      "text/plain": [
       "<Figure size 432x288 with 1 Axes>"
      ]
     },
     "metadata": {
      "needs_background": "light"
     },
     "output_type": "display_data"
    }
   ],
   "source": [
    "print(data['rooms'].describe())\n",
    "data.hist('rooms', bins=6);"
   ]
  },
  {
   "cell_type": "markdown",
   "metadata": {},
   "source": [
    "Средняе количество комнат 2. даже есть 6 комнатные квартиры"
   ]
  },
  {
   "cell_type": "markdown",
   "metadata": {},
   "source": [
    "6. Высота потолков"
   ]
  },
  {
   "cell_type": "code",
   "execution_count": 54,
   "metadata": {},
   "outputs": [
    {
     "name": "stdout",
     "output_type": "stream",
     "text": [
      "count    21497.000000\n",
      "mean         2.677635\n",
      "std          0.168688\n",
      "min          2.500000\n",
      "25%          2.600000\n",
      "50%          2.650000\n",
      "75%          2.700000\n",
      "max          3.500000\n",
      "Name: ceiling_height, dtype: float64\n"
     ]
    },
    {
     "data": {
      "image/png": "[encoded data removed]",
      "text/plain": [
       "<Figure size 432x288 with 1 Axes>"
      ]
     },
     "metadata": {
      "needs_background": "light"
     },
     "output_type": "display_data"
    }
   ],
   "source": [
    "print(data['ceiling_height'].describe())\n",
    "data.hist('ceiling_height', bins=20);"
   ]
  },
  {
   "cell_type": "markdown",
   "metadata": {},
   "source": [
    "Средняя высота потолков 2.67 м."
   ]
  },
  {
   "cell_type": "markdown",
   "metadata": {},
   "source": [
    "7. Этаж квартиры"
   ]
  },
  {
   "cell_type": "code",
   "execution_count": 55,
   "metadata": {},
   "outputs": [
    {
     "name": "stdout",
     "output_type": "stream",
     "text": [
      "count    21497.000000\n",
      "mean         5.885193\n",
      "std          4.871911\n",
      "min          1.000000\n",
      "25%          2.000000\n",
      "50%          4.000000\n",
      "75%          8.000000\n",
      "max         33.000000\n",
      "Name: floor, dtype: float64\n"
     ]
    },
    {
     "data": {
      "image/png": "[encoded data removed]",
      "text/plain": [
       "<Figure size 432x288 with 1 Axes>"
      ]
     },
     "metadata": {
      "needs_background": "light"
     },
     "output_type": "display_data"
    }
   ],
   "source": [
    "print(data['floor'].describe())\n",
    "data.hist('floor', bins=30);"
   ]
  },
  {
   "cell_type": "markdown",
   "metadata": {},
   "source": [
    "Среднее 5 этаж. Но больше всего объявлений имеют 2 этаж"
   ]
  },
  {
   "cell_type": "markdown",
   "metadata": {},
   "source": [
    "8. Тип этажа квартиры («первый», «последний», «другой»)"
   ]
  },
  {
   "cell_type": "code",
   "execution_count": 56,
   "metadata": {},
   "outputs": [
    {
     "name": "stdout",
     "output_type": "stream",
     "text": [
      "count      21497\n",
      "unique         3\n",
      "top       Другой\n",
      "freq       15826\n",
      "Name: floor_category, dtype: object\n"
     ]
    },
    {
     "data": {
      "image/png": "[encoded data removed]",
      "text/plain": [
       "<Figure size 432x288 with 1 Axes>"
      ]
     },
     "metadata": {
      "needs_background": "light"
     },
     "output_type": "display_data"
    }
   ],
   "source": [
    "print(data['floor_category'].describe())\n",
    "data.groupby(by='floor_category')['floor_category'].count().plot(kind='bar', ylabel = 'count');"
   ]
  },
  {
   "cell_type": "markdown",
   "metadata": {},
   "source": [
    "Первый и последний примерно одинаковое количество объявлений, чаще всего это 3 этаж."
   ]
  },
  {
   "cell_type": "markdown",
   "metadata": {},
   "source": [
    "9. Общее количество этажей в доме"
   ]
  },
  {
   "cell_type": "code",
   "execution_count": 57,
   "metadata": {},
   "outputs": [
    {
     "name": "stdout",
     "output_type": "stream",
     "text": [
      "count    21497.000000\n",
      "mean        10.761269\n",
      "std          6.614023\n",
      "min          1.000000\n",
      "25%          5.000000\n",
      "50%          9.000000\n",
      "75%         16.000000\n",
      "max         60.000000\n",
      "Name: floors_total, dtype: float64\n"
     ]
    },
    {
     "data": {
      "image/png": "[encoded data removed]",
      "text/plain": [
       "<Figure size 432x288 with 1 Axes>"
      ]
     },
     "metadata": {
      "needs_background": "light"
     },
     "output_type": "display_data"
    }
   ],
   "source": [
    "print(data['floors_total'].describe())\n",
    "data.hist('floors_total', bins=30);"
   ]
  },
  {
   "cell_type": "markdown",
   "metadata": {},
   "source": [
    "Чаще всего это 5 этажное здание и 10"
   ]
  },
  {
   "cell_type": "markdown",
   "metadata": {},
   "source": [
    "10. Расстояние до центра города в метрах"
   ]
  },
  {
   "cell_type": "code",
   "execution_count": 58,
   "metadata": {},
   "outputs": [
    {
     "name": "stdout",
     "output_type": "stream",
     "text": [
      "count    21497.000000\n",
      "mean     34989.263944\n",
      "std      37245.881962\n",
      "min        181.000000\n",
      "25%      11312.000000\n",
      "50%      15176.000000\n",
      "75%      47684.000000\n",
      "max      99999.000000\n",
      "Name: city_centers_nearest, dtype: float64\n"
     ]
    },
    {
     "data": {
      "image/png": "[encoded data removed]",
      "text/plain": [
       "<Figure size 432x288 with 1 Axes>"
      ]
     },
     "metadata": {
      "needs_background": "light"
     },
     "output_type": "display_data"
    }
   ],
   "source": [
    "print(data['city_centers_nearest'].describe())\n",
    "data.hist('city_centers_nearest', bins=50, range=(0,80000));"
   ]
  },
  {
   "cell_type": "markdown",
   "metadata": {},
   "source": [
    "Среднее значение до центра города это 11 км. максимум 66 км."
   ]
  },
  {
   "cell_type": "markdown",
   "metadata": {},
   "source": [
    "11. Расстояние до ближайшего аэропорта"
   ]
  },
  {
   "cell_type": "code",
   "execution_count": 59,
   "metadata": {},
   "outputs": [
    {
     "name": "stdout",
     "output_type": "stream",
     "text": [
      "count    21497.000000\n",
      "mean     45984.699679\n",
      "std      32383.791090\n",
      "min       6450.000000\n",
      "25%      20904.000000\n",
      "50%      33977.000000\n",
      "75%      57575.000000\n",
      "max      99999.000000\n",
      "Name: airports_nearest, dtype: float64\n"
     ]
    },
    {
     "data": {
      "image/png": "[encoded data removed]",
      "text/plain": [
       "<Figure size 432x288 with 1 Axes>"
      ]
     },
     "metadata": {
      "needs_background": "light"
     },
     "output_type": "display_data"
    }
   ],
   "source": [
    "print(data['airports_nearest'].describe())\n",
    "data.hist('airports_nearest', bins=50, range=(0,80000));"
   ]
  },
  {
   "cell_type": "markdown",
   "metadata": {},
   "source": [
    "Расстояние колеблится от 10 км. до 50 км. "
   ]
  },
  {
   "cell_type": "markdown",
   "metadata": {},
   "source": [
    "12. Расстояние до ближайшего парка"
   ]
  },
  {
   "cell_type": "code",
   "execution_count": 60,
   "metadata": {},
   "outputs": [
    {
     "name": "stdout",
     "output_type": "stream",
     "text": [
      "count    21497.00000\n",
      "mean       161.47188\n",
      "std        301.83805\n",
      "min          0.00000\n",
      "25%          0.00000\n",
      "50%          0.00000\n",
      "75%        282.00000\n",
      "max       3190.00000\n",
      "Name: parks_nearest, dtype: float64\n"
     ]
    },
    {
     "data": {
      "image/png": "[encoded data removed]",
      "text/plain": [
       "<Figure size 432x288 with 1 Axes>"
      ]
     },
     "metadata": {
      "needs_background": "light"
     },
     "output_type": "display_data"
    }
   ],
   "source": [
    "print(data['parks_nearest'].describe())\n",
    "data.hist('parks_nearest', bins=20);"
   ]
  },
  {
   "cell_type": "markdown",
   "metadata": {},
   "source": [
    "Среднее до ближайшего парка 161 метра дальше всех 3 км. 0 парков рядом нет"
   ]
  },
  {
   "cell_type": "markdown",
   "metadata": {},
   "source": [
    "13. День и месяц публикации объявления"
   ]
  },
  {
   "cell_type": "code",
   "execution_count": 61,
   "metadata": {},
   "outputs": [
    {
     "name": "stdout",
     "output_type": "stream",
     "text": [
      "count    21497.000000\n",
      "mean         6.407592\n",
      "std          3.488622\n",
      "min          1.000000\n",
      "25%          3.000000\n",
      "50%          6.000000\n",
      "75%         10.000000\n",
      "max         12.000000\n",
      "Name: month, dtype: float64\n",
      "count    21497.000000\n",
      "mean         2.574313\n",
      "std          1.788521\n",
      "min          0.000000\n",
      "25%          1.000000\n",
      "50%          3.000000\n",
      "75%          4.000000\n",
      "max          6.000000\n",
      "Name: dayofweek, dtype: float64\n"
     ]
    },
    {
     "data": {
      "image/png": "[encoded data removed]",
      "text/plain": [
       "<Figure size 432x288 with 1 Axes>"
      ]
     },
     "metadata": {
      "needs_background": "light"
     },
     "output_type": "display_data"
    },
    {
     "data": {
      "image/png": "[encoded data removed]",
      "text/plain": [
       "<Figure size 432x288 with 1 Axes>"
      ]
     },
     "metadata": {
      "needs_background": "light"
     },
     "output_type": "display_data"
    }
   ],
   "source": [
    "print(data['month'].describe())\n",
    "print(data['dayofweek'].describe())\n",
    "data.hist('dayofweek', bins=7);\n",
    "data.hist('month', bins=12);\n",
    "\n"
   ]
  },
  {
   "cell_type": "markdown",
   "metadata": {},
   "source": [
    "Много объявлений с февраля по апрель и с сентября по ноябрь по выходным количество объявлений падает"
   ]
  },
  {
   "cell_type": "markdown",
   "metadata": {},
   "source": [
    "#### Изучите, как быстро продавались квартиры (столбец days_exposition). Этот параметр показывает, сколько дней было размещено каждое объявление. "
   ]
  },
  {
   "cell_type": "code",
   "execution_count": 62,
   "metadata": {},
   "outputs": [
    {
     "name": "stdout",
     "output_type": "stream",
     "text": [
      "AxesSubplot(0.125,0.125;0.775x0.755)\n",
      "AxesSubplot(0.125,0.125;0.775x0.755)\n",
      "Среднее время продажи квартиры: 141.88691445317951\n",
      "Медианное время продажи квартиры: 95.0\n"
     ]
    },
    {
     "data": {
      "text/plain": [
       "count    21497.000000\n",
       "mean       141.886914\n",
       "std        145.429885\n",
       "min          1.000000\n",
       "25%         45.000000\n",
       "50%         95.000000\n",
       "75%        179.000000\n",
       "max        730.000000\n",
       "Name: days_exposition, dtype: float64"
      ]
     },
     "execution_count": 62,
     "metadata": {},
     "output_type": "execute_result"
    },
    {
     "data": {
      "image/png": "[encoded data removed]",
      "text/plain": [
       "<Figure size 432x288 with 1 Axes>"
      ]
     },
     "metadata": {
      "needs_background": "light"
     },
     "output_type": "display_data"
    },
    {
     "data": {
      "image/png": "[encoded data removed]",
      "text/plain": [
       "<Figure size 432x288 with 1 Axes>"
      ]
     },
     "metadata": {
      "needs_background": "light"
     },
     "output_type": "display_data"
    }
   ],
   "source": [
    "print(data.plot(y='days_exposition', kind='hist', bins=100))\n",
    "print(data.plot(y='days_exposition', kind='hist', bins=100, range =(0,200)))\n",
    "print('Среднее время продажи квартиры:', data['days_exposition'].mean())\n",
    "print('Медианное время продажи квартиры:', data['days_exposition'].median())\n",
    "data['days_exposition'].describe()"
   ]
  },
  {
   "cell_type": "markdown",
   "metadata": {},
   "source": [
    "Среднее время продажи квартиры: 149 дней \n",
    "Медианное время продажи квартиры: 90 дней\n",
    "Так же есть выбивающиеся значения на 45, 60, 95 дней."
   ]
  },
  {
   "cell_type": "markdown",
   "metadata": {},
   "source": [
    "Сроки, в течение которых объявление о продаже считается актуальным.\n",
    "\n",
    "в других регионах <br>\n",
    "Квартира От 45 дней <br>\n",
    "Комната\t45 дней <br>\n",
    "Дом, участок 90 дней <br>\n",
    "Гараж, машиноместо 30 дней"
   ]
  },
  {
   "cell_type": "markdown",
   "metadata": {},
   "source": [
    "### Какие факторы больше всего влияют на общую (полную) стоимость объекта?"
   ]
  },
  {
   "cell_type": "markdown",
   "metadata": {},
   "source": [
    "###### Изучите, зависит ли цена от:\n",
    "1. общей площади"
   ]
  },
  {
   "cell_type": "code",
   "execution_count": 63,
   "metadata": {},
   "outputs": [
    {
     "data": {
      "text/plain": [
       "0.7197166467874166"
      ]
     },
     "execution_count": 63,
     "metadata": {},
     "output_type": "execute_result"
    },
    {
     "data": {
      "image/png": "[encoded data removed]",
      "text/plain": [
       "<Figure size 432x288 with 1 Axes>"
      ]
     },
     "metadata": {
      "needs_background": "light"
     },
     "output_type": "display_data"
    }
   ],
   "source": [
    "pivot_table_total_area = data.pivot_table(index = 'last_price', values = 'total_area', aggfunc = ['mean', 'count', 'median'])\n",
    "pivot_table_total_area.columns = ['mean', 'count', 'median']\n",
    "pivot_table_total_area.plot(y = 'median', style = 'o')\n",
    "\n",
    "pivot_table_total_area.sort_values('median', ascending = False)\n",
    "\n",
    "data['total_area'].corr(data['last_price'])"
   ]
  },
  {
   "cell_type": "markdown",
   "metadata": {},
   "source": [
    "Из графика видно , что зависимость цены от площади есть, но она не такая уж сильная. При возрастании площади и цена возрастает"
   ]
  },
  {
   "cell_type": "markdown",
   "metadata": {},
   "source": [
    "2. жилой площади"
   ]
  },
  {
   "cell_type": "code",
   "execution_count": 64,
   "metadata": {},
   "outputs": [
    {
     "data": {
      "text/plain": [
       "0.5781845954015202"
      ]
     },
     "execution_count": 64,
     "metadata": {},
     "output_type": "execute_result"
    },
    {
     "data": {
      "image/png": "[encoded data removed]",
      "text/plain": [
       "<Figure size 432x288 with 1 Axes>"
      ]
     },
     "metadata": {
      "needs_background": "light"
     },
     "output_type": "display_data"
    }
   ],
   "source": [
    "pivot_table_living_area = data.pivot_table(index = 'last_price', values = 'living_area', aggfunc = ['mean', 'count', 'median'])\n",
    "pivot_table_living_area.columns = ['mean', 'count', 'median']\n",
    "pivot_table_living_area.plot(y = 'median', style = 'o')\n",
    "\n",
    "pivot_table_living_area.sort_values('median', ascending = False)\n",
    "\n",
    "data['living_area'].corr(data['last_price'])"
   ]
  },
  {
   "cell_type": "markdown",
   "metadata": {},
   "source": [
    "От жилой площади цена зависит уже меньше чем от общей."
   ]
  },
  {
   "cell_type": "markdown",
   "metadata": {},
   "source": [
    "3. площади кухни"
   ]
  },
  {
   "cell_type": "code",
   "execution_count": 65,
   "metadata": {},
   "outputs": [
    {
     "data": {
      "text/plain": [
       "0.473096895443905"
      ]
     },
     "execution_count": 65,
     "metadata": {},
     "output_type": "execute_result"
    },
    {
     "data": {
      "image/png": "[encoded data removed]",
      "text/plain": [
       "<Figure size 432x288 with 1 Axes>"
      ]
     },
     "metadata": {
      "needs_background": "light"
     },
     "output_type": "display_data"
    }
   ],
   "source": [
    "pivot_table_living_area = data.pivot_table(index = 'last_price', values = 'kitchen_area', aggfunc = ['mean', 'count', 'median'])\n",
    "pivot_table_living_area.columns = ['mean', 'count', 'median']\n",
    "pivot_table_living_area.plot(y = 'median', style = 'o')\n",
    "\n",
    "pivot_table_living_area.sort_values('median', ascending = False)\n",
    "\n",
    "data['kitchen_area'].corr(data['last_price'])"
   ]
  },
  {
   "cell_type": "markdown",
   "metadata": {},
   "source": [
    "Цена практически независит от площади кухни"
   ]
  },
  {
   "cell_type": "markdown",
   "metadata": {},
   "source": [
    "4. количества комнат"
   ]
  },
  {
   "cell_type": "code",
   "execution_count": 66,
   "metadata": {},
   "outputs": [
    {
     "data": {
      "text/plain": [
       "0.4280765084594619"
      ]
     },
     "execution_count": 66,
     "metadata": {},
     "output_type": "execute_result"
    },
    {
     "data": {
      "image/png": "[encoded data removed]",
      "text/plain": [
       "<Figure size 432x288 with 1 Axes>"
      ]
     },
     "metadata": {
      "needs_background": "light"
     },
     "output_type": "display_data"
    }
   ],
   "source": [
    "pivot_table_rooms = data.pivot_table(index = 'rooms', values = 'last_price', aggfunc = ['mean', 'count', 'median'])\n",
    "pivot_table_rooms.columns = ['mean', 'count', 'median']\n",
    "pivot_table_rooms.plot(y = 'median')\n",
    "\n",
    "pivot_table_rooms.query('count > 50').sort_values('median', ascending = False)\n",
    "\n",
    "\n",
    "\n",
    "data['rooms'].corr(data['last_price'])"
   ]
  },
  {
   "cell_type": "markdown",
   "metadata": {},
   "source": [
    "Зависимость от количества комнат практически нету"
   ]
  },
  {
   "cell_type": "markdown",
   "metadata": {},
   "source": [
    "5. этажа, на котором расположена квартира (первый, последний, другой);"
   ]
  },
  {
   "cell_type": "code",
   "execution_count": 67,
   "metadata": {},
   "outputs": [
    {
     "data": {
      "text/html": [
       "<div>\n",
       "<style scoped>\n",
       "    .dataframe tbody tr th:only-of-type {\n",
       "        vertical-align: middle;\n",
       "    }\n",
       "\n",
       "    .dataframe tbody tr th {\n",
       "        vertical-align: top;\n",
       "    }\n",
       "\n",
       "    .dataframe thead th {\n",
       "        text-align: right;\n",
       "    }\n",
       "</style>\n",
       "<table border=\"1\" class=\"dataframe\">\n",
       "  <thead>\n",
       "    <tr style=\"text-align: right;\">\n",
       "      <th></th>\n",
       "      <th>mean</th>\n",
       "      <th>count</th>\n",
       "      <th>median</th>\n",
       "    </tr>\n",
       "    <tr>\n",
       "      <th>floor_category</th>\n",
       "      <th></th>\n",
       "      <th></th>\n",
       "      <th></th>\n",
       "    </tr>\n",
       "  </thead>\n",
       "  <tbody>\n",
       "    <tr>\n",
       "      <th>Другой</th>\n",
       "      <td>5.907735e+06</td>\n",
       "      <td>15826</td>\n",
       "      <td>4700000.0</td>\n",
       "    </tr>\n",
       "    <tr>\n",
       "      <th>Первый</th>\n",
       "      <td>4.462814e+06</td>\n",
       "      <td>2703</td>\n",
       "      <td>3850000.0</td>\n",
       "    </tr>\n",
       "    <tr>\n",
       "      <th>Последний</th>\n",
       "      <td>5.380124e+06</td>\n",
       "      <td>2968</td>\n",
       "      <td>4190000.0</td>\n",
       "    </tr>\n",
       "  </tbody>\n",
       "</table>\n",
       "</div>"
      ],
      "text/plain": [
       "                        mean  count     median\n",
       "floor_category                                \n",
       "Другой          5.907735e+06  15826  4700000.0\n",
       "Первый          4.462814e+06   2703  3850000.0\n",
       "Последний       5.380124e+06   2968  4190000.0"
      ]
     },
     "execution_count": 67,
     "metadata": {},
     "output_type": "execute_result"
    },
    {
     "data": {
      "image/png": "[encoded data removed]",
      "text/plain": [
       "<Figure size 432x288 with 1 Axes>"
      ]
     },
     "metadata": {
      "needs_background": "light"
     },
     "output_type": "display_data"
    }
   ],
   "source": [
    "pivot_table_floor_category = data.pivot_table(index = 'floor_category', values = 'last_price', aggfunc = ['mean', 'count', 'median'])\n",
    "pivot_table_floor_category.columns = ['mean', 'count', 'median']\n",
    "pivot_table_floor_category.plot(y = 'median')\n",
    "pivot_table_floor_category"
   ]
  },
  {
   "cell_type": "markdown",
   "metadata": {},
   "source": [
    "На первом этаже цена ниже чем на последнем, но еще выше цена на другом этаже"
   ]
  },
  {
   "cell_type": "markdown",
   "metadata": {},
   "source": [
    "6. даты размещения (день недели, месяц, год)"
   ]
  },
  {
   "cell_type": "code",
   "execution_count": 68,
   "metadata": {},
   "outputs": [
    {
     "data": {
      "text/html": [
       "<div>\n",
       "<style scoped>\n",
       "    .dataframe tbody tr th:only-of-type {\n",
       "        vertical-align: middle;\n",
       "    }\n",
       "\n",
       "    .dataframe tbody tr th {\n",
       "        vertical-align: top;\n",
       "    }\n",
       "\n",
       "    .dataframe thead th {\n",
       "        text-align: right;\n",
       "    }\n",
       "</style>\n",
       "<table border=\"1\" class=\"dataframe\">\n",
       "  <thead>\n",
       "    <tr style=\"text-align: right;\">\n",
       "      <th></th>\n",
       "      <th>mean</th>\n",
       "      <th>count</th>\n",
       "      <th>median</th>\n",
       "    </tr>\n",
       "    <tr>\n",
       "      <th>dayofweek</th>\n",
       "      <th></th>\n",
       "      <th></th>\n",
       "      <th></th>\n",
       "    </tr>\n",
       "  </thead>\n",
       "  <tbody>\n",
       "    <tr>\n",
       "      <th>1</th>\n",
       "      <td>5.683977e+06</td>\n",
       "      <td>3815</td>\n",
       "      <td>4600000.0</td>\n",
       "    </tr>\n",
       "    <tr>\n",
       "      <th>2</th>\n",
       "      <td>5.669172e+06</td>\n",
       "      <td>3581</td>\n",
       "      <td>4550000.0</td>\n",
       "    </tr>\n",
       "    <tr>\n",
       "      <th>0</th>\n",
       "      <td>5.663292e+06</td>\n",
       "      <td>3251</td>\n",
       "      <td>4500000.0</td>\n",
       "    </tr>\n",
       "    <tr>\n",
       "      <th>3</th>\n",
       "      <td>5.791509e+06</td>\n",
       "      <td>3876</td>\n",
       "      <td>4500000.0</td>\n",
       "    </tr>\n",
       "    <tr>\n",
       "      <th>5</th>\n",
       "      <td>5.668157e+06</td>\n",
       "      <td>1773</td>\n",
       "      <td>4500000.0</td>\n",
       "    </tr>\n",
       "    <tr>\n",
       "      <th>4</th>\n",
       "      <td>5.529567e+06</td>\n",
       "      <td>3668</td>\n",
       "      <td>4489000.0</td>\n",
       "    </tr>\n",
       "    <tr>\n",
       "      <th>6</th>\n",
       "      <td>5.446822e+06</td>\n",
       "      <td>1533</td>\n",
       "      <td>4480000.0</td>\n",
       "    </tr>\n",
       "  </tbody>\n",
       "</table>\n",
       "</div>"
      ],
      "text/plain": [
       "                   mean  count     median\n",
       "dayofweek                                \n",
       "1          5.683977e+06   3815  4600000.0\n",
       "2          5.669172e+06   3581  4550000.0\n",
       "0          5.663292e+06   3251  4500000.0\n",
       "3          5.791509e+06   3876  4500000.0\n",
       "5          5.668157e+06   1773  4500000.0\n",
       "4          5.529567e+06   3668  4489000.0\n",
       "6          5.446822e+06   1533  4480000.0"
      ]
     },
     "execution_count": 68,
     "metadata": {},
     "output_type": "execute_result"
    },
    {
     "data": {
      "image/png": "[encoded data removed]",
      "text/plain": [
       "<Figure size 432x288 with 1 Axes>"
      ]
     },
     "metadata": {
      "needs_background": "light"
     },
     "output_type": "display_data"
    }
   ],
   "source": [
    "pivot_table_weekday_exposition = data.pivot_table(index = 'dayofweek', values = 'last_price', aggfunc = ['mean', 'count', 'median'])\n",
    "pivot_table_weekday_exposition.columns = ['mean', 'count', 'median']\n",
    "pivot_table_weekday_exposition.plot(y = 'median')\n",
    "\n",
    "pivot_table_weekday_exposition.sort_values('median', ascending = False)"
   ]
  },
  {
   "cell_type": "markdown",
   "metadata": {},
   "source": [
    "Цена независит от размещения дня недели, да она выше во вторник но немного"
   ]
  },
  {
   "cell_type": "code",
   "execution_count": 69,
   "metadata": {},
   "outputs": [
    {
     "data": {
      "text/html": [
       "<div>\n",
       "<style scoped>\n",
       "    .dataframe tbody tr th:only-of-type {\n",
       "        vertical-align: middle;\n",
       "    }\n",
       "\n",
       "    .dataframe tbody tr th {\n",
       "        vertical-align: top;\n",
       "    }\n",
       "\n",
       "    .dataframe thead th {\n",
       "        text-align: right;\n",
       "    }\n",
       "</style>\n",
       "<table border=\"1\" class=\"dataframe\">\n",
       "  <thead>\n",
       "    <tr style=\"text-align: right;\">\n",
       "      <th></th>\n",
       "      <th>mean</th>\n",
       "      <th>count</th>\n",
       "      <th>median</th>\n",
       "    </tr>\n",
       "    <tr>\n",
       "      <th>month</th>\n",
       "      <th></th>\n",
       "      <th></th>\n",
       "      <th></th>\n",
       "    </tr>\n",
       "  </thead>\n",
       "  <tbody>\n",
       "    <tr>\n",
       "      <th>4</th>\n",
       "      <td>5.592895e+06</td>\n",
       "      <td>2147</td>\n",
       "      <td>4690000.0</td>\n",
       "    </tr>\n",
       "    <tr>\n",
       "      <th>12</th>\n",
       "      <td>5.842995e+06</td>\n",
       "      <td>1471</td>\n",
       "      <td>4600000.0</td>\n",
       "    </tr>\n",
       "    <tr>\n",
       "      <th>9</th>\n",
       "      <td>5.804935e+06</td>\n",
       "      <td>1796</td>\n",
       "      <td>4550000.0</td>\n",
       "    </tr>\n",
       "    <tr>\n",
       "      <th>11</th>\n",
       "      <td>5.659261e+06</td>\n",
       "      <td>2158</td>\n",
       "      <td>4535000.0</td>\n",
       "    </tr>\n",
       "    <tr>\n",
       "      <th>1</th>\n",
       "      <td>5.537357e+06</td>\n",
       "      <td>1342</td>\n",
       "      <td>4500000.0</td>\n",
       "    </tr>\n",
       "    <tr>\n",
       "      <th>2</th>\n",
       "      <td>5.718853e+06</td>\n",
       "      <td>2415</td>\n",
       "      <td>4500000.0</td>\n",
       "    </tr>\n",
       "    <tr>\n",
       "      <th>3</th>\n",
       "      <td>5.624047e+06</td>\n",
       "      <td>2328</td>\n",
       "      <td>4500000.0</td>\n",
       "    </tr>\n",
       "    <tr>\n",
       "      <th>8</th>\n",
       "      <td>5.800417e+06</td>\n",
       "      <td>1614</td>\n",
       "      <td>4500000.0</td>\n",
       "    </tr>\n",
       "    <tr>\n",
       "      <th>10</th>\n",
       "      <td>5.473208e+06</td>\n",
       "      <td>1954</td>\n",
       "      <td>4500000.0</td>\n",
       "    </tr>\n",
       "    <tr>\n",
       "      <th>5</th>\n",
       "      <td>5.666431e+06</td>\n",
       "      <td>1153</td>\n",
       "      <td>4480000.0</td>\n",
       "    </tr>\n",
       "    <tr>\n",
       "      <th>7</th>\n",
       "      <td>5.539907e+06</td>\n",
       "      <td>1515</td>\n",
       "      <td>4480000.0</td>\n",
       "    </tr>\n",
       "    <tr>\n",
       "      <th>6</th>\n",
       "      <td>5.590922e+06</td>\n",
       "      <td>1604</td>\n",
       "      <td>4300000.0</td>\n",
       "    </tr>\n",
       "  </tbody>\n",
       "</table>\n",
       "</div>"
      ],
      "text/plain": [
       "               mean  count     median\n",
       "month                                \n",
       "4      5.592895e+06   2147  4690000.0\n",
       "12     5.842995e+06   1471  4600000.0\n",
       "9      5.804935e+06   1796  4550000.0\n",
       "11     5.659261e+06   2158  4535000.0\n",
       "1      5.537357e+06   1342  4500000.0\n",
       "2      5.718853e+06   2415  4500000.0\n",
       "3      5.624047e+06   2328  4500000.0\n",
       "8      5.800417e+06   1614  4500000.0\n",
       "10     5.473208e+06   1954  4500000.0\n",
       "5      5.666431e+06   1153  4480000.0\n",
       "7      5.539907e+06   1515  4480000.0\n",
       "6      5.590922e+06   1604  4300000.0"
      ]
     },
     "execution_count": 69,
     "metadata": {},
     "output_type": "execute_result"
    },
    {
     "data": {
      "image/png": "[encoded data removed]",
      "text/plain": [
       "<Figure size 432x288 with 1 Axes>"
      ]
     },
     "metadata": {
      "needs_background": "light"
     },
     "output_type": "display_data"
    }
   ],
   "source": [
    "pivot_table_weekday_exposition = data.pivot_table(index = 'month', values = 'last_price', aggfunc = ['mean', 'count', 'median'])\n",
    "pivot_table_weekday_exposition.columns = ['mean', 'count', 'median']\n",
    "pivot_table_weekday_exposition.plot(y = 'median')\n",
    "\n",
    "pivot_table_weekday_exposition.sort_values('median', ascending = False)"
   ]
  },
  {
   "cell_type": "markdown",
   "metadata": {},
   "source": [
    "От месяца размещения цена независит"
   ]
  },
  {
   "cell_type": "code",
   "execution_count": 71,
   "metadata": {},
   "outputs": [
    {
     "data": {
      "text/html": [
       "<div>\n",
       "<style scoped>\n",
       "    .dataframe tbody tr th:only-of-type {\n",
       "        vertical-align: middle;\n",
       "    }\n",
       "\n",
       "    .dataframe tbody tr th {\n",
       "        vertical-align: top;\n",
       "    }\n",
       "\n",
       "    .dataframe thead th {\n",
       "        text-align: right;\n",
       "    }\n",
       "</style>\n",
       "<table border=\"1\" class=\"dataframe\">\n",
       "  <thead>\n",
       "    <tr style=\"text-align: right;\">\n",
       "      <th></th>\n",
       "      <th>mean</th>\n",
       "      <th>count</th>\n",
       "      <th>median</th>\n",
       "    </tr>\n",
       "    <tr>\n",
       "      <th>year</th>\n",
       "      <th></th>\n",
       "      <th></th>\n",
       "      <th></th>\n",
       "    </tr>\n",
       "  </thead>\n",
       "  <tbody>\n",
       "    <tr>\n",
       "      <th>2014</th>\n",
       "      <td>1.151769e+07</td>\n",
       "      <td>55</td>\n",
       "      <td>8200000.0</td>\n",
       "    </tr>\n",
       "    <tr>\n",
       "      <th>2015</th>\n",
       "      <td>7.010050e+06</td>\n",
       "      <td>713</td>\n",
       "      <td>4990000.0</td>\n",
       "    </tr>\n",
       "    <tr>\n",
       "      <th>2019</th>\n",
       "      <td>6.001949e+06</td>\n",
       "      <td>2685</td>\n",
       "      <td>4950000.0</td>\n",
       "    </tr>\n",
       "    <tr>\n",
       "      <th>2018</th>\n",
       "      <td>5.439238e+06</td>\n",
       "      <td>8036</td>\n",
       "      <td>4500000.0</td>\n",
       "    </tr>\n",
       "    <tr>\n",
       "      <th>2016</th>\n",
       "      <td>5.808867e+06</td>\n",
       "      <td>2362</td>\n",
       "      <td>4400000.0</td>\n",
       "    </tr>\n",
       "    <tr>\n",
       "      <th>2017</th>\n",
       "      <td>5.538827e+06</td>\n",
       "      <td>7646</td>\n",
       "      <td>4390000.0</td>\n",
       "    </tr>\n",
       "  </tbody>\n",
       "</table>\n",
       "</div>"
      ],
      "text/plain": [
       "              mean  count     median\n",
       "year                                \n",
       "2014  1.151769e+07     55  8200000.0\n",
       "2015  7.010050e+06    713  4990000.0\n",
       "2019  6.001949e+06   2685  4950000.0\n",
       "2018  5.439238e+06   8036  4500000.0\n",
       "2016  5.808867e+06   2362  4400000.0\n",
       "2017  5.538827e+06   7646  4390000.0"
      ]
     },
     "execution_count": 71,
     "metadata": {},
     "output_type": "execute_result"
    },
    {
     "data": {
      "image/png": "[encoded data removed]",
      "text/plain": [
       "<Figure size 432x288 with 1 Axes>"
      ]
     },
     "metadata": {
      "needs_background": "light"
     },
     "output_type": "display_data"
    }
   ],
   "source": [
    "pivot_table_weekday_exposition = data.pivot_table(index = 'year', values = 'last_price', aggfunc = ['mean', 'count', 'median'])\n",
    "pivot_table_weekday_exposition.columns = ['mean', 'count', 'median']\n",
    "pivot_table_weekday_exposition.plot(y = 'median')\n",
    "\n",
    "pivot_table_weekday_exposition.sort_values('median', ascending = False)"
   ]
  },
  {
   "cell_type": "markdown",
   "metadata": {},
   "source": [
    "От года размещения цена независит"
   ]
  },
  {
   "cell_type": "markdown",
   "metadata": {},
   "source": [
    "### Вывод\n",
    "Больше всего цена зависит от общей площади, меньше от жилой площади и площади кухни, и независит цена от года месяца и дня размещения"
   ]
  },
  {
   "cell_type": "markdown",
   "metadata": {},
   "source": [
    "### Посчитайте среднюю цену одного квадратного метра в 10 населённых пунктах с наибольшим числом объявлений. Выделите населённые пункты с самой высокой и низкой стоимостью квадратного метра. Эти данные можно найти по имени в столбце locality_name."
   ]
  },
  {
   "cell_type": "code",
   "execution_count": 72,
   "metadata": {},
   "outputs": [
    {
     "name": "stdout",
     "output_type": "stream",
     "text": [
      "                   count           mean\n",
      "locality_name                          \n",
      "санкт-петербург    14102  213484.582676\n",
      "поселок мурино       518  173455.857637\n",
      "поселок шушары       415  156369.822465\n",
      "всеволожск           366  134470.431115\n",
      "пушкин               329  191876.080892\n",
      "колпино              320  133430.717549\n",
      "поселок парголово    318  199458.377939\n",
      "гатчина              281  121997.705090\n",
      "деревня кудрово      274  185447.463848\n",
      "выборг               218   99722.964908\n",
      "                 count           mean\n",
      "locality_name                        \n",
      "санкт-петербург  14102  213484.582676\n"
     ]
    },
    {
     "data": {
      "text/html": [
       "<div>\n",
       "<style scoped>\n",
       "    .dataframe tbody tr th:only-of-type {\n",
       "        vertical-align: middle;\n",
       "    }\n",
       "\n",
       "    .dataframe tbody tr th {\n",
       "        vertical-align: top;\n",
       "    }\n",
       "\n",
       "    .dataframe thead th {\n",
       "        text-align: right;\n",
       "    }\n",
       "</style>\n",
       "<table border=\"1\" class=\"dataframe\">\n",
       "  <thead>\n",
       "    <tr style=\"text-align: right;\">\n",
       "      <th></th>\n",
       "      <th>count</th>\n",
       "      <th>mean</th>\n",
       "    </tr>\n",
       "    <tr>\n",
       "      <th>locality_name</th>\n",
       "      <th></th>\n",
       "      <th></th>\n",
       "    </tr>\n",
       "  </thead>\n",
       "  <tbody>\n",
       "    <tr>\n",
       "      <th>выборг</th>\n",
       "      <td>218</td>\n",
       "      <td>99722.964908</td>\n",
       "    </tr>\n",
       "  </tbody>\n",
       "</table>\n",
       "</div>"
      ],
      "text/plain": [
       "               count          mean\n",
       "locality_name                     \n",
       "выборг           218  99722.964908"
      ]
     },
     "execution_count": 72,
     "metadata": {},
     "output_type": "execute_result"
    }
   ],
   "source": [
    "locality_pivot_table = data.pivot_table(index = 'locality_name', values = 'price_one_meter', aggfunc=['count', 'mean'])\n",
    "locality_pivot_table.columns = ['count', 'mean']\n",
    "locality_pivot_table = locality_pivot_table.sort_values('count', ascending = False).head(10)\n",
    "print(locality_pivot_table)\n",
    "#самая высокая стоимость\n",
    "print(locality_pivot_table[locality_pivot_table['mean']==locality_pivot_table['mean'].max()])\n",
    "#самая низкая стоимость\n",
    "locality_pivot_table[locality_pivot_table['mean']==locality_pivot_table['mean'].min()]"
   ]
  },
  {
   "cell_type": "markdown",
   "metadata": {},
   "source": [
    "<p>Самая высокая стоимость жилья в санкт-петербурге</p>\n",
    "<p>Самая низкая стоимость жилья в выборге</p>"
   ]
  },
  {
   "cell_type": "markdown",
   "metadata": {},
   "source": [
    "### Ранее вы посчитали расстояние до центра в километрах. Теперь выделите квартиры в Санкт-Петербурге с помощью столбца locality_name и вычислите среднюю цену каждого километра. Опишите, как стоимость объектов зависит от расстояния до центра города."
   ]
  },
  {
   "cell_type": "code",
   "execution_count": 73,
   "metadata": {},
   "outputs": [
    {
     "data": {
      "text/html": [
       "<div>\n",
       "<style scoped>\n",
       "    .dataframe tbody tr th:only-of-type {\n",
       "        vertical-align: middle;\n",
       "    }\n",
       "\n",
       "    .dataframe tbody tr th {\n",
       "        vertical-align: top;\n",
       "    }\n",
       "\n",
       "    .dataframe thead th {\n",
       "        text-align: right;\n",
       "    }\n",
       "</style>\n",
       "<table border=\"1\" class=\"dataframe\">\n",
       "  <thead>\n",
       "    <tr style=\"text-align: right;\">\n",
       "      <th></th>\n",
       "      <th>total_images</th>\n",
       "      <th>last_price</th>\n",
       "      <th>total_area</th>\n",
       "      <th>first_day_exposition</th>\n",
       "      <th>rooms</th>\n",
       "      <th>ceiling_height</th>\n",
       "      <th>floors_total</th>\n",
       "      <th>living_area</th>\n",
       "      <th>floor</th>\n",
       "      <th>is_apartment</th>\n",
       "      <th>studio</th>\n",
       "      <th>open_plan</th>\n",
       "      <th>kitchen_area</th>\n",
       "      <th>balcony</th>\n",
       "      <th>locality_name</th>\n",
       "      <th>airports_nearest</th>\n",
       "      <th>city_centers_nearest</th>\n",
       "      <th>parks_around3000</th>\n",
       "      <th>parks_nearest</th>\n",
       "      <th>ponds_around3000</th>\n",
       "      <th>ponds_nearest</th>\n",
       "      <th>days_exposition</th>\n",
       "      <th>price_one_meter</th>\n",
       "      <th>dayofweek</th>\n",
       "      <th>month</th>\n",
       "      <th>year</th>\n",
       "      <th>floor_category</th>\n",
       "      <th>living_total</th>\n",
       "      <th>kitchen_total</th>\n",
       "      <th>city_centers_nearest_km</th>\n",
       "      <th>last_price_query</th>\n",
       "    </tr>\n",
       "  </thead>\n",
       "  <tbody>\n",
       "    <tr>\n",
       "      <th>0</th>\n",
       "      <td>20</td>\n",
       "      <td>13000000.0</td>\n",
       "      <td>108.00</td>\n",
       "      <td>2019-03-07</td>\n",
       "      <td>3</td>\n",
       "      <td>2.70</td>\n",
       "      <td>16</td>\n",
       "      <td>51</td>\n",
       "      <td>8</td>\n",
       "      <td>False</td>\n",
       "      <td>False</td>\n",
       "      <td>False</td>\n",
       "      <td>25</td>\n",
       "      <td>0</td>\n",
       "      <td>санкт-петербург</td>\n",
       "      <td>18863.0</td>\n",
       "      <td>16028</td>\n",
       "      <td>1</td>\n",
       "      <td>482.0</td>\n",
       "      <td>2</td>\n",
       "      <td>755.0</td>\n",
       "      <td>95</td>\n",
       "      <td>2.549020e+05</td>\n",
       "      <td>3</td>\n",
       "      <td>3</td>\n",
       "      <td>2019</td>\n",
       "      <td>Другой</td>\n",
       "      <td>0.472222</td>\n",
       "      <td>0.231481</td>\n",
       "      <td>16</td>\n",
       "      <td>13.000</td>\n",
       "    </tr>\n",
       "    <tr>\n",
       "      <th>1</th>\n",
       "      <td>10</td>\n",
       "      <td>5196000.0</td>\n",
       "      <td>56.00</td>\n",
       "      <td>2015-08-20</td>\n",
       "      <td>2</td>\n",
       "      <td>2.65</td>\n",
       "      <td>5</td>\n",
       "      <td>34</td>\n",
       "      <td>4</td>\n",
       "      <td>False</td>\n",
       "      <td>False</td>\n",
       "      <td>False</td>\n",
       "      <td>8</td>\n",
       "      <td>0</td>\n",
       "      <td>санкт-петербург</td>\n",
       "      <td>21741.0</td>\n",
       "      <td>13933</td>\n",
       "      <td>1</td>\n",
       "      <td>90.0</td>\n",
       "      <td>2</td>\n",
       "      <td>574.0</td>\n",
       "      <td>558</td>\n",
       "      <td>1.528235e+05</td>\n",
       "      <td>3</td>\n",
       "      <td>8</td>\n",
       "      <td>2015</td>\n",
       "      <td>Другой</td>\n",
       "      <td>0.607143</td>\n",
       "      <td>0.142857</td>\n",
       "      <td>13</td>\n",
       "      <td>5.196</td>\n",
       "    </tr>\n",
       "    <tr>\n",
       "      <th>2</th>\n",
       "      <td>0</td>\n",
       "      <td>64900000.0</td>\n",
       "      <td>159.00</td>\n",
       "      <td>2015-07-24</td>\n",
       "      <td>3</td>\n",
       "      <td>2.65</td>\n",
       "      <td>14</td>\n",
       "      <td>30</td>\n",
       "      <td>9</td>\n",
       "      <td>False</td>\n",
       "      <td>False</td>\n",
       "      <td>False</td>\n",
       "      <td>9</td>\n",
       "      <td>0</td>\n",
       "      <td>санкт-петербург</td>\n",
       "      <td>28098.0</td>\n",
       "      <td>6800</td>\n",
       "      <td>2</td>\n",
       "      <td>84.0</td>\n",
       "      <td>3</td>\n",
       "      <td>234.0</td>\n",
       "      <td>424</td>\n",
       "      <td>2.163333e+06</td>\n",
       "      <td>4</td>\n",
       "      <td>7</td>\n",
       "      <td>2015</td>\n",
       "      <td>Другой</td>\n",
       "      <td>0.188679</td>\n",
       "      <td>0.056604</td>\n",
       "      <td>6</td>\n",
       "      <td>64.900</td>\n",
       "    </tr>\n",
       "    <tr>\n",
       "      <th>3</th>\n",
       "      <td>5</td>\n",
       "      <td>7915000.0</td>\n",
       "      <td>71.60</td>\n",
       "      <td>2019-04-18</td>\n",
       "      <td>2</td>\n",
       "      <td>2.65</td>\n",
       "      <td>24</td>\n",
       "      <td>30</td>\n",
       "      <td>22</td>\n",
       "      <td>False</td>\n",
       "      <td>False</td>\n",
       "      <td>False</td>\n",
       "      <td>18</td>\n",
       "      <td>2</td>\n",
       "      <td>санкт-петербург</td>\n",
       "      <td>23982.0</td>\n",
       "      <td>11634</td>\n",
       "      <td>0</td>\n",
       "      <td>0.0</td>\n",
       "      <td>0</td>\n",
       "      <td>0.0</td>\n",
       "      <td>95</td>\n",
       "      <td>2.638333e+05</td>\n",
       "      <td>3</td>\n",
       "      <td>4</td>\n",
       "      <td>2019</td>\n",
       "      <td>Другой</td>\n",
       "      <td>0.418994</td>\n",
       "      <td>0.251397</td>\n",
       "      <td>11</td>\n",
       "      <td>7.915</td>\n",
       "    </tr>\n",
       "    <tr>\n",
       "      <th>4</th>\n",
       "      <td>18</td>\n",
       "      <td>5400000.0</td>\n",
       "      <td>61.00</td>\n",
       "      <td>2017-02-26</td>\n",
       "      <td>3</td>\n",
       "      <td>2.50</td>\n",
       "      <td>9</td>\n",
       "      <td>43</td>\n",
       "      <td>7</td>\n",
       "      <td>False</td>\n",
       "      <td>False</td>\n",
       "      <td>False</td>\n",
       "      <td>6</td>\n",
       "      <td>2</td>\n",
       "      <td>санкт-петербург</td>\n",
       "      <td>50898.0</td>\n",
       "      <td>15008</td>\n",
       "      <td>0</td>\n",
       "      <td>0.0</td>\n",
       "      <td>0</td>\n",
       "      <td>0.0</td>\n",
       "      <td>289</td>\n",
       "      <td>1.255814e+05</td>\n",
       "      <td>6</td>\n",
       "      <td>2</td>\n",
       "      <td>2017</td>\n",
       "      <td>Другой</td>\n",
       "      <td>0.704918</td>\n",
       "      <td>0.098361</td>\n",
       "      <td>15</td>\n",
       "      <td>5.400</td>\n",
       "    </tr>\n",
       "    <tr>\n",
       "      <th>...</th>\n",
       "      <td>...</td>\n",
       "      <td>...</td>\n",
       "      <td>...</td>\n",
       "      <td>...</td>\n",
       "      <td>...</td>\n",
       "      <td>...</td>\n",
       "      <td>...</td>\n",
       "      <td>...</td>\n",
       "      <td>...</td>\n",
       "      <td>...</td>\n",
       "      <td>...</td>\n",
       "      <td>...</td>\n",
       "      <td>...</td>\n",
       "      <td>...</td>\n",
       "      <td>...</td>\n",
       "      <td>...</td>\n",
       "      <td>...</td>\n",
       "      <td>...</td>\n",
       "      <td>...</td>\n",
       "      <td>...</td>\n",
       "      <td>...</td>\n",
       "      <td>...</td>\n",
       "      <td>...</td>\n",
       "      <td>...</td>\n",
       "      <td>...</td>\n",
       "      <td>...</td>\n",
       "      <td>...</td>\n",
       "      <td>...</td>\n",
       "      <td>...</td>\n",
       "      <td>...</td>\n",
       "      <td>...</td>\n",
       "    </tr>\n",
       "    <tr>\n",
       "      <th>14097</th>\n",
       "      <td>19</td>\n",
       "      <td>9200000.0</td>\n",
       "      <td>101.00</td>\n",
       "      <td>2019-04-01</td>\n",
       "      <td>3</td>\n",
       "      <td>3.05</td>\n",
       "      <td>15</td>\n",
       "      <td>63</td>\n",
       "      <td>12</td>\n",
       "      <td>False</td>\n",
       "      <td>False</td>\n",
       "      <td>False</td>\n",
       "      <td>15</td>\n",
       "      <td>0</td>\n",
       "      <td>санкт-петербург</td>\n",
       "      <td>15632.0</td>\n",
       "      <td>14428</td>\n",
       "      <td>0</td>\n",
       "      <td>0.0</td>\n",
       "      <td>0</td>\n",
       "      <td>0.0</td>\n",
       "      <td>23</td>\n",
       "      <td>1.460317e+05</td>\n",
       "      <td>0</td>\n",
       "      <td>4</td>\n",
       "      <td>2019</td>\n",
       "      <td>Другой</td>\n",
       "      <td>0.623762</td>\n",
       "      <td>0.148515</td>\n",
       "      <td>14</td>\n",
       "      <td>9.200</td>\n",
       "    </tr>\n",
       "    <tr>\n",
       "      <th>14098</th>\n",
       "      <td>13</td>\n",
       "      <td>3550000.0</td>\n",
       "      <td>35.30</td>\n",
       "      <td>2018-02-28</td>\n",
       "      <td>1</td>\n",
       "      <td>2.86</td>\n",
       "      <td>15</td>\n",
       "      <td>16</td>\n",
       "      <td>4</td>\n",
       "      <td>False</td>\n",
       "      <td>False</td>\n",
       "      <td>False</td>\n",
       "      <td>9</td>\n",
       "      <td>2</td>\n",
       "      <td>санкт-петербург</td>\n",
       "      <td>17284.0</td>\n",
       "      <td>16081</td>\n",
       "      <td>1</td>\n",
       "      <td>353.0</td>\n",
       "      <td>2</td>\n",
       "      <td>652.0</td>\n",
       "      <td>29</td>\n",
       "      <td>2.218750e+05</td>\n",
       "      <td>2</td>\n",
       "      <td>2</td>\n",
       "      <td>2018</td>\n",
       "      <td>Другой</td>\n",
       "      <td>0.453258</td>\n",
       "      <td>0.254958</td>\n",
       "      <td>16</td>\n",
       "      <td>3.550</td>\n",
       "    </tr>\n",
       "    <tr>\n",
       "      <th>14099</th>\n",
       "      <td>3</td>\n",
       "      <td>5500000.0</td>\n",
       "      <td>52.00</td>\n",
       "      <td>2018-07-19</td>\n",
       "      <td>2</td>\n",
       "      <td>2.65</td>\n",
       "      <td>5</td>\n",
       "      <td>31</td>\n",
       "      <td>2</td>\n",
       "      <td>False</td>\n",
       "      <td>False</td>\n",
       "      <td>False</td>\n",
       "      <td>6</td>\n",
       "      <td>0</td>\n",
       "      <td>санкт-петербург</td>\n",
       "      <td>20151.0</td>\n",
       "      <td>6263</td>\n",
       "      <td>1</td>\n",
       "      <td>300.0</td>\n",
       "      <td>0</td>\n",
       "      <td>0.0</td>\n",
       "      <td>15</td>\n",
       "      <td>1.774194e+05</td>\n",
       "      <td>3</td>\n",
       "      <td>7</td>\n",
       "      <td>2018</td>\n",
       "      <td>Другой</td>\n",
       "      <td>0.596154</td>\n",
       "      <td>0.115385</td>\n",
       "      <td>6</td>\n",
       "      <td>5.500</td>\n",
       "    </tr>\n",
       "    <tr>\n",
       "      <th>14100</th>\n",
       "      <td>11</td>\n",
       "      <td>9470000.0</td>\n",
       "      <td>72.90</td>\n",
       "      <td>2016-10-13</td>\n",
       "      <td>2</td>\n",
       "      <td>2.75</td>\n",
       "      <td>25</td>\n",
       "      <td>40</td>\n",
       "      <td>7</td>\n",
       "      <td>False</td>\n",
       "      <td>False</td>\n",
       "      <td>False</td>\n",
       "      <td>10</td>\n",
       "      <td>1</td>\n",
       "      <td>санкт-петербург</td>\n",
       "      <td>19424.0</td>\n",
       "      <td>4489</td>\n",
       "      <td>0</td>\n",
       "      <td>0.0</td>\n",
       "      <td>1</td>\n",
       "      <td>806.0</td>\n",
       "      <td>519</td>\n",
       "      <td>2.367500e+05</td>\n",
       "      <td>3</td>\n",
       "      <td>10</td>\n",
       "      <td>2016</td>\n",
       "      <td>Другой</td>\n",
       "      <td>0.548697</td>\n",
       "      <td>0.137174</td>\n",
       "      <td>4</td>\n",
       "      <td>9.470</td>\n",
       "    </tr>\n",
       "    <tr>\n",
       "      <th>14101</th>\n",
       "      <td>13</td>\n",
       "      <td>11475000.0</td>\n",
       "      <td>76.75</td>\n",
       "      <td>2017-03-28</td>\n",
       "      <td>2</td>\n",
       "      <td>3.00</td>\n",
       "      <td>17</td>\n",
       "      <td>30</td>\n",
       "      <td>12</td>\n",
       "      <td>False</td>\n",
       "      <td>False</td>\n",
       "      <td>False</td>\n",
       "      <td>23</td>\n",
       "      <td>2</td>\n",
       "      <td>санкт-петербург</td>\n",
       "      <td>39140.0</td>\n",
       "      <td>10364</td>\n",
       "      <td>2</td>\n",
       "      <td>173.0</td>\n",
       "      <td>3</td>\n",
       "      <td>196.0</td>\n",
       "      <td>602</td>\n",
       "      <td>3.825000e+05</td>\n",
       "      <td>1</td>\n",
       "      <td>3</td>\n",
       "      <td>2017</td>\n",
       "      <td>Другой</td>\n",
       "      <td>0.390879</td>\n",
       "      <td>0.299674</td>\n",
       "      <td>10</td>\n",
       "      <td>11.475</td>\n",
       "    </tr>\n",
       "  </tbody>\n",
       "</table>\n",
       "<p>14102 rows × 31 columns</p>\n",
       "</div>"
      ],
      "text/plain": [
       "       total_images  last_price  total_area first_day_exposition  rooms  \\\n",
       "0                20  13000000.0      108.00           2019-03-07      3   \n",
       "1                10   5196000.0       56.00           2015-08-20      2   \n",
       "2                 0  64900000.0      159.00           2015-07-24      3   \n",
       "3                 5   7915000.0       71.60           2019-04-18      2   \n",
       "4                18   5400000.0       61.00           2017-02-26      3   \n",
       "...             ...         ...         ...                  ...    ...   \n",
       "14097            19   9200000.0      101.00           2019-04-01      3   \n",
       "14098            13   3550000.0       35.30           2018-02-28      1   \n",
       "14099             3   5500000.0       52.00           2018-07-19      2   \n",
       "14100            11   9470000.0       72.90           2016-10-13      2   \n",
       "14101            13  11475000.0       76.75           2017-03-28      2   \n",
       "\n",
       "       ceiling_height  floors_total  living_area  floor  is_apartment  studio  \\\n",
       "0                2.70            16           51      8         False   False   \n",
       "1                2.65             5           34      4         False   False   \n",
       "2                2.65            14           30      9         False   False   \n",
       "3                2.65            24           30     22         False   False   \n",
       "4                2.50             9           43      7         False   False   \n",
       "...               ...           ...          ...    ...           ...     ...   \n",
       "14097            3.05            15           63     12         False   False   \n",
       "14098            2.86            15           16      4         False   False   \n",
       "14099            2.65             5           31      2         False   False   \n",
       "14100            2.75            25           40      7         False   False   \n",
       "14101            3.00            17           30     12         False   False   \n",
       "\n",
       "       open_plan  kitchen_area  balcony    locality_name  airports_nearest  \\\n",
       "0          False            25        0  санкт-петербург           18863.0   \n",
       "1          False             8        0  санкт-петербург           21741.0   \n",
       "2          False             9        0  санкт-петербург           28098.0   \n",
       "3          False            18        2  санкт-петербург           23982.0   \n",
       "4          False             6        2  санкт-петербург           50898.0   \n",
       "...          ...           ...      ...              ...               ...   \n",
       "14097      False            15        0  санкт-петербург           15632.0   \n",
       "14098      False             9        2  санкт-петербург           17284.0   \n",
       "14099      False             6        0  санкт-петербург           20151.0   \n",
       "14100      False            10        1  санкт-петербург           19424.0   \n",
       "14101      False            23        2  санкт-петербург           39140.0   \n",
       "\n",
       "       city_centers_nearest  parks_around3000  parks_nearest  \\\n",
       "0                     16028                 1          482.0   \n",
       "1                     13933                 1           90.0   \n",
       "2                      6800                 2           84.0   \n",
       "3                     11634                 0            0.0   \n",
       "4                     15008                 0            0.0   \n",
       "...                     ...               ...            ...   \n",
       "14097                 14428                 0            0.0   \n",
       "14098                 16081                 1          353.0   \n",
       "14099                  6263                 1          300.0   \n",
       "14100                  4489                 0            0.0   \n",
       "14101                 10364                 2          173.0   \n",
       "\n",
       "       ponds_around3000  ponds_nearest  days_exposition  price_one_meter  \\\n",
       "0                     2          755.0               95     2.549020e+05   \n",
       "1                     2          574.0              558     1.528235e+05   \n",
       "2                     3          234.0              424     2.163333e+06   \n",
       "3                     0            0.0               95     2.638333e+05   \n",
       "4                     0            0.0              289     1.255814e+05   \n",
       "...                 ...            ...              ...              ...   \n",
       "14097                 0            0.0               23     1.460317e+05   \n",
       "14098                 2          652.0               29     2.218750e+05   \n",
       "14099                 0            0.0               15     1.774194e+05   \n",
       "14100                 1          806.0              519     2.367500e+05   \n",
       "14101                 3          196.0              602     3.825000e+05   \n",
       "\n",
       "       dayofweek  month  year floor_category  living_total  kitchen_total  \\\n",
       "0              3      3  2019         Другой      0.472222       0.231481   \n",
       "1              3      8  2015         Другой      0.607143       0.142857   \n",
       "2              4      7  2015         Другой      0.188679       0.056604   \n",
       "3              3      4  2019         Другой      0.418994       0.251397   \n",
       "4              6      2  2017         Другой      0.704918       0.098361   \n",
       "...          ...    ...   ...            ...           ...            ...   \n",
       "14097          0      4  2019         Другой      0.623762       0.148515   \n",
       "14098          2      2  2018         Другой      0.453258       0.254958   \n",
       "14099          3      7  2018         Другой      0.596154       0.115385   \n",
       "14100          3     10  2016         Другой      0.548697       0.137174   \n",
       "14101          1      3  2017         Другой      0.390879       0.299674   \n",
       "\n",
       "       city_centers_nearest_km  last_price_query  \n",
       "0                           16            13.000  \n",
       "1                           13             5.196  \n",
       "2                            6            64.900  \n",
       "3                           11             7.915  \n",
       "4                           15             5.400  \n",
       "...                        ...               ...  \n",
       "14097                       14             9.200  \n",
       "14098                       16             3.550  \n",
       "14099                        6             5.500  \n",
       "14100                        4             9.470  \n",
       "14101                       10            11.475  \n",
       "\n",
       "[14102 rows x 31 columns]"
      ]
     },
     "execution_count": 73,
     "metadata": {},
     "output_type": "execute_result"
    }
   ],
   "source": [
    "saint_petersburg = data.query('locality_name == \"санкт-петербург\"').reset_index(drop=True)\n",
    "saint_petersburg"
   ]
  },
  {
   "cell_type": "code",
   "execution_count": 74,
   "metadata": {},
   "outputs": [
    {
     "data": {
      "text/html": [
       "<div>\n",
       "<style scoped>\n",
       "    .dataframe tbody tr th:only-of-type {\n",
       "        vertical-align: middle;\n",
       "    }\n",
       "\n",
       "    .dataframe tbody tr th {\n",
       "        vertical-align: top;\n",
       "    }\n",
       "\n",
       "    .dataframe thead tr th {\n",
       "        text-align: left;\n",
       "    }\n",
       "\n",
       "    .dataframe thead tr:last-of-type th {\n",
       "        text-align: right;\n",
       "    }\n",
       "</style>\n",
       "<table border=\"1\" class=\"dataframe\">\n",
       "  <thead>\n",
       "    <tr>\n",
       "      <th></th>\n",
       "      <th>mean</th>\n",
       "      <th>median</th>\n",
       "      <th>last_price_km</th>\n",
       "    </tr>\n",
       "    <tr>\n",
       "      <th></th>\n",
       "      <th>price_one_meter</th>\n",
       "      <th>price_one_meter</th>\n",
       "      <th></th>\n",
       "    </tr>\n",
       "    <tr>\n",
       "      <th>city_centers_nearest_km</th>\n",
       "      <th></th>\n",
       "      <th></th>\n",
       "      <th></th>\n",
       "    </tr>\n",
       "  </thead>\n",
       "  <tbody>\n",
       "    <tr>\n",
       "      <th>0</th>\n",
       "      <td>251581.503948</td>\n",
       "      <td>197826.086957</td>\n",
       "      <td>8.125000e+05</td>\n",
       "    </tr>\n",
       "    <tr>\n",
       "      <th>1</th>\n",
       "      <td>236887.616288</td>\n",
       "      <td>205147.058824</td>\n",
       "      <td>3.996923e+05</td>\n",
       "    </tr>\n",
       "    <tr>\n",
       "      <th>2</th>\n",
       "      <td>231116.285422</td>\n",
       "      <td>186274.509804</td>\n",
       "      <td>1.081667e+07</td>\n",
       "    </tr>\n",
       "    <tr>\n",
       "      <th>3</th>\n",
       "      <td>221924.487608</td>\n",
       "      <td>184848.484848</td>\n",
       "      <td>7.195455e+05</td>\n",
       "    </tr>\n",
       "    <tr>\n",
       "      <th>4</th>\n",
       "      <td>264621.940505</td>\n",
       "      <td>214575.163399</td>\n",
       "      <td>3.600000e+05</td>\n",
       "    </tr>\n",
       "    <tr>\n",
       "      <th>5</th>\n",
       "      <td>311914.947163</td>\n",
       "      <td>222583.333333</td>\n",
       "      <td>3.884615e+05</td>\n",
       "    </tr>\n",
       "    <tr>\n",
       "      <th>6</th>\n",
       "      <td>312024.751133</td>\n",
       "      <td>234444.444444</td>\n",
       "      <td>3.321429e+05</td>\n",
       "    </tr>\n",
       "    <tr>\n",
       "      <th>7</th>\n",
       "      <td>257658.436976</td>\n",
       "      <td>215339.427134</td>\n",
       "      <td>6.700000e+05</td>\n",
       "    </tr>\n",
       "    <tr>\n",
       "      <th>8</th>\n",
       "      <td>219733.553250</td>\n",
       "      <td>198666.666667</td>\n",
       "      <td>2.985714e+05</td>\n",
       "    </tr>\n",
       "    <tr>\n",
       "      <th>9</th>\n",
       "      <td>204224.519401</td>\n",
       "      <td>185968.750000</td>\n",
       "      <td>3.250000e+05</td>\n",
       "    </tr>\n",
       "    <tr>\n",
       "      <th>10</th>\n",
       "      <td>204641.658989</td>\n",
       "      <td>186436.781609</td>\n",
       "      <td>1.183333e+06</td>\n",
       "    </tr>\n",
       "    <tr>\n",
       "      <th>11</th>\n",
       "      <td>196627.792053</td>\n",
       "      <td>183333.333333</td>\n",
       "      <td>3.555556e+05</td>\n",
       "    </tr>\n",
       "    <tr>\n",
       "      <th>12</th>\n",
       "      <td>204143.234682</td>\n",
       "      <td>190476.190476</td>\n",
       "      <td>2.107143e+05</td>\n",
       "    </tr>\n",
       "    <tr>\n",
       "      <th>13</th>\n",
       "      <td>201965.273106</td>\n",
       "      <td>189404.761905</td>\n",
       "      <td>3.250000e+06</td>\n",
       "    </tr>\n",
       "    <tr>\n",
       "      <th>14</th>\n",
       "      <td>197240.728023</td>\n",
       "      <td>189361.702128</td>\n",
       "      <td>4.857143e+05</td>\n",
       "    </tr>\n",
       "    <tr>\n",
       "      <th>15</th>\n",
       "      <td>194848.682980</td>\n",
       "      <td>182352.941176</td>\n",
       "      <td>4.050000e+05</td>\n",
       "    </tr>\n",
       "    <tr>\n",
       "      <th>16</th>\n",
       "      <td>188865.003049</td>\n",
       "      <td>176315.789474</td>\n",
       "      <td>6.454545e+05</td>\n",
       "    </tr>\n",
       "    <tr>\n",
       "      <th>17</th>\n",
       "      <td>179109.259481</td>\n",
       "      <td>169333.333333</td>\n",
       "      <td>7.818182e+05</td>\n",
       "    </tr>\n",
       "    <tr>\n",
       "      <th>18</th>\n",
       "      <td>177325.724731</td>\n",
       "      <td>165436.274510</td>\n",
       "      <td>6.000000e+05</td>\n",
       "    </tr>\n",
       "    <tr>\n",
       "      <th>19</th>\n",
       "      <td>190210.927539</td>\n",
       "      <td>175000.000000</td>\n",
       "      <td>4.158333e+05</td>\n",
       "    </tr>\n",
       "    <tr>\n",
       "      <th>20</th>\n",
       "      <td>210148.123430</td>\n",
       "      <td>206994.500000</td>\n",
       "      <td>2.741667e+05</td>\n",
       "    </tr>\n",
       "    <tr>\n",
       "      <th>21</th>\n",
       "      <td>178406.565647</td>\n",
       "      <td>175611.111111</td>\n",
       "      <td>5.166667e+06</td>\n",
       "    </tr>\n",
       "    <tr>\n",
       "      <th>22</th>\n",
       "      <td>172190.693821</td>\n",
       "      <td>162882.653061</td>\n",
       "      <td>2.368750e+05</td>\n",
       "    </tr>\n",
       "    <tr>\n",
       "      <th>23</th>\n",
       "      <td>166794.117841</td>\n",
       "      <td>154336.124402</td>\n",
       "      <td>4.333333e+05</td>\n",
       "    </tr>\n",
       "    <tr>\n",
       "      <th>24</th>\n",
       "      <td>180094.228892</td>\n",
       "      <td>183857.142857</td>\n",
       "      <td>4.863636e+05</td>\n",
       "    </tr>\n",
       "    <tr>\n",
       "      <th>25</th>\n",
       "      <td>206421.573222</td>\n",
       "      <td>206250.000000</td>\n",
       "      <td>4.333333e+05</td>\n",
       "    </tr>\n",
       "    <tr>\n",
       "      <th>26</th>\n",
       "      <td>143313.953488</td>\n",
       "      <td>130000.000000</td>\n",
       "      <td>5.500000e+05</td>\n",
       "    </tr>\n",
       "    <tr>\n",
       "      <th>27</th>\n",
       "      <td>309479.166667</td>\n",
       "      <td>309479.166667</td>\n",
       "      <td>2.250000e+05</td>\n",
       "    </tr>\n",
       "    <tr>\n",
       "      <th>28</th>\n",
       "      <td>166750.440046</td>\n",
       "      <td>155878.787879</td>\n",
       "      <td>1.906250e+05</td>\n",
       "    </tr>\n",
       "    <tr>\n",
       "      <th>29</th>\n",
       "      <td>154340.277778</td>\n",
       "      <td>154340.277778</td>\n",
       "      <td>1.965833e+06</td>\n",
       "    </tr>\n",
       "    <tr>\n",
       "      <th>99</th>\n",
       "      <td>331854.782605</td>\n",
       "      <td>232083.333333</td>\n",
       "      <td>3.466667e+05</td>\n",
       "    </tr>\n",
       "  </tbody>\n",
       "</table>\n",
       "</div>"
      ],
      "text/plain": [
       "                                   mean          median last_price_km\n",
       "                        price_one_meter price_one_meter              \n",
       "city_centers_nearest_km                                              \n",
       "0                         251581.503948   197826.086957  8.125000e+05\n",
       "1                         236887.616288   205147.058824  3.996923e+05\n",
       "2                         231116.285422   186274.509804  1.081667e+07\n",
       "3                         221924.487608   184848.484848  7.195455e+05\n",
       "4                         264621.940505   214575.163399  3.600000e+05\n",
       "5                         311914.947163   222583.333333  3.884615e+05\n",
       "6                         312024.751133   234444.444444  3.321429e+05\n",
       "7                         257658.436976   215339.427134  6.700000e+05\n",
       "8                         219733.553250   198666.666667  2.985714e+05\n",
       "9                         204224.519401   185968.750000  3.250000e+05\n",
       "10                        204641.658989   186436.781609  1.183333e+06\n",
       "11                        196627.792053   183333.333333  3.555556e+05\n",
       "12                        204143.234682   190476.190476  2.107143e+05\n",
       "13                        201965.273106   189404.761905  3.250000e+06\n",
       "14                        197240.728023   189361.702128  4.857143e+05\n",
       "15                        194848.682980   182352.941176  4.050000e+05\n",
       "16                        188865.003049   176315.789474  6.454545e+05\n",
       "17                        179109.259481   169333.333333  7.818182e+05\n",
       "18                        177325.724731   165436.274510  6.000000e+05\n",
       "19                        190210.927539   175000.000000  4.158333e+05\n",
       "20                        210148.123430   206994.500000  2.741667e+05\n",
       "21                        178406.565647   175611.111111  5.166667e+06\n",
       "22                        172190.693821   162882.653061  2.368750e+05\n",
       "23                        166794.117841   154336.124402  4.333333e+05\n",
       "24                        180094.228892   183857.142857  4.863636e+05\n",
       "25                        206421.573222   206250.000000  4.333333e+05\n",
       "26                        143313.953488   130000.000000  5.500000e+05\n",
       "27                        309479.166667   309479.166667  2.250000e+05\n",
       "28                        166750.440046   155878.787879  1.906250e+05\n",
       "29                        154340.277778   154340.277778  1.965833e+06\n",
       "99                        331854.782605   232083.333333  3.466667e+05"
      ]
     },
     "execution_count": 74,
     "metadata": {},
     "output_type": "execute_result"
    }
   ],
   "source": [
    "last_price_km = saint_petersburg.pivot_table(index='city_centers_nearest_km', values='price_one_meter', aggfunc=['mean', 'median'])\n",
    "last_price_km['last_price_km'] = saint_petersburg['last_price'] / saint_petersburg['city_centers_nearest_km']\n",
    "last_price_km"
   ]
  },
  {
   "cell_type": "code",
   "execution_count": 75,
   "metadata": {},
   "outputs": [
    {
     "name": "stdout",
     "output_type": "stream",
     "text": [
      "Средняя цена одного километра: 1089189\n",
      "Максимальная стоимость квадратного метра для каждого километра: 331854\n",
      "Минимальная стоимость квадратного метра для каждого километра: 143313\n"
     ]
    }
   ],
   "source": [
    "print('Средняя цена одного километра:',int(last_price_km['last_price_km'].mean()))\n",
    "print('Максимальная стоимость квадратного метра для каждого километра:',int(last_price_km['mean'].max()))\n",
    "print('Минимальная стоимость квадратного метра для каждого километра:',int(last_price_km['mean'].min()))"
   ]
  },
  {
   "cell_type": "markdown",
   "metadata": {},
   "source": [
    "Чем ближе к центру тем дороже цена <br>\n",
    "Стоимость квадратного метра для каждого километра падает от удаленности от центра"
   ]
  },
  {
   "cell_type": "markdown",
   "metadata": {},
   "source": [
    "### Общий вывод"
   ]
  },
  {
   "cell_type": "markdown",
   "metadata": {},
   "source": [
    "Мы обработали полученный архив данных - обработали пропущенные значения там, где это необходимо, заменили типы данных на необходимые для удобной работы. Посчитали и добавили в таблицу цену квадратного метра жилья, вывели из даты дни недели, месяцы и года размещения объявлений, добавили категории по этажам квартир. Изучили следующие параметры на наличие выбивающихся значений - площадь, цена, число комнат, высота потолков. Были определены аномалии в данных параметрах. Изучая время продажи квартир мы выявили, что большое количество объявлений было автоматически снято с Яндекс Недвижимость.\n",
    "\n",
    "Самая высокая стоимость жилья в санкт-петербурге <br>\n",
    "\n",
    "Самая низкая стоимость жилья в выборге\n",
    "\n",
    "#### Факторы, влияющие на стоимость\n",
    "\n",
    "На стоимость больше влияет площадь квартиры, нежели число комнат. Т.е. могут быть дорогие квартиры с малым числом комнат, но где комнаты просторные.\n",
    "Первый этаж значительно дешевле остальных вариантов. Также стоимость квартиры на последнем этаже ниже, чем на остальных, кроме первого.\n",
    "\n",
    "#### Стоимость квадратного метра в топ-10 населённых пунктов\n",
    "\n",
    "Дороже всего квадратный метр в Санкт-Петербурге - 207480\n",
    "Дешевле всего квадратный метр в Гатчина\t- 120684\n",
    "\n",
    "Самая высокая стоимость жилья в санкт-петербурге\n",
    "\n",
    "Самая низкая стоимость жилья в выборге\n",
    "\n",
    "Средняя цена одного километра: 1089189\n",
    "Максимальная стоимость квадратного метра для каждого километра: 331854 <br>\n",
    "Минимальная стоимость квадратного метра для каждого километра: 143313 <br>\n",
    "Чем ближе к центру тем дороже цена<br>\n",
    "Стоимость квадратного метра для каждого километра падает от удаленности от центра"
   ]
  },
  {
   "cell_type": "code",
   "execution_count": null,
   "metadata": {},
   "outputs": [],
   "source": []
  }
 ],
 "metadata": {
  "ExecuteTimeLog": [
   {
    "duration": 638,
    "start_time": "2023-04-20T20:02:03.837Z"
   },
   {
    "duration": 225,
    "start_time": "2023-04-20T20:02:04.477Z"
   },
   {
    "duration": 15,
    "start_time": "2023-04-20T20:02:04.704Z"
   },
   {
    "duration": 400,
    "start_time": "2023-04-20T20:02:04.721Z"
   },
   {
    "duration": 0,
    "start_time": "2023-04-20T20:02:05.126Z"
   },
   {
    "duration": 0,
    "start_time": "2023-04-20T20:02:05.127Z"
   },
   {
    "duration": 0,
    "start_time": "2023-04-20T20:02:05.128Z"
   },
   {
    "duration": 0,
    "start_time": "2023-04-20T20:02:05.130Z"
   },
   {
    "duration": 0,
    "start_time": "2023-04-20T20:02:05.132Z"
   },
   {
    "duration": 0,
    "start_time": "2023-04-20T20:02:05.134Z"
   },
   {
    "duration": 0,
    "start_time": "2023-04-20T20:02:05.135Z"
   },
   {
    "duration": 0,
    "start_time": "2023-04-20T20:02:05.165Z"
   },
   {
    "duration": 0,
    "start_time": "2023-04-20T20:02:05.166Z"
   },
   {
    "duration": 0,
    "start_time": "2023-04-20T20:02:05.167Z"
   },
   {
    "duration": 0,
    "start_time": "2023-04-20T20:02:05.169Z"
   },
   {
    "duration": 0,
    "start_time": "2023-04-20T20:02:05.170Z"
   },
   {
    "duration": 0,
    "start_time": "2023-04-20T20:02:05.171Z"
   },
   {
    "duration": 0,
    "start_time": "2023-04-20T20:02:05.172Z"
   },
   {
    "duration": 0,
    "start_time": "2023-04-20T20:02:05.174Z"
   },
   {
    "duration": 0,
    "start_time": "2023-04-20T20:02:05.175Z"
   },
   {
    "duration": 0,
    "start_time": "2023-04-20T20:02:05.178Z"
   },
   {
    "duration": 0,
    "start_time": "2023-04-20T20:02:05.180Z"
   },
   {
    "duration": 0,
    "start_time": "2023-04-20T20:02:05.181Z"
   },
   {
    "duration": 0,
    "start_time": "2023-04-20T20:02:05.182Z"
   },
   {
    "duration": 0,
    "start_time": "2023-04-20T20:02:05.183Z"
   },
   {
    "duration": 0,
    "start_time": "2023-04-20T20:02:05.185Z"
   },
   {
    "duration": 0,
    "start_time": "2023-04-20T20:02:05.186Z"
   },
   {
    "duration": 0,
    "start_time": "2023-04-20T20:02:05.188Z"
   },
   {
    "duration": 0,
    "start_time": "2023-04-20T20:02:05.189Z"
   },
   {
    "duration": 0,
    "start_time": "2023-04-20T20:02:05.191Z"
   },
   {
    "duration": 0,
    "start_time": "2023-04-20T20:02:05.192Z"
   },
   {
    "duration": 0,
    "start_time": "2023-04-20T20:02:05.193Z"
   },
   {
    "duration": 0,
    "start_time": "2023-04-20T20:02:05.195Z"
   },
   {
    "duration": 0,
    "start_time": "2023-04-20T20:02:05.197Z"
   },
   {
    "duration": 0,
    "start_time": "2023-04-20T20:02:05.198Z"
   },
   {
    "duration": 0,
    "start_time": "2023-04-20T20:02:05.200Z"
   },
   {
    "duration": 0,
    "start_time": "2023-04-20T20:02:05.201Z"
   },
   {
    "duration": 0,
    "start_time": "2023-04-20T20:02:05.202Z"
   },
   {
    "duration": 0,
    "start_time": "2023-04-20T20:02:05.204Z"
   },
   {
    "duration": 0,
    "start_time": "2023-04-20T20:02:05.257Z"
   },
   {
    "duration": 0,
    "start_time": "2023-04-20T20:02:05.259Z"
   },
   {
    "duration": 0,
    "start_time": "2023-04-20T20:02:05.262Z"
   },
   {
    "duration": 0,
    "start_time": "2023-04-20T20:02:05.264Z"
   },
   {
    "duration": 0,
    "start_time": "2023-04-20T20:02:05.265Z"
   },
   {
    "duration": 0,
    "start_time": "2023-04-20T20:02:05.266Z"
   },
   {
    "duration": 0,
    "start_time": "2023-04-20T20:02:05.267Z"
   },
   {
    "duration": 0,
    "start_time": "2023-04-20T20:02:05.269Z"
   },
   {
    "duration": 0,
    "start_time": "2023-04-20T20:02:05.270Z"
   },
   {
    "duration": 0,
    "start_time": "2023-04-20T20:02:05.271Z"
   },
   {
    "duration": 0,
    "start_time": "2023-04-20T20:02:05.272Z"
   },
   {
    "duration": 0,
    "start_time": "2023-04-20T20:02:05.273Z"
   },
   {
    "duration": 0,
    "start_time": "2023-04-20T20:02:05.275Z"
   },
   {
    "duration": 0,
    "start_time": "2023-04-20T20:02:05.276Z"
   },
   {
    "duration": 0,
    "start_time": "2023-04-20T20:02:05.277Z"
   },
   {
    "duration": 0,
    "start_time": "2023-04-20T20:02:05.278Z"
   },
   {
    "duration": 0,
    "start_time": "2023-04-20T20:02:05.279Z"
   },
   {
    "duration": 0,
    "start_time": "2023-04-20T20:02:05.281Z"
   },
   {
    "duration": 0,
    "start_time": "2023-04-20T20:02:05.282Z"
   },
   {
    "duration": 0,
    "start_time": "2023-04-20T20:02:05.283Z"
   },
   {
    "duration": 0,
    "start_time": "2023-04-20T20:02:05.284Z"
   },
   {
    "duration": 0,
    "start_time": "2023-04-20T20:02:05.285Z"
   },
   {
    "duration": 0,
    "start_time": "2023-04-20T20:02:05.286Z"
   },
   {
    "duration": 0,
    "start_time": "2023-04-20T20:02:05.287Z"
   },
   {
    "duration": 0,
    "start_time": "2023-04-20T20:02:05.289Z"
   },
   {
    "duration": 0,
    "start_time": "2023-04-20T20:02:05.290Z"
   },
   {
    "duration": 0,
    "start_time": "2023-04-20T20:02:05.291Z"
   },
   {
    "duration": 0,
    "start_time": "2023-04-20T20:02:05.292Z"
   },
   {
    "duration": 0,
    "start_time": "2023-04-20T20:02:05.293Z"
   },
   {
    "duration": 0,
    "start_time": "2023-04-20T20:02:05.294Z"
   },
   {
    "duration": 0,
    "start_time": "2023-04-20T20:02:05.295Z"
   },
   {
    "duration": 0,
    "start_time": "2023-04-20T20:02:05.296Z"
   },
   {
    "duration": 0,
    "start_time": "2023-04-20T20:02:05.362Z"
   },
   {
    "duration": 457,
    "start_time": "2023-04-21T05:24:34.115Z"
   },
   {
    "duration": 123,
    "start_time": "2023-04-21T05:24:34.574Z"
   },
   {
    "duration": 0,
    "start_time": "2023-04-21T05:24:34.701Z"
   },
   {
    "duration": 0,
    "start_time": "2023-04-21T05:24:34.702Z"
   },
   {
    "duration": 0,
    "start_time": "2023-04-21T05:24:34.703Z"
   },
   {
    "duration": 0,
    "start_time": "2023-04-21T05:24:34.705Z"
   },
   {
    "duration": 0,
    "start_time": "2023-04-21T05:24:34.706Z"
   },
   {
    "duration": 0,
    "start_time": "2023-04-21T05:24:34.707Z"
   },
   {
    "duration": 0,
    "start_time": "2023-04-21T05:24:34.708Z"
   },
   {
    "duration": 0,
    "start_time": "2023-04-21T05:24:34.709Z"
   },
   {
    "duration": 0,
    "start_time": "2023-04-21T05:24:34.710Z"
   },
   {
    "duration": 0,
    "start_time": "2023-04-21T05:24:34.711Z"
   },
   {
    "duration": 0,
    "start_time": "2023-04-21T05:24:34.711Z"
   },
   {
    "duration": 0,
    "start_time": "2023-04-21T05:24:34.713Z"
   },
   {
    "duration": 0,
    "start_time": "2023-04-21T05:24:34.716Z"
   },
   {
    "duration": 0,
    "start_time": "2023-04-21T05:24:34.717Z"
   },
   {
    "duration": 0,
    "start_time": "2023-04-21T05:24:34.719Z"
   },
   {
    "duration": 0,
    "start_time": "2023-04-21T05:24:34.720Z"
   },
   {
    "duration": 0,
    "start_time": "2023-04-21T05:24:34.722Z"
   },
   {
    "duration": 0,
    "start_time": "2023-04-21T05:24:34.723Z"
   },
   {
    "duration": 0,
    "start_time": "2023-04-21T05:24:34.725Z"
   },
   {
    "duration": 0,
    "start_time": "2023-04-21T05:24:34.726Z"
   },
   {
    "duration": 0,
    "start_time": "2023-04-21T05:24:34.727Z"
   },
   {
    "duration": 0,
    "start_time": "2023-04-21T05:24:34.728Z"
   },
   {
    "duration": 0,
    "start_time": "2023-04-21T05:24:34.729Z"
   },
   {
    "duration": 0,
    "start_time": "2023-04-21T05:24:34.731Z"
   },
   {
    "duration": 0,
    "start_time": "2023-04-21T05:24:34.733Z"
   },
   {
    "duration": 0,
    "start_time": "2023-04-21T05:24:34.734Z"
   },
   {
    "duration": 0,
    "start_time": "2023-04-21T05:24:34.735Z"
   },
   {
    "duration": 0,
    "start_time": "2023-04-21T05:24:34.736Z"
   },
   {
    "duration": 0,
    "start_time": "2023-04-21T05:24:34.738Z"
   },
   {
    "duration": 0,
    "start_time": "2023-04-21T05:24:34.783Z"
   },
   {
    "duration": 0,
    "start_time": "2023-04-21T05:24:34.784Z"
   },
   {
    "duration": 0,
    "start_time": "2023-04-21T05:24:34.784Z"
   },
   {
    "duration": 0,
    "start_time": "2023-04-21T05:24:34.785Z"
   },
   {
    "duration": 0,
    "start_time": "2023-04-21T05:24:34.792Z"
   },
   {
    "duration": 0,
    "start_time": "2023-04-21T05:24:34.792Z"
   },
   {
    "duration": 0,
    "start_time": "2023-04-21T05:24:34.793Z"
   },
   {
    "duration": 0,
    "start_time": "2023-04-21T05:24:34.794Z"
   },
   {
    "duration": 0,
    "start_time": "2023-04-21T05:24:34.794Z"
   },
   {
    "duration": 0,
    "start_time": "2023-04-21T05:24:34.797Z"
   },
   {
    "duration": 0,
    "start_time": "2023-04-21T05:24:34.798Z"
   },
   {
    "duration": 0,
    "start_time": "2023-04-21T05:24:34.799Z"
   },
   {
    "duration": 0,
    "start_time": "2023-04-21T05:24:34.801Z"
   },
   {
    "duration": 0,
    "start_time": "2023-04-21T05:24:34.802Z"
   },
   {
    "duration": 0,
    "start_time": "2023-04-21T05:24:34.803Z"
   },
   {
    "duration": 0,
    "start_time": "2023-04-21T05:24:34.804Z"
   },
   {
    "duration": 0,
    "start_time": "2023-04-21T05:24:34.806Z"
   },
   {
    "duration": 0,
    "start_time": "2023-04-21T05:24:34.807Z"
   },
   {
    "duration": 0,
    "start_time": "2023-04-21T05:24:34.811Z"
   },
   {
    "duration": 0,
    "start_time": "2023-04-21T05:24:34.813Z"
   },
   {
    "duration": 0,
    "start_time": "2023-04-21T05:24:34.814Z"
   },
   {
    "duration": 0,
    "start_time": "2023-04-21T05:24:34.815Z"
   },
   {
    "duration": 0,
    "start_time": "2023-04-21T05:24:34.817Z"
   },
   {
    "duration": 0,
    "start_time": "2023-04-21T05:24:34.818Z"
   },
   {
    "duration": 0,
    "start_time": "2023-04-21T05:24:34.819Z"
   },
   {
    "duration": 0,
    "start_time": "2023-04-21T05:24:34.821Z"
   },
   {
    "duration": 0,
    "start_time": "2023-04-21T05:24:34.823Z"
   },
   {
    "duration": 0,
    "start_time": "2023-04-21T05:24:34.827Z"
   },
   {
    "duration": 0,
    "start_time": "2023-04-21T05:24:34.828Z"
   },
   {
    "duration": 0,
    "start_time": "2023-04-21T05:24:34.830Z"
   },
   {
    "duration": 0,
    "start_time": "2023-04-21T05:24:34.895Z"
   },
   {
    "duration": 0,
    "start_time": "2023-04-21T05:24:34.896Z"
   },
   {
    "duration": 1,
    "start_time": "2023-04-21T05:24:34.897Z"
   },
   {
    "duration": 0,
    "start_time": "2023-04-21T05:24:34.930Z"
   },
   {
    "duration": 0,
    "start_time": "2023-04-21T05:24:34.931Z"
   },
   {
    "duration": 0,
    "start_time": "2023-04-21T05:24:34.932Z"
   },
   {
    "duration": 0,
    "start_time": "2023-04-21T05:24:34.933Z"
   },
   {
    "duration": 0,
    "start_time": "2023-04-21T05:24:34.934Z"
   },
   {
    "duration": 0,
    "start_time": "2023-04-21T05:24:34.935Z"
   },
   {
    "duration": 0,
    "start_time": "2023-04-21T05:24:34.936Z"
   },
   {
    "duration": 0,
    "start_time": "2023-04-21T05:24:34.937Z"
   },
   {
    "duration": 7,
    "start_time": "2023-04-21T05:26:14.303Z"
   },
   {
    "duration": 12,
    "start_time": "2023-04-21T05:30:49.936Z"
   },
   {
    "duration": 56,
    "start_time": "2023-04-21T05:31:27.300Z"
   },
   {
    "duration": 60,
    "start_time": "2023-04-21T05:32:00.208Z"
   },
   {
    "duration": 68,
    "start_time": "2023-04-21T05:33:34.837Z"
   },
   {
    "duration": 403,
    "start_time": "2023-04-21T05:39:02.703Z"
   },
   {
    "duration": 486,
    "start_time": "2023-04-21T05:39:43.334Z"
   },
   {
    "duration": 116,
    "start_time": "2023-04-21T05:39:43.823Z"
   },
   {
    "duration": 36,
    "start_time": "2023-04-21T05:39:43.940Z"
   },
   {
    "duration": 2548,
    "start_time": "2023-04-21T05:39:43.996Z"
   },
   {
    "duration": 15,
    "start_time": "2023-04-21T05:39:46.546Z"
   },
   {
    "duration": 9,
    "start_time": "2023-04-21T05:39:46.563Z"
   },
   {
    "duration": 23,
    "start_time": "2023-04-21T05:39:46.573Z"
   },
   {
    "duration": 30,
    "start_time": "2023-04-21T05:39:46.599Z"
   },
   {
    "duration": 18,
    "start_time": "2023-04-21T05:39:46.631Z"
   },
   {
    "duration": 20,
    "start_time": "2023-04-21T05:39:46.651Z"
   },
   {
    "duration": 49,
    "start_time": "2023-04-21T05:39:46.672Z"
   },
   {
    "duration": 24,
    "start_time": "2023-04-21T05:39:46.723Z"
   },
   {
    "duration": 23,
    "start_time": "2023-04-21T05:39:46.749Z"
   },
   {
    "duration": 24,
    "start_time": "2023-04-21T05:39:46.774Z"
   },
   {
    "duration": 37,
    "start_time": "2023-04-21T05:39:46.800Z"
   },
   {
    "duration": 22,
    "start_time": "2023-04-21T05:39:46.839Z"
   },
   {
    "duration": 44,
    "start_time": "2023-04-21T05:39:46.863Z"
   },
   {
    "duration": 17,
    "start_time": "2023-04-21T05:39:46.908Z"
   },
   {
    "duration": 21,
    "start_time": "2023-04-21T05:39:46.927Z"
   },
   {
    "duration": 15,
    "start_time": "2023-04-21T05:39:46.949Z"
   },
   {
    "duration": 16,
    "start_time": "2023-04-21T05:39:46.966Z"
   },
   {
    "duration": 36,
    "start_time": "2023-04-21T05:39:46.993Z"
   },
   {
    "duration": 17,
    "start_time": "2023-04-21T05:39:47.030Z"
   },
   {
    "duration": 17,
    "start_time": "2023-04-21T05:39:47.048Z"
   },
   {
    "duration": 56,
    "start_time": "2023-04-21T05:39:47.067Z"
   },
   {
    "duration": 26,
    "start_time": "2023-04-21T05:39:47.125Z"
   },
   {
    "duration": 53,
    "start_time": "2023-04-21T05:39:47.153Z"
   },
   {
    "duration": 29,
    "start_time": "2023-04-21T05:39:47.210Z"
   },
   {
    "duration": 75,
    "start_time": "2023-04-21T05:39:47.240Z"
   },
   {
    "duration": 429,
    "start_time": "2023-04-21T05:39:47.317Z"
   },
   {
    "duration": 362,
    "start_time": "2023-04-21T05:39:47.747Z"
   },
   {
    "duration": 202,
    "start_time": "2023-04-21T05:39:48.111Z"
   },
   {
    "duration": 23,
    "start_time": "2023-04-21T05:39:48.315Z"
   },
   {
    "duration": 60,
    "start_time": "2023-04-21T05:39:48.340Z"
   },
   {
    "duration": 232,
    "start_time": "2023-04-21T05:39:48.403Z"
   },
   {
    "duration": 13,
    "start_time": "2023-04-21T05:39:48.637Z"
   },
   {
    "duration": 117,
    "start_time": "2023-04-21T05:39:48.652Z"
   },
   {
    "duration": 259,
    "start_time": "2023-04-21T05:39:48.771Z"
   },
   {
    "duration": 10,
    "start_time": "2023-04-21T05:39:49.032Z"
   },
   {
    "duration": 30,
    "start_time": "2023-04-21T05:39:49.044Z"
   },
   {
    "duration": 37,
    "start_time": "2023-04-21T05:39:49.075Z"
   },
   {
    "duration": 9,
    "start_time": "2023-04-21T05:39:49.114Z"
   },
   {
    "duration": 7,
    "start_time": "2023-04-21T05:39:49.124Z"
   },
   {
    "duration": 236,
    "start_time": "2023-04-21T05:39:49.132Z"
   },
   {
    "duration": 40,
    "start_time": "2023-04-21T05:39:49.370Z"
   },
   {
    "duration": 5,
    "start_time": "2023-04-21T05:39:49.412Z"
   },
   {
    "duration": 11,
    "start_time": "2023-04-21T05:39:49.418Z"
   },
   {
    "duration": 259,
    "start_time": "2023-04-21T05:39:49.430Z"
   },
   {
    "duration": 398,
    "start_time": "2023-04-21T05:39:49.699Z"
   },
   {
    "duration": 182,
    "start_time": "2023-04-21T05:39:50.098Z"
   },
   {
    "duration": 283,
    "start_time": "2023-04-21T05:39:50.282Z"
   },
   {
    "duration": 148,
    "start_time": "2023-04-21T05:39:50.567Z"
   },
   {
    "duration": 183,
    "start_time": "2023-04-21T05:39:50.717Z"
   },
   {
    "duration": 173,
    "start_time": "2023-04-21T05:39:50.902Z"
   },
   {
    "duration": 137,
    "start_time": "2023-04-21T05:39:51.077Z"
   },
   {
    "duration": 199,
    "start_time": "2023-04-21T05:39:51.215Z"
   },
   {
    "duration": 226,
    "start_time": "2023-04-21T05:39:51.416Z"
   },
   {
    "duration": 219,
    "start_time": "2023-04-21T05:39:51.644Z"
   },
   {
    "duration": 283,
    "start_time": "2023-04-21T05:39:51.864Z"
   },
   {
    "duration": 310,
    "start_time": "2023-04-21T05:39:52.149Z"
   },
   {
    "duration": 653,
    "start_time": "2023-04-21T05:39:52.461Z"
   },
   {
    "duration": 199,
    "start_time": "2023-04-21T05:39:53.116Z"
   },
   {
    "duration": 158,
    "start_time": "2023-04-21T05:39:53.317Z"
   },
   {
    "duration": 175,
    "start_time": "2023-04-21T05:39:53.477Z"
   },
   {
    "duration": 157,
    "start_time": "2023-04-21T05:39:53.653Z"
   },
   {
    "duration": 267,
    "start_time": "2023-04-21T05:39:53.814Z"
   },
   {
    "duration": 173,
    "start_time": "2023-04-21T05:39:54.087Z"
   },
   {
    "duration": 178,
    "start_time": "2023-04-21T05:39:54.261Z"
   },
   {
    "duration": 194,
    "start_time": "2023-04-21T05:39:54.440Z"
   },
   {
    "duration": 29,
    "start_time": "2023-04-21T05:39:54.635Z"
   },
   {
    "duration": 24,
    "start_time": "2023-04-21T05:39:54.666Z"
   },
   {
    "duration": 165,
    "start_time": "2023-04-21T05:39:54.692Z"
   },
   {
    "duration": 141,
    "start_time": "2023-04-21T05:43:09.707Z"
   },
   {
    "duration": 542,
    "start_time": "2023-04-21T05:44:31.609Z"
   },
   {
    "duration": 121,
    "start_time": "2023-04-21T05:44:32.156Z"
   },
   {
    "duration": 61,
    "start_time": "2023-04-21T05:44:32.279Z"
   },
   {
    "duration": 2281,
    "start_time": "2023-04-21T05:44:32.343Z"
   },
   {
    "duration": 16,
    "start_time": "2023-04-21T05:44:34.626Z"
   },
   {
    "duration": 22,
    "start_time": "2023-04-21T05:44:34.643Z"
   },
   {
    "duration": 45,
    "start_time": "2023-04-21T05:44:34.667Z"
   },
   {
    "duration": 34,
    "start_time": "2023-04-21T05:44:34.714Z"
   },
   {
    "duration": 7,
    "start_time": "2023-04-21T05:44:34.750Z"
   },
   {
    "duration": 15,
    "start_time": "2023-04-21T05:44:34.760Z"
   },
   {
    "duration": 38,
    "start_time": "2023-04-21T05:44:34.778Z"
   },
   {
    "duration": 26,
    "start_time": "2023-04-21T05:44:34.818Z"
   },
   {
    "duration": 36,
    "start_time": "2023-04-21T05:44:34.846Z"
   },
   {
    "duration": 65,
    "start_time": "2023-04-21T05:44:34.883Z"
   },
   {
    "duration": 24,
    "start_time": "2023-04-21T05:44:34.950Z"
   },
   {
    "duration": 21,
    "start_time": "2023-04-21T05:44:34.977Z"
   },
   {
    "duration": 35,
    "start_time": "2023-04-21T05:44:35.001Z"
   },
   {
    "duration": 25,
    "start_time": "2023-04-21T05:44:35.039Z"
   },
   {
    "duration": 10,
    "start_time": "2023-04-21T05:44:35.066Z"
   },
   {
    "duration": 25,
    "start_time": "2023-04-21T05:44:35.077Z"
   },
   {
    "duration": 15,
    "start_time": "2023-04-21T05:44:35.103Z"
   },
   {
    "duration": 15,
    "start_time": "2023-04-21T05:44:35.120Z"
   },
   {
    "duration": 25,
    "start_time": "2023-04-21T05:44:35.137Z"
   },
   {
    "duration": 6,
    "start_time": "2023-04-21T05:44:35.164Z"
   },
   {
    "duration": 33,
    "start_time": "2023-04-21T05:44:35.171Z"
   },
   {
    "duration": 45,
    "start_time": "2023-04-21T05:44:35.205Z"
   },
   {
    "duration": 49,
    "start_time": "2023-04-21T05:44:35.251Z"
   },
   {
    "duration": 46,
    "start_time": "2023-04-21T05:44:35.304Z"
   },
   {
    "duration": 70,
    "start_time": "2023-04-21T05:44:35.352Z"
   },
   {
    "duration": 412,
    "start_time": "2023-04-21T05:44:35.423Z"
   },
   {
    "duration": 322,
    "start_time": "2023-04-21T05:44:35.837Z"
   },
   {
    "duration": 136,
    "start_time": "2023-04-21T05:44:36.161Z"
   },
   {
    "duration": 25,
    "start_time": "2023-04-21T05:44:36.300Z"
   },
   {
    "duration": 133,
    "start_time": "2023-04-21T05:44:36.326Z"
   },
   {
    "duration": 247,
    "start_time": "2023-04-21T05:44:36.460Z"
   },
   {
    "duration": 12,
    "start_time": "2023-04-21T05:44:36.708Z"
   },
   {
    "duration": 114,
    "start_time": "2023-04-21T05:44:36.722Z"
   },
   {
    "duration": 234,
    "start_time": "2023-04-21T05:44:36.837Z"
   },
   {
    "duration": 22,
    "start_time": "2023-04-21T05:44:37.073Z"
   },
   {
    "duration": 16,
    "start_time": "2023-04-21T05:44:37.098Z"
   },
   {
    "duration": 6,
    "start_time": "2023-04-21T05:44:37.115Z"
   },
   {
    "duration": 6,
    "start_time": "2023-04-21T05:44:37.123Z"
   },
   {
    "duration": 7,
    "start_time": "2023-04-21T05:44:37.130Z"
   },
   {
    "duration": 225,
    "start_time": "2023-04-21T05:44:37.139Z"
   },
   {
    "duration": 40,
    "start_time": "2023-04-21T05:44:37.365Z"
   },
   {
    "duration": 8,
    "start_time": "2023-04-21T05:44:37.407Z"
   },
   {
    "duration": 7,
    "start_time": "2023-04-21T05:44:37.417Z"
   },
   {
    "duration": 272,
    "start_time": "2023-04-21T05:44:37.426Z"
   },
   {
    "duration": 265,
    "start_time": "2023-04-21T05:44:37.700Z"
   },
   {
    "duration": 295,
    "start_time": "2023-04-21T05:44:37.967Z"
   },
   {
    "duration": 281,
    "start_time": "2023-04-21T05:44:38.263Z"
   },
   {
    "duration": 143,
    "start_time": "2023-04-21T05:44:38.546Z"
   },
   {
    "duration": 160,
    "start_time": "2023-04-21T05:44:38.690Z"
   },
   {
    "duration": 178,
    "start_time": "2023-04-21T05:44:38.852Z"
   },
   {
    "duration": 126,
    "start_time": "2023-04-21T05:44:39.032Z"
   },
   {
    "duration": 167,
    "start_time": "2023-04-21T05:44:39.160Z"
   },
   {
    "duration": 205,
    "start_time": "2023-04-21T05:44:39.329Z"
   },
   {
    "duration": 215,
    "start_time": "2023-04-21T05:44:39.535Z"
   },
   {
    "duration": 203,
    "start_time": "2023-04-21T05:44:39.752Z"
   },
   {
    "duration": 452,
    "start_time": "2023-04-21T05:44:39.956Z"
   },
   {
    "duration": 654,
    "start_time": "2023-04-21T05:44:40.411Z"
   },
   {
    "duration": 169,
    "start_time": "2023-04-21T05:44:41.067Z"
   },
   {
    "duration": 172,
    "start_time": "2023-04-21T05:44:41.237Z"
   },
   {
    "duration": 183,
    "start_time": "2023-04-21T05:44:41.410Z"
   },
   {
    "duration": 167,
    "start_time": "2023-04-21T05:44:41.595Z"
   },
   {
    "duration": 184,
    "start_time": "2023-04-21T05:44:41.764Z"
   },
   {
    "duration": 267,
    "start_time": "2023-04-21T05:44:41.950Z"
   },
   {
    "duration": 192,
    "start_time": "2023-04-21T05:44:42.219Z"
   },
   {
    "duration": 168,
    "start_time": "2023-04-21T05:44:42.413Z"
   },
   {
    "duration": 30,
    "start_time": "2023-04-21T05:44:42.585Z"
   },
   {
    "duration": 15,
    "start_time": "2023-04-21T05:44:42.617Z"
   },
   {
    "duration": 172,
    "start_time": "2023-04-21T05:44:42.634Z"
   },
   {
    "duration": 463,
    "start_time": "2023-04-21T19:06:58.300Z"
   },
   {
    "duration": 108,
    "start_time": "2023-04-21T19:06:58.765Z"
   },
   {
    "duration": 34,
    "start_time": "2023-04-21T19:06:58.875Z"
   },
   {
    "duration": 2113,
    "start_time": "2023-04-21T19:06:58.911Z"
   },
   {
    "duration": 17,
    "start_time": "2023-04-21T19:07:01.026Z"
   },
   {
    "duration": 65,
    "start_time": "2023-04-21T19:07:01.045Z"
   },
   {
    "duration": 46,
    "start_time": "2023-04-21T19:07:01.112Z"
   },
   {
    "duration": 64,
    "start_time": "2023-04-21T19:07:01.160Z"
   },
   {
    "duration": 34,
    "start_time": "2023-04-21T19:07:01.226Z"
   },
   {
    "duration": 22,
    "start_time": "2023-04-21T19:07:01.261Z"
   },
   {
    "duration": 34,
    "start_time": "2023-04-21T19:07:01.285Z"
   },
   {
    "duration": 26,
    "start_time": "2023-04-21T19:07:01.321Z"
   },
   {
    "duration": 30,
    "start_time": "2023-04-21T19:07:01.349Z"
   },
   {
    "duration": 43,
    "start_time": "2023-04-21T19:07:01.382Z"
   },
   {
    "duration": 27,
    "start_time": "2023-04-21T19:07:01.427Z"
   },
   {
    "duration": 26,
    "start_time": "2023-04-21T19:07:01.455Z"
   },
   {
    "duration": 24,
    "start_time": "2023-04-21T19:07:01.483Z"
   },
   {
    "duration": 34,
    "start_time": "2023-04-21T19:07:01.509Z"
   },
   {
    "duration": 22,
    "start_time": "2023-04-21T19:07:01.545Z"
   },
   {
    "duration": 31,
    "start_time": "2023-04-21T19:07:01.569Z"
   },
   {
    "duration": 31,
    "start_time": "2023-04-21T19:07:01.602Z"
   },
   {
    "duration": 20,
    "start_time": "2023-04-21T19:07:01.636Z"
   },
   {
    "duration": 12,
    "start_time": "2023-04-21T19:07:01.658Z"
   },
   {
    "duration": 22,
    "start_time": "2023-04-21T19:07:01.672Z"
   },
   {
    "duration": 17,
    "start_time": "2023-04-21T19:07:01.696Z"
   },
   {
    "duration": 28,
    "start_time": "2023-04-21T19:07:01.714Z"
   },
   {
    "duration": 30,
    "start_time": "2023-04-21T19:07:01.744Z"
   },
   {
    "duration": 38,
    "start_time": "2023-04-21T19:07:01.775Z"
   },
   {
    "duration": 75,
    "start_time": "2023-04-21T19:07:01.814Z"
   },
   {
    "duration": 406,
    "start_time": "2023-04-21T19:07:01.891Z"
   },
   {
    "duration": 316,
    "start_time": "2023-04-21T19:07:02.299Z"
   },
   {
    "duration": 111,
    "start_time": "2023-04-21T19:07:02.616Z"
   },
   {
    "duration": 20,
    "start_time": "2023-04-21T19:07:02.729Z"
   },
   {
    "duration": 135,
    "start_time": "2023-04-21T19:07:02.750Z"
   },
   {
    "duration": 231,
    "start_time": "2023-04-21T19:07:02.887Z"
   },
   {
    "duration": 12,
    "start_time": "2023-04-21T19:07:03.120Z"
   },
   {
    "duration": 103,
    "start_time": "2023-04-21T19:07:03.134Z"
   },
   {
    "duration": 232,
    "start_time": "2023-04-21T19:07:03.239Z"
   },
   {
    "duration": 16,
    "start_time": "2023-04-21T19:07:03.473Z"
   },
   {
    "duration": 15,
    "start_time": "2023-04-21T19:07:03.491Z"
   },
   {
    "duration": 25,
    "start_time": "2023-04-21T19:07:03.510Z"
   },
   {
    "duration": 6,
    "start_time": "2023-04-21T19:07:03.536Z"
   },
   {
    "duration": 7,
    "start_time": "2023-04-21T19:07:03.544Z"
   },
   {
    "duration": 213,
    "start_time": "2023-04-21T19:07:03.554Z"
   },
   {
    "duration": 31,
    "start_time": "2023-04-21T19:07:03.769Z"
   },
   {
    "duration": 21,
    "start_time": "2023-04-21T19:07:03.802Z"
   },
   {
    "duration": 46,
    "start_time": "2023-04-21T19:07:03.824Z"
   },
   {
    "duration": 285,
    "start_time": "2023-04-21T19:07:03.872Z"
   },
   {
    "duration": 290,
    "start_time": "2023-04-21T19:07:04.159Z"
   },
   {
    "duration": 288,
    "start_time": "2023-04-21T19:07:04.451Z"
   },
   {
    "duration": 290,
    "start_time": "2023-04-21T19:07:04.741Z"
   },
   {
    "duration": 138,
    "start_time": "2023-04-21T19:07:05.032Z"
   },
   {
    "duration": 165,
    "start_time": "2023-04-21T19:07:05.172Z"
   },
   {
    "duration": 186,
    "start_time": "2023-04-21T19:07:05.338Z"
   },
   {
    "duration": 139,
    "start_time": "2023-04-21T19:07:05.526Z"
   },
   {
    "duration": 167,
    "start_time": "2023-04-21T19:07:05.667Z"
   },
   {
    "duration": 221,
    "start_time": "2023-04-21T19:07:05.836Z"
   },
   {
    "duration": 196,
    "start_time": "2023-04-21T19:07:06.059Z"
   },
   {
    "duration": 178,
    "start_time": "2023-04-21T19:07:06.257Z"
   },
   {
    "duration": 459,
    "start_time": "2023-04-21T19:07:06.437Z"
   },
   {
    "duration": 633,
    "start_time": "2023-04-21T19:07:06.898Z"
   },
   {
    "duration": 181,
    "start_time": "2023-04-21T19:07:07.533Z"
   },
   {
    "duration": 175,
    "start_time": "2023-04-21T19:07:07.716Z"
   },
   {
    "duration": 175,
    "start_time": "2023-04-21T19:07:07.892Z"
   },
   {
    "duration": 161,
    "start_time": "2023-04-21T19:07:08.069Z"
   },
   {
    "duration": 161,
    "start_time": "2023-04-21T19:07:08.232Z"
   },
   {
    "duration": 256,
    "start_time": "2023-04-21T19:07:08.395Z"
   },
   {
    "duration": 154,
    "start_time": "2023-04-21T19:07:08.652Z"
   },
   {
    "duration": 159,
    "start_time": "2023-04-21T19:07:08.808Z"
   },
   {
    "duration": 30,
    "start_time": "2023-04-21T19:07:08.969Z"
   },
   {
    "duration": 12,
    "start_time": "2023-04-21T19:07:09.001Z"
   },
   {
    "duration": 156,
    "start_time": "2023-04-21T19:07:09.014Z"
   },
   {
    "duration": 14,
    "start_time": "2023-04-21T19:19:52.923Z"
   },
   {
    "duration": 84,
    "start_time": "2023-04-21T19:19:56.273Z"
   },
   {
    "duration": 53,
    "start_time": "2023-04-21T19:58:14.324Z"
   },
   {
    "duration": 496,
    "start_time": "2023-04-21T19:58:18.409Z"
   },
   {
    "duration": 420,
    "start_time": "2023-04-21T19:58:18.914Z"
   },
   {
    "duration": 51,
    "start_time": "2023-04-21T19:58:20.306Z"
   },
   {
    "duration": 131,
    "start_time": "2023-04-21T20:00:42.038Z"
   },
   {
    "duration": 76,
    "start_time": "2023-04-21T20:00:45.457Z"
   },
   {
    "duration": 106,
    "start_time": "2023-04-21T20:01:04.205Z"
   },
   {
    "duration": 21,
    "start_time": "2023-04-21T20:01:05.815Z"
   },
   {
    "duration": 112,
    "start_time": "2023-04-21T20:01:35.318Z"
   },
   {
    "duration": 2,
    "start_time": "2023-04-21T20:01:36.958Z"
   },
   {
    "duration": 21,
    "start_time": "2023-04-21T20:01:37.440Z"
   },
   {
    "duration": 30,
    "start_time": "2023-04-21T20:01:42.368Z"
   },
   {
    "duration": 24,
    "start_time": "2023-04-21T20:01:49.241Z"
   },
   {
    "duration": 43,
    "start_time": "2023-04-21T20:02:41.948Z"
   },
   {
    "duration": 205,
    "start_time": "2023-04-21T20:02:58.029Z"
   },
   {
    "duration": 130,
    "start_time": "2023-04-21T20:03:18.011Z"
   },
   {
    "duration": 8,
    "start_time": "2023-04-21T20:03:44.698Z"
   },
   {
    "duration": 3,
    "start_time": "2023-04-21T20:03:52.804Z"
   },
   {
    "duration": 130,
    "start_time": "2023-04-21T20:03:52.955Z"
   },
   {
    "duration": 10,
    "start_time": "2023-04-21T20:03:53.748Z"
   },
   {
    "duration": 439,
    "start_time": "2023-04-21T20:04:18.029Z"
   },
   {
    "duration": 131,
    "start_time": "2023-04-21T20:04:18.470Z"
   },
   {
    "duration": 94,
    "start_time": "2023-04-21T20:04:18.603Z"
   },
   {
    "duration": 0,
    "start_time": "2023-04-21T20:04:18.703Z"
   },
   {
    "duration": 0,
    "start_time": "2023-04-21T20:04:18.704Z"
   },
   {
    "duration": 0,
    "start_time": "2023-04-21T20:04:18.705Z"
   },
   {
    "duration": 0,
    "start_time": "2023-04-21T20:04:18.706Z"
   },
   {
    "duration": 0,
    "start_time": "2023-04-21T20:04:18.707Z"
   },
   {
    "duration": 0,
    "start_time": "2023-04-21T20:04:18.708Z"
   },
   {
    "duration": 0,
    "start_time": "2023-04-21T20:04:18.709Z"
   },
   {
    "duration": 0,
    "start_time": "2023-04-21T20:04:18.710Z"
   },
   {
    "duration": 0,
    "start_time": "2023-04-21T20:04:18.711Z"
   },
   {
    "duration": 0,
    "start_time": "2023-04-21T20:04:18.712Z"
   },
   {
    "duration": 0,
    "start_time": "2023-04-21T20:04:18.713Z"
   },
   {
    "duration": 0,
    "start_time": "2023-04-21T20:04:18.714Z"
   },
   {
    "duration": 0,
    "start_time": "2023-04-21T20:04:18.715Z"
   },
   {
    "duration": 0,
    "start_time": "2023-04-21T20:04:18.744Z"
   },
   {
    "duration": 0,
    "start_time": "2023-04-21T20:04:18.745Z"
   },
   {
    "duration": 0,
    "start_time": "2023-04-21T20:04:18.746Z"
   },
   {
    "duration": 0,
    "start_time": "2023-04-21T20:04:18.747Z"
   },
   {
    "duration": 0,
    "start_time": "2023-04-21T20:04:18.748Z"
   },
   {
    "duration": 0,
    "start_time": "2023-04-21T20:04:18.748Z"
   },
   {
    "duration": 0,
    "start_time": "2023-04-21T20:04:18.749Z"
   },
   {
    "duration": 0,
    "start_time": "2023-04-21T20:04:18.776Z"
   },
   {
    "duration": 0,
    "start_time": "2023-04-21T20:04:18.776Z"
   },
   {
    "duration": 0,
    "start_time": "2023-04-21T20:04:18.777Z"
   },
   {
    "duration": 0,
    "start_time": "2023-04-21T20:04:18.781Z"
   },
   {
    "duration": 0,
    "start_time": "2023-04-21T20:04:18.782Z"
   },
   {
    "duration": 0,
    "start_time": "2023-04-21T20:04:18.782Z"
   },
   {
    "duration": 0,
    "start_time": "2023-04-21T20:04:18.783Z"
   },
   {
    "duration": 0,
    "start_time": "2023-04-21T20:04:18.783Z"
   },
   {
    "duration": 0,
    "start_time": "2023-04-21T20:04:18.784Z"
   },
   {
    "duration": 1,
    "start_time": "2023-04-21T20:04:18.784Z"
   },
   {
    "duration": 0,
    "start_time": "2023-04-21T20:04:18.785Z"
   },
   {
    "duration": 0,
    "start_time": "2023-04-21T20:04:18.786Z"
   },
   {
    "duration": 0,
    "start_time": "2023-04-21T20:04:18.787Z"
   },
   {
    "duration": 0,
    "start_time": "2023-04-21T20:04:18.787Z"
   },
   {
    "duration": 0,
    "start_time": "2023-04-21T20:04:18.788Z"
   },
   {
    "duration": 0,
    "start_time": "2023-04-21T20:04:18.788Z"
   },
   {
    "duration": 0,
    "start_time": "2023-04-21T20:04:18.797Z"
   },
   {
    "duration": 0,
    "start_time": "2023-04-21T20:04:18.798Z"
   },
   {
    "duration": 0,
    "start_time": "2023-04-21T20:04:18.799Z"
   },
   {
    "duration": 0,
    "start_time": "2023-04-21T20:04:18.800Z"
   },
   {
    "duration": 0,
    "start_time": "2023-04-21T20:04:18.801Z"
   },
   {
    "duration": 0,
    "start_time": "2023-04-21T20:04:18.804Z"
   },
   {
    "duration": 0,
    "start_time": "2023-04-21T20:04:18.805Z"
   },
   {
    "duration": 0,
    "start_time": "2023-04-21T20:04:18.806Z"
   },
   {
    "duration": 0,
    "start_time": "2023-04-21T20:04:18.807Z"
   },
   {
    "duration": 0,
    "start_time": "2023-04-21T20:04:18.808Z"
   },
   {
    "duration": 0,
    "start_time": "2023-04-21T20:04:18.809Z"
   },
   {
    "duration": 0,
    "start_time": "2023-04-21T20:04:18.811Z"
   },
   {
    "duration": 0,
    "start_time": "2023-04-21T20:04:18.811Z"
   },
   {
    "duration": 0,
    "start_time": "2023-04-21T20:04:18.812Z"
   },
   {
    "duration": 0,
    "start_time": "2023-04-21T20:04:18.813Z"
   },
   {
    "duration": 0,
    "start_time": "2023-04-21T20:04:18.814Z"
   },
   {
    "duration": 0,
    "start_time": "2023-04-21T20:04:18.815Z"
   },
   {
    "duration": 0,
    "start_time": "2023-04-21T20:04:18.816Z"
   },
   {
    "duration": 0,
    "start_time": "2023-04-21T20:04:18.816Z"
   },
   {
    "duration": 0,
    "start_time": "2023-04-21T20:04:18.818Z"
   },
   {
    "duration": 0,
    "start_time": "2023-04-21T20:04:18.819Z"
   },
   {
    "duration": 0,
    "start_time": "2023-04-21T20:04:18.820Z"
   },
   {
    "duration": 0,
    "start_time": "2023-04-21T20:04:18.821Z"
   },
   {
    "duration": 0,
    "start_time": "2023-04-21T20:04:18.822Z"
   },
   {
    "duration": 0,
    "start_time": "2023-04-21T20:04:18.823Z"
   },
   {
    "duration": 0,
    "start_time": "2023-04-21T20:04:18.824Z"
   },
   {
    "duration": 0,
    "start_time": "2023-04-21T20:04:18.824Z"
   },
   {
    "duration": 0,
    "start_time": "2023-04-21T20:04:18.825Z"
   },
   {
    "duration": 0,
    "start_time": "2023-04-21T20:04:18.826Z"
   },
   {
    "duration": 0,
    "start_time": "2023-04-21T20:04:18.827Z"
   },
   {
    "duration": 0,
    "start_time": "2023-04-21T20:04:18.828Z"
   },
   {
    "duration": 0,
    "start_time": "2023-04-21T20:04:18.829Z"
   },
   {
    "duration": 0,
    "start_time": "2023-04-21T20:04:18.880Z"
   },
   {
    "duration": 8,
    "start_time": "2023-04-21T20:04:38.356Z"
   },
   {
    "duration": 7,
    "start_time": "2023-04-21T20:04:58.754Z"
   },
   {
    "duration": 7,
    "start_time": "2023-04-21T20:05:12.411Z"
   },
   {
    "duration": 19,
    "start_time": "2023-04-21T20:05:15.664Z"
   },
   {
    "duration": 3,
    "start_time": "2023-04-21T20:05:20.611Z"
   },
   {
    "duration": 109,
    "start_time": "2023-04-21T20:05:20.810Z"
   },
   {
    "duration": 30,
    "start_time": "2023-04-21T20:05:21.536Z"
   },
   {
    "duration": 109,
    "start_time": "2023-04-21T20:05:58.731Z"
   },
   {
    "duration": 94,
    "start_time": "2023-04-21T20:06:10.403Z"
   },
   {
    "duration": 12,
    "start_time": "2023-04-21T20:06:18.692Z"
   },
   {
    "duration": 3,
    "start_time": "2023-04-21T20:06:27.402Z"
   },
   {
    "duration": 89,
    "start_time": "2023-04-21T20:06:27.806Z"
   },
   {
    "duration": 10,
    "start_time": "2023-04-21T20:06:28.704Z"
   },
   {
    "duration": 9,
    "start_time": "2023-04-21T20:08:33.970Z"
   },
   {
    "duration": 114,
    "start_time": "2023-04-21T20:08:34.502Z"
   },
   {
    "duration": 29,
    "start_time": "2023-04-21T20:08:35.006Z"
   },
   {
    "duration": 4,
    "start_time": "2023-04-21T20:08:58.823Z"
   },
   {
    "duration": 48,
    "start_time": "2023-04-21T20:09:19.179Z"
   },
   {
    "duration": 41,
    "start_time": "2023-04-21T20:09:35.272Z"
   },
   {
    "duration": 127,
    "start_time": "2023-04-21T20:15:17.827Z"
   },
   {
    "duration": 21,
    "start_time": "2023-04-21T20:15:18.515Z"
   },
   {
    "duration": 26,
    "start_time": "2023-04-21T20:15:21.321Z"
   },
   {
    "duration": 2400,
    "start_time": "2023-04-21T20:15:37.043Z"
   },
   {
    "duration": 1913,
    "start_time": "2023-04-21T20:16:02.917Z"
   },
   {
    "duration": 18,
    "start_time": "2023-04-21T20:28:57.545Z"
   },
   {
    "duration": 49,
    "start_time": "2023-04-21T20:29:03.398Z"
   },
   {
    "duration": 14,
    "start_time": "2023-04-21T20:29:46.820Z"
   },
   {
    "duration": 23,
    "start_time": "2023-04-21T20:29:59.496Z"
   },
   {
    "duration": 20,
    "start_time": "2023-04-21T20:33:09.996Z"
   },
   {
    "duration": 8,
    "start_time": "2023-04-21T20:33:25.004Z"
   },
   {
    "duration": 6,
    "start_time": "2023-04-21T20:44:24.000Z"
   },
   {
    "duration": 10,
    "start_time": "2023-04-21T20:44:48.403Z"
   },
   {
    "duration": 8,
    "start_time": "2023-04-21T20:44:49.712Z"
   },
   {
    "duration": 29,
    "start_time": "2023-04-21T20:44:51.015Z"
   },
   {
    "duration": 5,
    "start_time": "2023-04-21T20:45:23.110Z"
   },
   {
    "duration": 6,
    "start_time": "2023-04-21T20:45:23.399Z"
   },
   {
    "duration": 8,
    "start_time": "2023-04-21T20:45:23.810Z"
   },
   {
    "duration": 5,
    "start_time": "2023-04-21T20:45:24.231Z"
   },
   {
    "duration": 5,
    "start_time": "2023-04-21T20:45:24.398Z"
   },
   {
    "duration": 8,
    "start_time": "2023-04-21T20:45:24.533Z"
   },
   {
    "duration": 3,
    "start_time": "2023-04-21T20:45:24.813Z"
   },
   {
    "duration": 5,
    "start_time": "2023-04-21T20:45:25.103Z"
   },
   {
    "duration": 4,
    "start_time": "2023-04-21T20:45:25.226Z"
   },
   {
    "duration": 11,
    "start_time": "2023-04-21T20:45:25.390Z"
   },
   {
    "duration": 6,
    "start_time": "2023-04-21T20:45:25.695Z"
   },
   {
    "duration": 3,
    "start_time": "2023-04-21T20:45:25.834Z"
   },
   {
    "duration": 7,
    "start_time": "2023-04-21T20:45:26.001Z"
   },
   {
    "duration": 10,
    "start_time": "2023-04-21T20:45:26.135Z"
   },
   {
    "duration": 13,
    "start_time": "2023-04-21T20:45:26.439Z"
   },
   {
    "duration": 4,
    "start_time": "2023-04-21T20:49:37.820Z"
   },
   {
    "duration": 5,
    "start_time": "2023-04-21T20:50:20.940Z"
   },
   {
    "duration": 6,
    "start_time": "2023-04-21T20:50:30.850Z"
   },
   {
    "duration": 5,
    "start_time": "2023-04-21T20:52:14.830Z"
   },
   {
    "duration": 86,
    "start_time": "2023-04-21T20:53:04.466Z"
   },
   {
    "duration": 4,
    "start_time": "2023-04-21T21:15:50.336Z"
   },
   {
    "duration": 3,
    "start_time": "2023-04-21T21:15:50.803Z"
   },
   {
    "duration": 4,
    "start_time": "2023-04-21T21:15:51.123Z"
   },
   {
    "duration": 5,
    "start_time": "2023-04-21T21:15:51.473Z"
   },
   {
    "duration": 3,
    "start_time": "2023-04-21T21:15:54.361Z"
   },
   {
    "duration": 4,
    "start_time": "2023-04-21T21:15:54.629Z"
   },
   {
    "duration": 3,
    "start_time": "2023-04-21T21:15:55.128Z"
   },
   {
    "duration": 4,
    "start_time": "2023-04-21T21:15:55.408Z"
   },
   {
    "duration": 4,
    "start_time": "2023-04-21T21:15:56.041Z"
   },
   {
    "duration": 3,
    "start_time": "2023-04-21T21:15:56.389Z"
   },
   {
    "duration": 6,
    "start_time": "2023-04-21T21:15:56.685Z"
   },
   {
    "duration": 3,
    "start_time": "2023-04-21T21:16:21.611Z"
   },
   {
    "duration": 3,
    "start_time": "2023-04-21T21:16:25.303Z"
   },
   {
    "duration": 6,
    "start_time": "2023-04-21T21:16:26.422Z"
   },
   {
    "duration": 11,
    "start_time": "2023-04-21T21:16:27.731Z"
   },
   {
    "duration": 436,
    "start_time": "2023-04-21T21:16:39.424Z"
   },
   {
    "duration": 92,
    "start_time": "2023-04-21T21:16:39.862Z"
   },
   {
    "duration": 15,
    "start_time": "2023-04-21T21:16:39.956Z"
   },
   {
    "duration": 32,
    "start_time": "2023-04-21T21:16:39.974Z"
   },
   {
    "duration": 1775,
    "start_time": "2023-04-21T21:16:40.008Z"
   },
   {
    "duration": 3,
    "start_time": "2023-04-21T21:16:41.785Z"
   },
   {
    "duration": 9,
    "start_time": "2023-04-21T21:16:41.790Z"
   },
   {
    "duration": 8,
    "start_time": "2023-04-21T21:16:41.800Z"
   },
   {
    "duration": 12,
    "start_time": "2023-04-21T21:16:41.809Z"
   },
   {
    "duration": 3,
    "start_time": "2023-04-21T21:16:41.823Z"
   },
   {
    "duration": 8,
    "start_time": "2023-04-21T21:16:41.827Z"
   },
   {
    "duration": 10,
    "start_time": "2023-04-21T21:16:41.836Z"
   },
   {
    "duration": 5,
    "start_time": "2023-04-21T21:16:41.848Z"
   },
   {
    "duration": 17,
    "start_time": "2023-04-21T21:16:41.854Z"
   },
   {
    "duration": 4,
    "start_time": "2023-04-21T21:16:41.872Z"
   },
   {
    "duration": 4,
    "start_time": "2023-04-21T21:16:41.877Z"
   },
   {
    "duration": 6,
    "start_time": "2023-04-21T21:16:41.882Z"
   },
   {
    "duration": 84,
    "start_time": "2023-04-21T21:16:41.889Z"
   },
   {
    "duration": 0,
    "start_time": "2023-04-21T21:16:41.975Z"
   },
   {
    "duration": 0,
    "start_time": "2023-04-21T21:16:41.977Z"
   },
   {
    "duration": 0,
    "start_time": "2023-04-21T21:16:41.978Z"
   },
   {
    "duration": 0,
    "start_time": "2023-04-21T21:16:41.979Z"
   },
   {
    "duration": 0,
    "start_time": "2023-04-21T21:16:41.981Z"
   },
   {
    "duration": 0,
    "start_time": "2023-04-21T21:16:41.982Z"
   },
   {
    "duration": 0,
    "start_time": "2023-04-21T21:16:41.983Z"
   },
   {
    "duration": 0,
    "start_time": "2023-04-21T21:16:41.984Z"
   },
   {
    "duration": 0,
    "start_time": "2023-04-21T21:16:41.986Z"
   },
   {
    "duration": 0,
    "start_time": "2023-04-21T21:16:41.987Z"
   },
   {
    "duration": 1,
    "start_time": "2023-04-21T21:16:41.988Z"
   },
   {
    "duration": 0,
    "start_time": "2023-04-21T21:16:41.990Z"
   },
   {
    "duration": 0,
    "start_time": "2023-04-21T21:16:41.991Z"
   },
   {
    "duration": 0,
    "start_time": "2023-04-21T21:16:41.993Z"
   },
   {
    "duration": 0,
    "start_time": "2023-04-21T21:16:41.994Z"
   },
   {
    "duration": 0,
    "start_time": "2023-04-21T21:16:41.997Z"
   },
   {
    "duration": 0,
    "start_time": "2023-04-21T21:16:41.998Z"
   },
   {
    "duration": 0,
    "start_time": "2023-04-21T21:16:41.999Z"
   },
   {
    "duration": 0,
    "start_time": "2023-04-21T21:16:42.000Z"
   },
   {
    "duration": 0,
    "start_time": "2023-04-21T21:16:42.001Z"
   },
   {
    "duration": 0,
    "start_time": "2023-04-21T21:16:42.003Z"
   },
   {
    "duration": 1,
    "start_time": "2023-04-21T21:16:42.004Z"
   },
   {
    "duration": 0,
    "start_time": "2023-04-21T21:16:42.006Z"
   },
   {
    "duration": 0,
    "start_time": "2023-04-21T21:16:42.008Z"
   },
   {
    "duration": 0,
    "start_time": "2023-04-21T21:16:42.009Z"
   },
   {
    "duration": 0,
    "start_time": "2023-04-21T21:16:42.010Z"
   },
   {
    "duration": 0,
    "start_time": "2023-04-21T21:16:42.012Z"
   },
   {
    "duration": 0,
    "start_time": "2023-04-21T21:16:42.072Z"
   },
   {
    "duration": 0,
    "start_time": "2023-04-21T21:16:42.073Z"
   },
   {
    "duration": 0,
    "start_time": "2023-04-21T21:16:42.075Z"
   },
   {
    "duration": 0,
    "start_time": "2023-04-21T21:16:42.076Z"
   },
   {
    "duration": 0,
    "start_time": "2023-04-21T21:16:42.077Z"
   },
   {
    "duration": 0,
    "start_time": "2023-04-21T21:16:42.079Z"
   },
   {
    "duration": 0,
    "start_time": "2023-04-21T21:16:42.080Z"
   },
   {
    "duration": 0,
    "start_time": "2023-04-21T21:16:42.081Z"
   },
   {
    "duration": 0,
    "start_time": "2023-04-21T21:16:42.082Z"
   },
   {
    "duration": 0,
    "start_time": "2023-04-21T21:16:42.083Z"
   },
   {
    "duration": 0,
    "start_time": "2023-04-21T21:16:42.085Z"
   },
   {
    "duration": 0,
    "start_time": "2023-04-21T21:16:42.086Z"
   },
   {
    "duration": 0,
    "start_time": "2023-04-21T21:16:42.087Z"
   },
   {
    "duration": 0,
    "start_time": "2023-04-21T21:16:42.089Z"
   },
   {
    "duration": 0,
    "start_time": "2023-04-21T21:16:42.090Z"
   },
   {
    "duration": 0,
    "start_time": "2023-04-21T21:16:42.091Z"
   },
   {
    "duration": 0,
    "start_time": "2023-04-21T21:16:42.092Z"
   },
   {
    "duration": 0,
    "start_time": "2023-04-21T21:16:42.094Z"
   },
   {
    "duration": 0,
    "start_time": "2023-04-21T21:16:42.095Z"
   },
   {
    "duration": 0,
    "start_time": "2023-04-21T21:16:42.096Z"
   },
   {
    "duration": 0,
    "start_time": "2023-04-21T21:16:42.097Z"
   },
   {
    "duration": 0,
    "start_time": "2023-04-21T21:16:42.098Z"
   },
   {
    "duration": 0,
    "start_time": "2023-04-21T21:16:42.100Z"
   },
   {
    "duration": 0,
    "start_time": "2023-04-21T21:16:42.101Z"
   },
   {
    "duration": 0,
    "start_time": "2023-04-21T21:16:42.102Z"
   },
   {
    "duration": 0,
    "start_time": "2023-04-21T21:16:42.103Z"
   },
   {
    "duration": 0,
    "start_time": "2023-04-21T21:16:42.105Z"
   },
   {
    "duration": 0,
    "start_time": "2023-04-21T21:16:42.106Z"
   },
   {
    "duration": 4,
    "start_time": "2023-04-21T21:17:53.771Z"
   },
   {
    "duration": 11,
    "start_time": "2023-04-21T21:18:12.881Z"
   },
   {
    "duration": 5,
    "start_time": "2023-04-21T21:19:36.560Z"
   },
   {
    "duration": 4,
    "start_time": "2023-04-21T21:19:39.269Z"
   },
   {
    "duration": 4,
    "start_time": "2023-04-21T21:19:39.548Z"
   },
   {
    "duration": 3,
    "start_time": "2023-04-21T21:19:41.685Z"
   },
   {
    "duration": 3,
    "start_time": "2023-04-21T21:19:42.151Z"
   },
   {
    "duration": 10,
    "start_time": "2023-04-21T21:19:42.543Z"
   },
   {
    "duration": 12,
    "start_time": "2023-04-21T21:19:44.109Z"
   },
   {
    "duration": 6,
    "start_time": "2023-04-21T21:19:50.148Z"
   },
   {
    "duration": 14,
    "start_time": "2023-04-21T21:19:53.301Z"
   },
   {
    "duration": 11,
    "start_time": "2023-04-21T21:19:56.278Z"
   },
   {
    "duration": 15,
    "start_time": "2023-04-21T21:19:56.649Z"
   },
   {
    "duration": 19,
    "start_time": "2023-04-21T21:19:57.046Z"
   },
   {
    "duration": 53,
    "start_time": "2023-04-21T21:20:01.755Z"
   },
   {
    "duration": 316,
    "start_time": "2023-04-21T21:20:12.444Z"
   },
   {
    "duration": 324,
    "start_time": "2023-04-21T21:22:30.269Z"
   },
   {
    "duration": 67,
    "start_time": "2023-04-21T21:22:45.328Z"
   },
   {
    "duration": 3,
    "start_time": "2023-04-21T21:23:16.257Z"
   },
   {
    "duration": 417,
    "start_time": "2023-04-21T21:23:16.816Z"
   },
   {
    "duration": 320,
    "start_time": "2023-04-21T21:23:54.840Z"
   },
   {
    "duration": 255,
    "start_time": "2023-04-21T21:23:56.652Z"
   },
   {
    "duration": 91,
    "start_time": "2023-04-21T21:24:27.767Z"
   },
   {
    "duration": 18,
    "start_time": "2023-04-21T21:24:43.623Z"
   },
   {
    "duration": 25,
    "start_time": "2023-04-21T21:24:54.346Z"
   },
   {
    "duration": 86,
    "start_time": "2023-04-21T21:25:11.351Z"
   },
   {
    "duration": 106,
    "start_time": "2023-04-21T21:25:18.990Z"
   },
   {
    "duration": 19,
    "start_time": "2023-04-21T21:25:24.064Z"
   },
   {
    "duration": 78,
    "start_time": "2023-04-21T21:25:24.564Z"
   },
   {
    "duration": 192,
    "start_time": "2023-04-21T21:25:26.585Z"
   },
   {
    "duration": 190,
    "start_time": "2023-04-21T21:25:34.081Z"
   },
   {
    "duration": 13,
    "start_time": "2023-04-21T21:25:43.830Z"
   },
   {
    "duration": 80,
    "start_time": "2023-04-21T21:25:48.857Z"
   },
   {
    "duration": 198,
    "start_time": "2023-04-21T21:25:51.034Z"
   },
   {
    "duration": 103,
    "start_time": "2023-04-21T21:26:12.775Z"
   },
   {
    "duration": 180,
    "start_time": "2023-04-21T21:26:14.133Z"
   },
   {
    "duration": 11,
    "start_time": "2023-04-21T21:26:40.689Z"
   },
   {
    "duration": 7,
    "start_time": "2023-04-21T21:26:49.858Z"
   },
   {
    "duration": 5,
    "start_time": "2023-04-21T21:27:09.443Z"
   },
   {
    "duration": 4,
    "start_time": "2023-04-21T21:27:11.161Z"
   },
   {
    "duration": 4,
    "start_time": "2023-04-21T21:27:11.996Z"
   },
   {
    "duration": 337,
    "start_time": "2023-04-21T21:27:14.562Z"
   },
   {
    "duration": 23,
    "start_time": "2023-04-21T21:27:15.097Z"
   },
   {
    "duration": 4,
    "start_time": "2023-04-21T21:27:15.505Z"
   },
   {
    "duration": 6,
    "start_time": "2023-04-21T21:27:21.291Z"
   },
   {
    "duration": 225,
    "start_time": "2023-04-21T21:27:28.511Z"
   },
   {
    "duration": 223,
    "start_time": "2023-04-21T21:27:34.664Z"
   },
   {
    "duration": 224,
    "start_time": "2023-04-21T21:27:37.861Z"
   },
   {
    "duration": 201,
    "start_time": "2023-04-21T21:27:44.181Z"
   },
   {
    "duration": 242,
    "start_time": "2023-04-21T21:28:02.582Z"
   },
   {
    "duration": 206,
    "start_time": "2023-04-21T21:28:13.053Z"
   },
   {
    "duration": 241,
    "start_time": "2023-04-21T21:28:16.258Z"
   },
   {
    "duration": 223,
    "start_time": "2023-04-21T21:28:23.380Z"
   },
   {
    "duration": 201,
    "start_time": "2023-04-21T21:29:02.281Z"
   },
   {
    "duration": 197,
    "start_time": "2023-04-21T21:29:06.563Z"
   },
   {
    "duration": 207,
    "start_time": "2023-04-21T21:29:15.344Z"
   },
   {
    "duration": 148,
    "start_time": "2023-04-21T21:29:43.166Z"
   },
   {
    "duration": 213,
    "start_time": "2023-04-21T21:30:20.276Z"
   },
   {
    "duration": 188,
    "start_time": "2023-04-21T21:31:42.521Z"
   },
   {
    "duration": 3,
    "start_time": "2023-04-21T21:33:22.078Z"
   },
   {
    "duration": 20,
    "start_time": "2023-04-21T21:33:43.944Z"
   },
   {
    "duration": 3,
    "start_time": "2023-04-21T21:34:20.527Z"
   },
   {
    "duration": 19,
    "start_time": "2023-04-21T21:34:29.733Z"
   },
   {
    "duration": 20,
    "start_time": "2023-04-21T21:34:38.301Z"
   },
   {
    "duration": 20,
    "start_time": "2023-04-21T21:34:49.014Z"
   },
   {
    "duration": 436,
    "start_time": "2023-04-21T21:34:59.211Z"
   },
   {
    "duration": 85,
    "start_time": "2023-04-21T21:34:59.649Z"
   },
   {
    "duration": 13,
    "start_time": "2023-04-21T21:34:59.736Z"
   },
   {
    "duration": 33,
    "start_time": "2023-04-21T21:34:59.750Z"
   },
   {
    "duration": 1774,
    "start_time": "2023-04-21T21:34:59.785Z"
   },
   {
    "duration": 3,
    "start_time": "2023-04-21T21:35:01.560Z"
   },
   {
    "duration": 83,
    "start_time": "2023-04-21T21:35:01.564Z"
   },
   {
    "duration": 46,
    "start_time": "2023-04-21T21:35:01.648Z"
   },
   {
    "duration": 139,
    "start_time": "2023-04-21T21:35:01.696Z"
   },
   {
    "duration": 89,
    "start_time": "2023-04-21T21:35:01.837Z"
   },
   {
    "duration": 68,
    "start_time": "2023-04-21T21:35:01.928Z"
   },
   {
    "duration": 64,
    "start_time": "2023-04-21T21:35:01.998Z"
   },
   {
    "duration": 59,
    "start_time": "2023-04-21T21:35:02.063Z"
   },
   {
    "duration": 104,
    "start_time": "2023-04-21T21:35:02.123Z"
   },
   {
    "duration": 48,
    "start_time": "2023-04-21T21:35:02.229Z"
   },
   {
    "duration": 37,
    "start_time": "2023-04-21T21:35:02.278Z"
   },
   {
    "duration": 34,
    "start_time": "2023-04-21T21:35:02.316Z"
   },
   {
    "duration": 33,
    "start_time": "2023-04-21T21:35:02.351Z"
   },
   {
    "duration": 33,
    "start_time": "2023-04-21T21:35:02.385Z"
   },
   {
    "duration": 29,
    "start_time": "2023-04-21T21:35:02.419Z"
   },
   {
    "duration": 21,
    "start_time": "2023-04-21T21:35:02.449Z"
   },
   {
    "duration": 38,
    "start_time": "2023-04-21T21:35:02.471Z"
   },
   {
    "duration": 22,
    "start_time": "2023-04-21T21:35:02.510Z"
   },
   {
    "duration": 12,
    "start_time": "2023-04-21T21:35:02.534Z"
   },
   {
    "duration": 17,
    "start_time": "2023-04-21T21:35:02.547Z"
   },
   {
    "duration": 116,
    "start_time": "2023-04-21T21:35:02.565Z"
   },
   {
    "duration": 59,
    "start_time": "2023-04-21T21:35:02.682Z"
   },
   {
    "duration": 26,
    "start_time": "2023-04-21T21:35:02.744Z"
   },
   {
    "duration": 49,
    "start_time": "2023-04-21T21:35:02.771Z"
   },
   {
    "duration": 373,
    "start_time": "2023-04-21T21:35:02.822Z"
   },
   {
    "duration": 260,
    "start_time": "2023-04-21T21:35:03.196Z"
   },
   {
    "duration": 93,
    "start_time": "2023-04-21T21:35:03.457Z"
   },
   {
    "duration": 22,
    "start_time": "2023-04-21T21:35:03.552Z"
   },
   {
    "duration": 97,
    "start_time": "2023-04-21T21:35:03.576Z"
   },
   {
    "duration": 179,
    "start_time": "2023-04-21T21:35:03.675Z"
   },
   {
    "duration": 17,
    "start_time": "2023-04-21T21:35:03.856Z"
   },
   {
    "duration": 100,
    "start_time": "2023-04-21T21:35:03.874Z"
   },
   {
    "duration": 188,
    "start_time": "2023-04-21T21:35:03.975Z"
   },
   {
    "duration": 16,
    "start_time": "2023-04-21T21:35:04.164Z"
   },
   {
    "duration": 7,
    "start_time": "2023-04-21T21:35:04.181Z"
   },
   {
    "duration": 24,
    "start_time": "2023-04-21T21:35:04.190Z"
   },
   {
    "duration": 17,
    "start_time": "2023-04-21T21:35:04.215Z"
   },
   {
    "duration": 7,
    "start_time": "2023-04-21T21:35:04.234Z"
   },
   {
    "duration": 260,
    "start_time": "2023-04-21T21:35:04.243Z"
   },
   {
    "duration": 18,
    "start_time": "2023-04-21T21:35:04.505Z"
   },
   {
    "duration": 6,
    "start_time": "2023-04-21T21:35:04.524Z"
   },
   {
    "duration": 8,
    "start_time": "2023-04-21T21:35:04.532Z"
   },
   {
    "duration": 208,
    "start_time": "2023-04-21T21:35:04.541Z"
   },
   {
    "duration": 251,
    "start_time": "2023-04-21T21:35:04.750Z"
   },
   {
    "duration": 169,
    "start_time": "2023-04-21T21:35:05.003Z"
   },
   {
    "duration": 4,
    "start_time": "2023-04-21T21:35:05.173Z"
   },
   {
    "duration": 83,
    "start_time": "2023-04-21T21:35:05.178Z"
   },
   {
    "duration": 0,
    "start_time": "2023-04-21T21:35:05.262Z"
   },
   {
    "duration": 0,
    "start_time": "2023-04-21T21:35:05.263Z"
   },
   {
    "duration": 0,
    "start_time": "2023-04-21T21:35:05.272Z"
   },
   {
    "duration": 0,
    "start_time": "2023-04-21T21:35:05.273Z"
   },
   {
    "duration": 0,
    "start_time": "2023-04-21T21:35:05.274Z"
   },
   {
    "duration": 0,
    "start_time": "2023-04-21T21:35:05.275Z"
   },
   {
    "duration": 0,
    "start_time": "2023-04-21T21:35:05.276Z"
   },
   {
    "duration": 0,
    "start_time": "2023-04-21T21:35:05.277Z"
   },
   {
    "duration": 0,
    "start_time": "2023-04-21T21:35:05.278Z"
   },
   {
    "duration": 0,
    "start_time": "2023-04-21T21:35:05.278Z"
   },
   {
    "duration": 0,
    "start_time": "2023-04-21T21:35:05.279Z"
   },
   {
    "duration": 0,
    "start_time": "2023-04-21T21:35:05.280Z"
   },
   {
    "duration": 0,
    "start_time": "2023-04-21T21:35:05.281Z"
   },
   {
    "duration": 0,
    "start_time": "2023-04-21T21:35:05.281Z"
   },
   {
    "duration": 0,
    "start_time": "2023-04-21T21:35:05.282Z"
   },
   {
    "duration": 0,
    "start_time": "2023-04-21T21:35:05.283Z"
   },
   {
    "duration": 0,
    "start_time": "2023-04-21T21:35:05.284Z"
   },
   {
    "duration": 0,
    "start_time": "2023-04-21T21:35:05.284Z"
   },
   {
    "duration": 0,
    "start_time": "2023-04-21T21:35:05.285Z"
   },
   {
    "duration": 0,
    "start_time": "2023-04-21T21:35:05.287Z"
   },
   {
    "duration": 0,
    "start_time": "2023-04-21T21:35:05.288Z"
   },
   {
    "duration": 6,
    "start_time": "2023-04-21T21:35:43.486Z"
   },
   {
    "duration": 18,
    "start_time": "2023-04-21T21:35:54.421Z"
   },
   {
    "duration": 19,
    "start_time": "2023-04-21T21:36:00.373Z"
   },
   {
    "duration": 3,
    "start_time": "2023-04-21T21:36:30.835Z"
   },
   {
    "duration": 19,
    "start_time": "2023-04-21T21:36:33.014Z"
   },
   {
    "duration": 189,
    "start_time": "2023-04-21T21:38:10.247Z"
   },
   {
    "duration": 197,
    "start_time": "2023-04-21T21:38:22.546Z"
   },
   {
    "duration": 121,
    "start_time": "2023-04-21T21:40:50.075Z"
   },
   {
    "duration": 118,
    "start_time": "2023-04-21T21:41:33.770Z"
   },
   {
    "duration": 113,
    "start_time": "2023-04-21T21:41:52.446Z"
   },
   {
    "duration": 132,
    "start_time": "2023-04-21T21:42:45.929Z"
   },
   {
    "duration": 140,
    "start_time": "2023-04-21T21:43:16.497Z"
   },
   {
    "duration": 185,
    "start_time": "2023-04-21T21:43:55.695Z"
   },
   {
    "duration": 119,
    "start_time": "2023-04-21T21:44:19.655Z"
   },
   {
    "duration": 118,
    "start_time": "2023-04-21T21:44:48.354Z"
   },
   {
    "duration": 155,
    "start_time": "2023-04-21T21:45:25.656Z"
   },
   {
    "duration": 86,
    "start_time": "2023-04-21T21:45:35.374Z"
   },
   {
    "duration": 132,
    "start_time": "2023-04-21T21:45:50.466Z"
   },
   {
    "duration": 142,
    "start_time": "2023-04-21T21:46:15.457Z"
   },
   {
    "duration": 138,
    "start_time": "2023-04-21T21:46:46.183Z"
   },
   {
    "duration": 181,
    "start_time": "2023-04-21T21:48:12.546Z"
   },
   {
    "duration": 135,
    "start_time": "2023-04-21T21:48:40.213Z"
   },
   {
    "duration": 150,
    "start_time": "2023-04-21T21:48:55.607Z"
   },
   {
    "duration": 138,
    "start_time": "2023-04-21T21:49:05.311Z"
   },
   {
    "duration": 208,
    "start_time": "2023-04-21T21:49:38.813Z"
   },
   {
    "duration": 139,
    "start_time": "2023-04-21T21:50:06.291Z"
   },
   {
    "duration": 2211,
    "start_time": "2023-04-21T21:51:22.940Z"
   },
   {
    "duration": 166,
    "start_time": "2023-04-21T21:51:32.353Z"
   },
   {
    "duration": 171,
    "start_time": "2023-04-21T21:51:55.483Z"
   },
   {
    "duration": 2162,
    "start_time": "2023-04-21T21:52:03.621Z"
   },
   {
    "duration": 176,
    "start_time": "2023-04-21T21:53:01.057Z"
   },
   {
    "duration": 465,
    "start_time": "2023-04-21T21:53:33.793Z"
   },
   {
    "duration": 139,
    "start_time": "2023-04-21T21:53:41.556Z"
   },
   {
    "duration": 136,
    "start_time": "2023-04-21T21:53:58.340Z"
   },
   {
    "duration": 481,
    "start_time": "2023-04-22T04:24:05.949Z"
   },
   {
    "duration": 389,
    "start_time": "2023-04-22T04:24:06.431Z"
   },
   {
    "duration": 23,
    "start_time": "2023-04-22T04:24:06.823Z"
   },
   {
    "duration": 30,
    "start_time": "2023-04-22T04:24:06.995Z"
   },
   {
    "duration": 2173,
    "start_time": "2023-04-22T04:24:07.398Z"
   },
   {
    "duration": 3,
    "start_time": "2023-04-22T04:24:09.579Z"
   },
   {
    "duration": 37,
    "start_time": "2023-04-22T04:24:09.583Z"
   },
   {
    "duration": 7,
    "start_time": "2023-04-22T04:24:09.622Z"
   },
   {
    "duration": 17,
    "start_time": "2023-04-22T04:24:09.630Z"
   },
   {
    "duration": 7,
    "start_time": "2023-04-22T04:24:09.798Z"
   },
   {
    "duration": 5,
    "start_time": "2023-04-22T04:24:10.150Z"
   },
   {
    "duration": 6,
    "start_time": "2023-04-22T04:24:10.528Z"
   },
   {
    "duration": 3,
    "start_time": "2023-04-22T04:24:11.127Z"
   },
   {
    "duration": 3,
    "start_time": "2023-04-22T04:24:11.336Z"
   },
   {
    "duration": 4,
    "start_time": "2023-04-22T04:24:11.531Z"
   },
   {
    "duration": 5,
    "start_time": "2023-04-22T04:24:11.727Z"
   },
   {
    "duration": 5,
    "start_time": "2023-04-22T04:24:12.499Z"
   },
   {
    "duration": 4,
    "start_time": "2023-04-22T04:24:12.699Z"
   },
   {
    "duration": 4,
    "start_time": "2023-04-22T04:24:12.922Z"
   },
   {
    "duration": 3,
    "start_time": "2023-04-22T04:24:13.323Z"
   },
   {
    "duration": 3,
    "start_time": "2023-04-22T04:24:14.358Z"
   },
   {
    "duration": 8,
    "start_time": "2023-04-22T04:24:14.620Z"
   },
   {
    "duration": 14,
    "start_time": "2023-04-22T04:24:15.131Z"
   },
   {
    "duration": 5,
    "start_time": "2023-04-22T04:24:18.228Z"
   },
   {
    "duration": 13,
    "start_time": "2023-04-22T04:24:19.004Z"
   },
   {
    "duration": 13,
    "start_time": "2023-04-22T04:24:19.213Z"
   },
   {
    "duration": 15,
    "start_time": "2023-04-22T04:24:19.415Z"
   },
   {
    "duration": 21,
    "start_time": "2023-04-22T04:24:19.618Z"
   },
   {
    "duration": 58,
    "start_time": "2023-04-22T04:24:20.199Z"
   },
   {
    "duration": 412,
    "start_time": "2023-04-22T04:24:20.612Z"
   },
   {
    "duration": 328,
    "start_time": "2023-04-22T04:24:21.030Z"
   },
   {
    "duration": 181,
    "start_time": "2023-04-22T04:24:21.614Z"
   },
   {
    "duration": 18,
    "start_time": "2023-04-22T04:24:22.103Z"
   },
   {
    "duration": 25,
    "start_time": "2023-04-22T04:24:22.307Z"
   },
   {
    "duration": 206,
    "start_time": "2023-04-22T04:24:22.706Z"
   },
   {
    "duration": 14,
    "start_time": "2023-04-22T04:24:23.157Z"
   },
   {
    "duration": 94,
    "start_time": "2023-04-22T04:24:26.807Z"
   },
   {
    "duration": 200,
    "start_time": "2023-04-22T04:24:27.804Z"
   },
   {
    "duration": 16,
    "start_time": "2023-04-22T04:25:15.294Z"
   },
   {
    "duration": 189,
    "start_time": "2023-04-22T04:25:51.524Z"
   },
   {
    "duration": 191,
    "start_time": "2023-04-22T04:27:10.751Z"
   },
   {
    "duration": 412,
    "start_time": "2023-04-22T04:27:55.319Z"
   },
   {
    "duration": 97,
    "start_time": "2023-04-22T04:27:55.732Z"
   },
   {
    "duration": 14,
    "start_time": "2023-04-22T04:27:55.831Z"
   },
   {
    "duration": 52,
    "start_time": "2023-04-22T04:27:55.847Z"
   },
   {
    "duration": 1914,
    "start_time": "2023-04-22T04:27:55.901Z"
   },
   {
    "duration": 3,
    "start_time": "2023-04-22T04:27:57.816Z"
   },
   {
    "duration": 16,
    "start_time": "2023-04-22T04:27:57.820Z"
   },
   {
    "duration": 7,
    "start_time": "2023-04-22T04:27:57.837Z"
   },
   {
    "duration": 14,
    "start_time": "2023-04-22T04:27:57.846Z"
   },
   {
    "duration": 4,
    "start_time": "2023-04-22T04:27:57.862Z"
   },
   {
    "duration": 18,
    "start_time": "2023-04-22T04:27:57.867Z"
   },
   {
    "duration": 8,
    "start_time": "2023-04-22T04:27:57.887Z"
   },
   {
    "duration": 3,
    "start_time": "2023-04-22T04:27:57.897Z"
   },
   {
    "duration": 6,
    "start_time": "2023-04-22T04:27:57.901Z"
   },
   {
    "duration": 9,
    "start_time": "2023-04-22T04:27:57.908Z"
   },
   {
    "duration": 13,
    "start_time": "2023-04-22T04:27:57.918Z"
   },
   {
    "duration": 5,
    "start_time": "2023-04-22T04:27:57.933Z"
   },
   {
    "duration": 3,
    "start_time": "2023-04-22T04:27:57.939Z"
   },
   {
    "duration": 12,
    "start_time": "2023-04-22T04:27:57.944Z"
   },
   {
    "duration": 5,
    "start_time": "2023-04-22T04:27:57.958Z"
   },
   {
    "duration": 29,
    "start_time": "2023-04-22T04:27:57.964Z"
   },
   {
    "duration": 15,
    "start_time": "2023-04-22T04:27:57.995Z"
   },
   {
    "duration": 12,
    "start_time": "2023-04-22T04:27:58.011Z"
   },
   {
    "duration": 5,
    "start_time": "2023-04-22T04:27:58.024Z"
   },
   {
    "duration": 13,
    "start_time": "2023-04-22T04:27:58.031Z"
   },
   {
    "duration": 10,
    "start_time": "2023-04-22T04:27:58.045Z"
   },
   {
    "duration": 26,
    "start_time": "2023-04-22T04:27:58.056Z"
   },
   {
    "duration": 18,
    "start_time": "2023-04-22T04:27:58.089Z"
   },
   {
    "duration": 81,
    "start_time": "2023-04-22T04:27:58.109Z"
   },
   {
    "duration": 342,
    "start_time": "2023-04-22T04:27:58.191Z"
   },
   {
    "duration": 297,
    "start_time": "2023-04-22T04:27:58.534Z"
   },
   {
    "duration": 104,
    "start_time": "2023-04-22T04:27:58.833Z"
   },
   {
    "duration": 17,
    "start_time": "2023-04-22T04:27:58.938Z"
   },
   {
    "duration": 109,
    "start_time": "2023-04-22T04:27:58.957Z"
   },
   {
    "duration": 221,
    "start_time": "2023-04-22T04:27:59.067Z"
   },
   {
    "duration": 13,
    "start_time": "2023-04-22T04:27:59.290Z"
   },
   {
    "duration": 98,
    "start_time": "2023-04-22T04:27:59.305Z"
   },
   {
    "duration": 209,
    "start_time": "2023-04-22T04:27:59.405Z"
   },
   {
    "duration": 189,
    "start_time": "2023-04-22T04:27:59.616Z"
   },
   {
    "duration": 6,
    "start_time": "2023-04-22T04:27:59.807Z"
   },
   {
    "duration": 6,
    "start_time": "2023-04-22T04:27:59.815Z"
   },
   {
    "duration": 13,
    "start_time": "2023-04-22T04:27:59.822Z"
   },
   {
    "duration": 5,
    "start_time": "2023-04-22T04:27:59.836Z"
   },
   {
    "duration": 294,
    "start_time": "2023-04-22T04:27:59.842Z"
   },
   {
    "duration": 20,
    "start_time": "2023-04-22T04:28:00.138Z"
   },
   {
    "duration": 18,
    "start_time": "2023-04-22T04:28:00.172Z"
   },
   {
    "duration": 50,
    "start_time": "2023-04-22T04:28:00.191Z"
   },
   {
    "duration": 256,
    "start_time": "2023-04-22T04:28:00.242Z"
   },
   {
    "duration": 273,
    "start_time": "2023-04-22T04:28:00.499Z"
   },
   {
    "duration": 186,
    "start_time": "2023-04-22T04:28:00.773Z"
   },
   {
    "duration": 4,
    "start_time": "2023-04-22T04:28:00.960Z"
   },
   {
    "duration": 241,
    "start_time": "2023-04-22T04:28:00.965Z"
   },
   {
    "duration": 124,
    "start_time": "2023-04-22T04:28:01.207Z"
   },
   {
    "duration": 146,
    "start_time": "2023-04-22T04:28:01.333Z"
   },
   {
    "duration": 151,
    "start_time": "2023-04-22T04:28:01.481Z"
   },
   {
    "duration": 121,
    "start_time": "2023-04-22T04:28:01.634Z"
   },
   {
    "duration": 152,
    "start_time": "2023-04-22T04:28:01.757Z"
   },
   {
    "duration": 155,
    "start_time": "2023-04-22T04:28:01.911Z"
   },
   {
    "duration": 220,
    "start_time": "2023-04-22T04:28:02.072Z"
   },
   {
    "duration": 145,
    "start_time": "2023-04-22T04:28:02.294Z"
   },
   {
    "duration": 260,
    "start_time": "2023-04-22T04:28:02.441Z"
   },
   {
    "duration": 518,
    "start_time": "2023-04-22T04:28:02.703Z"
   },
   {
    "duration": 166,
    "start_time": "2023-04-22T04:28:03.223Z"
   },
   {
    "duration": 151,
    "start_time": "2023-04-22T04:28:03.390Z"
   },
   {
    "duration": 147,
    "start_time": "2023-04-22T04:28:03.543Z"
   },
   {
    "duration": 194,
    "start_time": "2023-04-22T04:28:03.692Z"
   },
   {
    "duration": 123,
    "start_time": "2023-04-22T04:28:03.887Z"
   },
   {
    "duration": 136,
    "start_time": "2023-04-22T04:28:04.011Z"
   },
   {
    "duration": 147,
    "start_time": "2023-04-22T04:28:04.148Z"
   },
   {
    "duration": 145,
    "start_time": "2023-04-22T04:28:04.297Z"
   },
   {
    "duration": 41,
    "start_time": "2023-04-22T04:28:04.443Z"
   },
   {
    "duration": 13,
    "start_time": "2023-04-22T04:28:04.488Z"
   },
   {
    "duration": 130,
    "start_time": "2023-04-22T04:28:04.503Z"
   },
   {
    "duration": 3,
    "start_time": "2023-04-22T04:28:27.994Z"
   },
   {
    "duration": 90,
    "start_time": "2023-04-22T04:28:28.499Z"
   },
   {
    "duration": 13,
    "start_time": "2023-04-22T04:28:28.706Z"
   },
   {
    "duration": 21,
    "start_time": "2023-04-22T04:28:29.237Z"
   },
   {
    "duration": 1778,
    "start_time": "2023-04-22T04:28:29.584Z"
   },
   {
    "duration": 11,
    "start_time": "2023-04-22T04:28:31.364Z"
   },
   {
    "duration": 47,
    "start_time": "2023-04-22T04:28:31.376Z"
   },
   {
    "duration": 23,
    "start_time": "2023-04-22T04:28:31.425Z"
   },
   {
    "duration": 46,
    "start_time": "2023-04-22T04:28:31.449Z"
   },
   {
    "duration": 5,
    "start_time": "2023-04-22T04:28:31.595Z"
   },
   {
    "duration": 5,
    "start_time": "2023-04-22T04:28:31.916Z"
   },
   {
    "duration": 5,
    "start_time": "2023-04-22T04:28:32.427Z"
   },
   {
    "duration": 4,
    "start_time": "2023-04-22T04:28:32.894Z"
   },
   {
    "duration": 4,
    "start_time": "2023-04-22T04:28:33.056Z"
   },
   {
    "duration": 4,
    "start_time": "2023-04-22T04:28:33.215Z"
   },
   {
    "duration": 5,
    "start_time": "2023-04-22T04:28:33.391Z"
   },
   {
    "duration": 7,
    "start_time": "2023-04-22T04:28:33.897Z"
   },
   {
    "duration": 4,
    "start_time": "2023-04-22T04:28:34.195Z"
   },
   {
    "duration": 4,
    "start_time": "2023-04-22T04:28:34.336Z"
   },
   {
    "duration": 4,
    "start_time": "2023-04-22T04:28:34.673Z"
   },
   {
    "duration": 3,
    "start_time": "2023-04-22T04:28:34.837Z"
   },
   {
    "duration": 8,
    "start_time": "2023-04-22T04:28:34.998Z"
   },
   {
    "duration": 11,
    "start_time": "2023-04-22T04:28:35.347Z"
   },
   {
    "duration": 6,
    "start_time": "2023-04-22T04:28:35.658Z"
   },
   {
    "duration": 13,
    "start_time": "2023-04-22T04:28:35.999Z"
   },
   {
    "duration": 15,
    "start_time": "2023-04-22T04:28:36.187Z"
   },
   {
    "duration": 23,
    "start_time": "2023-04-22T04:28:36.463Z"
   },
   {
    "duration": 18,
    "start_time": "2023-04-22T04:28:36.622Z"
   },
   {
    "duration": 71,
    "start_time": "2023-04-22T04:28:37.152Z"
   },
   {
    "duration": 334,
    "start_time": "2023-04-22T04:28:38.195Z"
   },
   {
    "duration": 304,
    "start_time": "2023-04-22T04:28:39.635Z"
   },
   {
    "duration": 118,
    "start_time": "2023-04-22T04:28:42.857Z"
   },
   {
    "duration": 16,
    "start_time": "2023-04-22T04:28:45.229Z"
   },
   {
    "duration": 24,
    "start_time": "2023-04-22T04:28:45.908Z"
   },
   {
    "duration": 202,
    "start_time": "2023-04-22T04:28:47.548Z"
   },
   {
    "duration": 18,
    "start_time": "2023-04-22T04:28:50.073Z"
   },
   {
    "duration": 177,
    "start_time": "2023-04-22T04:28:51.194Z"
   },
   {
    "duration": 208,
    "start_time": "2023-04-22T04:28:52.769Z"
   },
   {
    "duration": 189,
    "start_time": "2023-04-22T04:28:54.399Z"
   },
   {
    "duration": 7,
    "start_time": "2023-04-22T04:29:46.837Z"
   },
   {
    "duration": 5,
    "start_time": "2023-04-22T04:29:55.791Z"
   },
   {
    "duration": 4,
    "start_time": "2023-04-22T04:29:56.292Z"
   },
   {
    "duration": 5,
    "start_time": "2023-04-22T04:29:56.958Z"
   },
   {
    "duration": 270,
    "start_time": "2023-04-22T04:29:58.155Z"
   },
   {
    "duration": 19,
    "start_time": "2023-04-22T04:30:00.818Z"
   },
   {
    "duration": 5,
    "start_time": "2023-04-22T04:30:01.395Z"
   },
   {
    "duration": 5,
    "start_time": "2023-04-22T04:30:01.849Z"
   },
   {
    "duration": 221,
    "start_time": "2023-04-22T04:30:03.665Z"
   },
   {
    "duration": 212,
    "start_time": "2023-04-22T04:30:06.432Z"
   },
   {
    "duration": 221,
    "start_time": "2023-04-22T04:30:07.787Z"
   },
   {
    "duration": 3,
    "start_time": "2023-04-22T04:30:08.819Z"
   },
   {
    "duration": 199,
    "start_time": "2023-04-22T04:30:09.051Z"
   },
   {
    "duration": 129,
    "start_time": "2023-04-22T04:30:10.999Z"
   },
   {
    "duration": 122,
    "start_time": "2023-04-22T04:30:12.561Z"
   },
   {
    "duration": 143,
    "start_time": "2023-04-22T04:30:14.099Z"
   },
   {
    "duration": 132,
    "start_time": "2023-04-22T04:30:34.730Z"
   },
   {
    "duration": 155,
    "start_time": "2023-04-22T04:30:48.700Z"
   },
   {
    "duration": 210,
    "start_time": "2023-04-22T04:32:15.530Z"
   },
   {
    "duration": 131,
    "start_time": "2023-04-22T04:32:34.260Z"
   },
   {
    "duration": 119,
    "start_time": "2023-04-22T04:32:57.411Z"
   },
   {
    "duration": 218,
    "start_time": "2023-04-22T04:33:05.042Z"
   },
   {
    "duration": 116,
    "start_time": "2023-04-22T04:33:13.119Z"
   },
   {
    "duration": 136,
    "start_time": "2023-04-22T04:33:16.052Z"
   },
   {
    "duration": 124,
    "start_time": "2023-04-22T04:33:22.076Z"
   },
   {
    "duration": 465,
    "start_time": "2023-04-22T04:33:37.339Z"
   },
   {
    "duration": 172,
    "start_time": "2023-04-22T04:33:52.452Z"
   },
   {
    "duration": 162,
    "start_time": "2023-04-22T04:34:21.661Z"
   },
   {
    "duration": 188,
    "start_time": "2023-04-22T04:34:29.699Z"
   },
   {
    "duration": 188,
    "start_time": "2023-04-22T04:35:47.368Z"
   },
   {
    "duration": 155,
    "start_time": "2023-04-22T04:36:07.827Z"
   },
   {
    "duration": 151,
    "start_time": "2023-04-22T04:37:00.652Z"
   },
   {
    "duration": 224,
    "start_time": "2023-04-22T04:38:17.518Z"
   },
   {
    "duration": 235,
    "start_time": "2023-04-22T04:39:53.957Z"
   },
   {
    "duration": 626,
    "start_time": "2023-04-22T04:46:25.272Z"
   },
   {
    "duration": 174,
    "start_time": "2023-04-22T05:10:51.610Z"
   },
   {
    "duration": 153,
    "start_time": "2023-04-22T05:11:16.398Z"
   },
   {
    "duration": 154,
    "start_time": "2023-04-22T05:13:20.338Z"
   },
   {
    "duration": 149,
    "start_time": "2023-04-22T05:19:09.890Z"
   },
   {
    "duration": 148,
    "start_time": "2023-04-22T05:19:40.721Z"
   },
   {
    "duration": 171,
    "start_time": "2023-04-22T05:20:19.893Z"
   },
   {
    "duration": 194,
    "start_time": "2023-04-22T05:20:25.107Z"
   },
   {
    "duration": 284,
    "start_time": "2023-04-22T05:20:25.601Z"
   },
   {
    "duration": 75,
    "start_time": "2023-04-22T05:25:09.395Z"
   },
   {
    "duration": 155,
    "start_time": "2023-04-22T05:25:49.422Z"
   },
   {
    "duration": 72,
    "start_time": "2023-04-22T05:26:59.105Z"
   },
   {
    "duration": 42,
    "start_time": "2023-04-22T05:35:25.569Z"
   },
   {
    "duration": 13,
    "start_time": "2023-04-22T05:36:26.202Z"
   },
   {
    "duration": 11,
    "start_time": "2023-04-22T05:40:16.355Z"
   },
   {
    "duration": 20,
    "start_time": "2023-04-22T05:42:12.607Z"
   },
   {
    "duration": 34,
    "start_time": "2023-04-22T05:44:45.244Z"
   },
   {
    "duration": 103,
    "start_time": "2023-04-22T05:45:32.045Z"
   },
   {
    "duration": 43,
    "start_time": "2023-04-22T05:45:36.428Z"
   },
   {
    "duration": 34,
    "start_time": "2023-04-22T05:45:55.244Z"
   },
   {
    "duration": 37,
    "start_time": "2023-04-22T05:46:12.619Z"
   },
   {
    "duration": 113,
    "start_time": "2023-04-22T05:47:19.706Z"
   },
   {
    "duration": 35,
    "start_time": "2023-04-22T05:47:37.294Z"
   },
   {
    "duration": 46,
    "start_time": "2023-04-22T05:48:50.253Z"
   },
   {
    "duration": 46,
    "start_time": "2023-04-22T05:49:14.975Z"
   },
   {
    "duration": 47,
    "start_time": "2023-04-22T05:49:18.753Z"
   },
   {
    "duration": 44,
    "start_time": "2023-04-22T05:49:49.991Z"
   },
   {
    "duration": 32,
    "start_time": "2023-04-22T05:55:40.699Z"
   },
   {
    "duration": 430,
    "start_time": "2023-04-22T05:56:11.724Z"
   },
   {
    "duration": 96,
    "start_time": "2023-04-22T05:56:12.155Z"
   },
   {
    "duration": 12,
    "start_time": "2023-04-22T05:56:12.253Z"
   },
   {
    "duration": 22,
    "start_time": "2023-04-22T05:56:12.513Z"
   },
   {
    "duration": 1830,
    "start_time": "2023-04-22T05:56:12.812Z"
   },
   {
    "duration": 3,
    "start_time": "2023-04-22T05:56:14.644Z"
   },
   {
    "duration": 12,
    "start_time": "2023-04-22T05:56:14.649Z"
   },
   {
    "duration": 21,
    "start_time": "2023-04-22T05:56:14.663Z"
   },
   {
    "duration": 41,
    "start_time": "2023-04-22T05:56:14.686Z"
   },
   {
    "duration": 14,
    "start_time": "2023-04-22T05:56:14.729Z"
   },
   {
    "duration": 7,
    "start_time": "2023-04-22T05:56:14.999Z"
   },
   {
    "duration": 6,
    "start_time": "2023-04-22T05:56:15.326Z"
   },
   {
    "duration": 3,
    "start_time": "2023-04-22T05:56:15.818Z"
   },
   {
    "duration": 23,
    "start_time": "2023-04-22T05:56:15.968Z"
   },
   {
    "duration": 6,
    "start_time": "2023-04-22T05:56:16.289Z"
   },
   {
    "duration": 6,
    "start_time": "2023-04-22T05:56:16.420Z"
   },
   {
    "duration": 6,
    "start_time": "2023-04-22T05:56:16.915Z"
   },
   {
    "duration": 5,
    "start_time": "2023-04-22T05:56:17.092Z"
   },
   {
    "duration": 7,
    "start_time": "2023-04-22T05:56:17.212Z"
   },
   {
    "duration": 4,
    "start_time": "2023-04-22T05:56:17.540Z"
   },
   {
    "duration": 4,
    "start_time": "2023-04-22T05:56:17.807Z"
   },
   {
    "duration": 10,
    "start_time": "2023-04-22T05:56:17.988Z"
   },
   {
    "duration": 13,
    "start_time": "2023-04-22T05:56:18.312Z"
   },
   {
    "duration": 6,
    "start_time": "2023-04-22T05:56:18.638Z"
   },
   {
    "duration": 20,
    "start_time": "2023-04-22T05:56:18.806Z"
   },
   {
    "duration": 12,
    "start_time": "2023-04-22T05:56:18.958Z"
   },
   {
    "duration": 15,
    "start_time": "2023-04-22T05:56:19.123Z"
   },
   {
    "duration": 26,
    "start_time": "2023-04-22T05:56:19.296Z"
   },
   {
    "duration": 66,
    "start_time": "2023-04-22T05:56:19.796Z"
   },
   {
    "duration": 437,
    "start_time": "2023-04-22T05:56:20.112Z"
   },
   {
    "duration": 455,
    "start_time": "2023-04-22T05:56:20.551Z"
   },
   {
    "duration": 126,
    "start_time": "2023-04-22T05:56:21.009Z"
   },
   {
    "duration": 23,
    "start_time": "2023-04-22T05:56:21.138Z"
   },
   {
    "duration": 60,
    "start_time": "2023-04-22T05:56:21.268Z"
   },
   {
    "duration": 238,
    "start_time": "2023-04-22T05:56:21.608Z"
   },
   {
    "duration": 23,
    "start_time": "2023-04-22T05:56:22.063Z"
   },
   {
    "duration": 111,
    "start_time": "2023-04-22T05:56:22.553Z"
   },
   {
    "duration": 290,
    "start_time": "2023-04-22T05:56:22.914Z"
   },
   {
    "duration": 245,
    "start_time": "2023-04-22T05:56:23.250Z"
   },
   {
    "duration": 7,
    "start_time": "2023-04-22T05:56:23.928Z"
   },
   {
    "duration": 5,
    "start_time": "2023-04-22T05:56:24.116Z"
   },
   {
    "duration": 8,
    "start_time": "2023-04-22T05:56:24.296Z"
   },
   {
    "duration": 6,
    "start_time": "2023-04-22T05:56:24.441Z"
   },
   {
    "duration": 412,
    "start_time": "2023-04-22T05:56:24.630Z"
   },
   {
    "duration": 31,
    "start_time": "2023-04-22T05:56:25.044Z"
   },
   {
    "duration": 55,
    "start_time": "2023-04-22T05:56:25.076Z"
   },
   {
    "duration": 6,
    "start_time": "2023-04-22T05:56:25.412Z"
   },
   {
    "duration": 271,
    "start_time": "2023-04-22T05:56:31.118Z"
   },
   {
    "duration": 247,
    "start_time": "2023-04-22T05:56:31.661Z"
   },
   {
    "duration": 172,
    "start_time": "2023-04-22T05:56:32.192Z"
   },
   {
    "duration": 8,
    "start_time": "2023-04-22T05:56:32.703Z"
   },
   {
    "duration": 243,
    "start_time": "2023-04-22T05:56:32.855Z"
   },
   {
    "duration": 144,
    "start_time": "2023-04-22T05:56:33.557Z"
   },
   {
    "duration": 157,
    "start_time": "2023-04-22T05:56:34.366Z"
   },
   {
    "duration": 167,
    "start_time": "2023-04-22T05:56:34.996Z"
   },
   {
    "duration": 240,
    "start_time": "2023-04-22T05:56:35.888Z"
   },
   {
    "duration": 176,
    "start_time": "2023-04-22T05:56:36.461Z"
   },
   {
    "duration": 179,
    "start_time": "2023-04-22T05:56:37.134Z"
   },
   {
    "duration": 174,
    "start_time": "2023-04-22T05:56:37.740Z"
   },
   {
    "duration": 142,
    "start_time": "2023-04-22T05:56:38.435Z"
   },
   {
    "duration": 296,
    "start_time": "2023-04-22T05:56:39.114Z"
   },
   {
    "duration": 620,
    "start_time": "2023-04-22T05:56:42.900Z"
   },
   {
    "duration": 265,
    "start_time": "2023-04-22T05:56:44.471Z"
   },
   {
    "duration": 180,
    "start_time": "2023-04-22T05:56:45.231Z"
   },
   {
    "duration": 185,
    "start_time": "2023-04-22T05:56:45.851Z"
   },
   {
    "duration": 155,
    "start_time": "2023-04-22T05:56:46.488Z"
   },
   {
    "duration": 140,
    "start_time": "2023-04-22T05:56:47.296Z"
   },
   {
    "duration": 148,
    "start_time": "2023-04-22T05:56:48.588Z"
   },
   {
    "duration": 164,
    "start_time": "2023-04-22T05:56:49.162Z"
   },
   {
    "duration": 98,
    "start_time": "2023-04-22T05:56:49.626Z"
   },
   {
    "duration": 148,
    "start_time": "2023-04-22T05:56:50.118Z"
   },
   {
    "duration": 86,
    "start_time": "2023-04-22T05:56:53.140Z"
   },
   {
    "duration": 47,
    "start_time": "2023-04-22T05:58:37.348Z"
   },
   {
    "duration": 40,
    "start_time": "2023-04-22T05:59:44.604Z"
   },
   {
    "duration": 13,
    "start_time": "2023-04-22T05:59:51.236Z"
   },
   {
    "duration": 54,
    "start_time": "2023-04-22T06:00:12.556Z"
   },
   {
    "duration": 26,
    "start_time": "2023-04-22T06:05:40.597Z"
   },
   {
    "duration": 28,
    "start_time": "2023-04-22T06:05:44.615Z"
   },
   {
    "duration": 48,
    "start_time": "2023-04-22T06:05:51.954Z"
   },
   {
    "duration": 56,
    "start_time": "2023-04-22T06:06:00.470Z"
   },
   {
    "duration": 53,
    "start_time": "2023-04-22T06:06:06.569Z"
   },
   {
    "duration": 61,
    "start_time": "2023-04-22T06:07:51.898Z"
   },
   {
    "duration": 56,
    "start_time": "2023-04-22T06:09:25.668Z"
   },
   {
    "duration": 13,
    "start_time": "2023-04-22T06:12:55.372Z"
   },
   {
    "duration": 2744,
    "start_time": "2023-04-22T06:13:04.697Z"
   },
   {
    "duration": 3,
    "start_time": "2023-04-22T06:14:02.287Z"
   },
   {
    "duration": 9,
    "start_time": "2023-04-22T06:14:09.753Z"
   },
   {
    "duration": 7,
    "start_time": "2023-04-22T06:14:13.069Z"
   },
   {
    "duration": 14,
    "start_time": "2023-04-22T06:16:32.749Z"
   },
   {
    "duration": 30,
    "start_time": "2023-04-22T06:17:40.433Z"
   },
   {
    "duration": 25,
    "start_time": "2023-04-22T06:19:57.693Z"
   },
   {
    "duration": 39,
    "start_time": "2023-04-22T06:20:51.270Z"
   },
   {
    "duration": 1725,
    "start_time": "2023-04-22T06:21:51.605Z"
   },
   {
    "duration": 7,
    "start_time": "2023-04-22T06:22:17.998Z"
   },
   {
    "duration": 24,
    "start_time": "2023-04-22T06:22:33.413Z"
   },
   {
    "duration": 6,
    "start_time": "2023-04-22T06:22:45.499Z"
   },
   {
    "duration": 6,
    "start_time": "2023-04-22T06:26:20.489Z"
   },
   {
    "duration": 6,
    "start_time": "2023-04-22T06:26:28.524Z"
   },
   {
    "duration": 1787,
    "start_time": "2023-04-22T06:28:54.549Z"
   },
   {
    "duration": 6,
    "start_time": "2023-04-22T06:29:12.863Z"
   },
   {
    "duration": 10,
    "start_time": "2023-04-22T06:31:54.619Z"
   },
   {
    "duration": 10,
    "start_time": "2023-04-22T06:32:36.045Z"
   },
   {
    "duration": 1111,
    "start_time": "2023-04-22T07:45:09.995Z"
   },
   {
    "duration": 99,
    "start_time": "2023-04-22T07:45:11.108Z"
   },
   {
    "duration": 14,
    "start_time": "2023-04-22T07:45:11.211Z"
   },
   {
    "duration": 31,
    "start_time": "2023-04-22T07:45:11.227Z"
   },
   {
    "duration": 1688,
    "start_time": "2023-04-22T07:45:11.259Z"
   },
   {
    "duration": 4,
    "start_time": "2023-04-22T07:45:12.948Z"
   },
   {
    "duration": 22,
    "start_time": "2023-04-22T07:45:12.953Z"
   },
   {
    "duration": 20,
    "start_time": "2023-04-22T07:45:12.977Z"
   },
   {
    "duration": 32,
    "start_time": "2023-04-22T07:45:13.006Z"
   },
   {
    "duration": 4,
    "start_time": "2023-04-22T07:45:13.040Z"
   },
   {
    "duration": 6,
    "start_time": "2023-04-22T07:45:13.045Z"
   },
   {
    "duration": 81,
    "start_time": "2023-04-22T07:45:13.052Z"
   },
   {
    "duration": 4,
    "start_time": "2023-04-22T07:45:13.135Z"
   },
   {
    "duration": 9,
    "start_time": "2023-04-22T07:45:13.140Z"
   },
   {
    "duration": 22,
    "start_time": "2023-04-22T07:45:13.150Z"
   },
   {
    "duration": 11,
    "start_time": "2023-04-22T07:45:13.173Z"
   },
   {
    "duration": 40,
    "start_time": "2023-04-22T07:45:13.185Z"
   },
   {
    "duration": 6,
    "start_time": "2023-04-22T07:45:13.226Z"
   },
   {
    "duration": 5,
    "start_time": "2023-04-22T07:45:13.233Z"
   },
   {
    "duration": 4,
    "start_time": "2023-04-22T07:45:13.239Z"
   },
   {
    "duration": 4,
    "start_time": "2023-04-22T07:45:13.244Z"
   },
   {
    "duration": 10,
    "start_time": "2023-04-22T07:45:13.249Z"
   },
   {
    "duration": 38,
    "start_time": "2023-04-22T07:45:13.261Z"
   },
   {
    "duration": 17,
    "start_time": "2023-04-22T07:45:13.306Z"
   },
   {
    "duration": 13,
    "start_time": "2023-04-22T07:45:13.324Z"
   },
   {
    "duration": 10,
    "start_time": "2023-04-22T07:45:13.338Z"
   },
   {
    "duration": 17,
    "start_time": "2023-04-22T07:45:13.349Z"
   },
   {
    "duration": 59,
    "start_time": "2023-04-22T07:45:13.369Z"
   },
   {
    "duration": 67,
    "start_time": "2023-04-22T07:45:13.429Z"
   },
   {
    "duration": 358,
    "start_time": "2023-04-22T07:45:13.498Z"
   },
   {
    "duration": 294,
    "start_time": "2023-04-22T07:45:13.858Z"
   },
   {
    "duration": 115,
    "start_time": "2023-04-22T07:45:14.153Z"
   },
   {
    "duration": 24,
    "start_time": "2023-04-22T07:45:14.269Z"
   },
   {
    "duration": 45,
    "start_time": "2023-04-22T07:45:14.296Z"
   },
   {
    "duration": 188,
    "start_time": "2023-04-22T07:45:14.342Z"
   },
   {
    "duration": 11,
    "start_time": "2023-04-22T07:45:14.532Z"
   },
   {
    "duration": 118,
    "start_time": "2023-04-22T07:45:14.544Z"
   },
   {
    "duration": 221,
    "start_time": "2023-04-22T07:45:14.663Z"
   },
   {
    "duration": 274,
    "start_time": "2023-04-22T07:45:14.886Z"
   },
   {
    "duration": 18,
    "start_time": "2023-04-22T07:45:15.162Z"
   },
   {
    "duration": 34,
    "start_time": "2023-04-22T07:45:15.181Z"
   },
   {
    "duration": 15,
    "start_time": "2023-04-22T07:45:15.217Z"
   },
   {
    "duration": 10,
    "start_time": "2023-04-22T07:45:15.233Z"
   },
   {
    "duration": 338,
    "start_time": "2023-04-22T07:45:15.244Z"
   },
   {
    "duration": 30,
    "start_time": "2023-04-22T07:45:15.584Z"
   },
   {
    "duration": 14,
    "start_time": "2023-04-22T07:45:15.616Z"
   },
   {
    "duration": 8,
    "start_time": "2023-04-22T07:45:15.631Z"
   },
   {
    "duration": 229,
    "start_time": "2023-04-22T07:45:15.640Z"
   },
   {
    "duration": 254,
    "start_time": "2023-04-22T07:45:15.870Z"
   },
   {
    "duration": 218,
    "start_time": "2023-04-22T07:45:16.126Z"
   },
   {
    "duration": 4,
    "start_time": "2023-04-22T07:45:16.345Z"
   },
   {
    "duration": 234,
    "start_time": "2023-04-22T07:45:16.351Z"
   },
   {
    "duration": 231,
    "start_time": "2023-04-22T07:45:16.586Z"
   },
   {
    "duration": 142,
    "start_time": "2023-04-22T07:45:16.819Z"
   },
   {
    "duration": 188,
    "start_time": "2023-04-22T07:45:16.962Z"
   },
   {
    "duration": 138,
    "start_time": "2023-04-22T07:45:17.152Z"
   },
   {
    "duration": 165,
    "start_time": "2023-04-22T07:45:17.300Z"
   },
   {
    "duration": 186,
    "start_time": "2023-04-22T07:45:17.467Z"
   },
   {
    "duration": 197,
    "start_time": "2023-04-22T07:45:17.654Z"
   },
   {
    "duration": 191,
    "start_time": "2023-04-22T07:45:17.852Z"
   },
   {
    "duration": 279,
    "start_time": "2023-04-22T07:45:18.045Z"
   },
   {
    "duration": 675,
    "start_time": "2023-04-22T07:45:18.326Z"
   },
   {
    "duration": 194,
    "start_time": "2023-04-22T07:45:19.003Z"
   },
   {
    "duration": 171,
    "start_time": "2023-04-22T07:45:19.200Z"
   },
   {
    "duration": 184,
    "start_time": "2023-04-22T07:45:19.384Z"
   },
   {
    "duration": 159,
    "start_time": "2023-04-22T07:45:19.569Z"
   },
   {
    "duration": 183,
    "start_time": "2023-04-22T07:45:19.729Z"
   },
   {
    "duration": 167,
    "start_time": "2023-04-22T07:45:19.914Z"
   },
   {
    "duration": 172,
    "start_time": "2023-04-22T07:45:20.083Z"
   },
   {
    "duration": 94,
    "start_time": "2023-04-22T07:45:20.257Z"
   },
   {
    "duration": 0,
    "start_time": "2023-04-22T07:45:20.352Z"
   },
   {
    "duration": 0,
    "start_time": "2023-04-22T07:45:20.354Z"
   },
   {
    "duration": 0,
    "start_time": "2023-04-22T07:45:20.355Z"
   },
   {
    "duration": 0,
    "start_time": "2023-04-22T07:45:20.356Z"
   },
   {
    "duration": 0,
    "start_time": "2023-04-22T07:45:20.357Z"
   },
   {
    "duration": 1335,
    "start_time": "2023-04-22T21:18:11.735Z"
   },
   {
    "duration": 115,
    "start_time": "2023-04-22T21:18:13.073Z"
   },
   {
    "duration": 18,
    "start_time": "2023-04-22T21:18:13.190Z"
   },
   {
    "duration": 40,
    "start_time": "2023-04-22T21:18:13.220Z"
   },
   {
    "duration": 2182,
    "start_time": "2023-04-22T21:18:13.262Z"
   },
   {
    "duration": 3,
    "start_time": "2023-04-22T21:18:15.446Z"
   },
   {
    "duration": 43,
    "start_time": "2023-04-22T21:18:15.451Z"
   },
   {
    "duration": 25,
    "start_time": "2023-04-22T21:18:15.496Z"
   },
   {
    "duration": 63,
    "start_time": "2023-04-22T21:18:15.526Z"
   },
   {
    "duration": 23,
    "start_time": "2023-04-22T21:18:15.591Z"
   },
   {
    "duration": 67,
    "start_time": "2023-04-22T21:18:15.616Z"
   },
   {
    "duration": 127,
    "start_time": "2023-04-22T21:18:15.684Z"
   },
   {
    "duration": 11,
    "start_time": "2023-04-22T21:18:15.813Z"
   },
   {
    "duration": 56,
    "start_time": "2023-04-22T21:18:15.833Z"
   },
   {
    "duration": 55,
    "start_time": "2023-04-22T21:18:15.891Z"
   },
   {
    "duration": 31,
    "start_time": "2023-04-22T21:18:15.948Z"
   },
   {
    "duration": 29,
    "start_time": "2023-04-22T21:18:15.981Z"
   },
   {
    "duration": 42,
    "start_time": "2023-04-22T21:18:16.012Z"
   },
   {
    "duration": 39,
    "start_time": "2023-04-22T21:18:16.056Z"
   },
   {
    "duration": 38,
    "start_time": "2023-04-22T21:18:16.096Z"
   },
   {
    "duration": 24,
    "start_time": "2023-04-22T21:18:16.143Z"
   },
   {
    "duration": 56,
    "start_time": "2023-04-22T21:18:16.169Z"
   },
   {
    "duration": 61,
    "start_time": "2023-04-22T21:18:16.226Z"
   },
   {
    "duration": 20,
    "start_time": "2023-04-22T21:18:16.289Z"
   },
   {
    "duration": 71,
    "start_time": "2023-04-22T21:18:16.311Z"
   },
   {
    "duration": 67,
    "start_time": "2023-04-22T21:18:16.384Z"
   },
   {
    "duration": 40,
    "start_time": "2023-04-22T21:18:16.453Z"
   },
   {
    "duration": 84,
    "start_time": "2023-04-22T21:18:16.495Z"
   },
   {
    "duration": 81,
    "start_time": "2023-04-22T21:18:16.581Z"
   },
   {
    "duration": 474,
    "start_time": "2023-04-22T21:18:16.664Z"
   },
   {
    "duration": 391,
    "start_time": "2023-04-22T21:18:17.141Z"
   },
   {
    "duration": 121,
    "start_time": "2023-04-22T21:18:17.534Z"
   },
   {
    "duration": 21,
    "start_time": "2023-04-22T21:18:17.657Z"
   },
   {
    "duration": 82,
    "start_time": "2023-04-22T21:18:17.680Z"
   },
   {
    "duration": 246,
    "start_time": "2023-04-22T21:18:17.765Z"
   },
   {
    "duration": 32,
    "start_time": "2023-04-22T21:18:18.013Z"
   },
   {
    "duration": 124,
    "start_time": "2023-04-22T21:18:18.046Z"
   },
   {
    "duration": 300,
    "start_time": "2023-04-22T21:18:18.172Z"
   },
   {
    "duration": 397,
    "start_time": "2023-04-22T21:18:18.474Z"
   },
   {
    "duration": 8,
    "start_time": "2023-04-22T21:18:18.873Z"
   },
   {
    "duration": 37,
    "start_time": "2023-04-22T21:18:18.885Z"
   },
   {
    "duration": 39,
    "start_time": "2023-04-22T21:18:18.935Z"
   },
   {
    "duration": 35,
    "start_time": "2023-04-22T21:18:18.976Z"
   },
   {
    "duration": 382,
    "start_time": "2023-04-22T21:18:19.013Z"
   },
   {
    "duration": 48,
    "start_time": "2023-04-22T21:18:19.397Z"
   },
   {
    "duration": 15,
    "start_time": "2023-04-22T21:18:19.447Z"
   },
   {
    "duration": 46,
    "start_time": "2023-04-22T21:18:19.464Z"
   },
   {
    "duration": 392,
    "start_time": "2023-04-22T21:18:19.512Z"
   },
   {
    "duration": 319,
    "start_time": "2023-04-22T21:18:19.906Z"
   },
   {
    "duration": 227,
    "start_time": "2023-04-22T21:18:20.227Z"
   },
   {
    "duration": 5,
    "start_time": "2023-04-22T21:18:20.456Z"
   },
   {
    "duration": 369,
    "start_time": "2023-04-22T21:18:20.462Z"
   },
   {
    "duration": 249,
    "start_time": "2023-04-22T21:18:20.837Z"
   },
   {
    "duration": 182,
    "start_time": "2023-04-22T21:18:21.088Z"
   },
   {
    "duration": 201,
    "start_time": "2023-04-22T21:18:21.272Z"
   },
   {
    "duration": 165,
    "start_time": "2023-04-22T21:18:21.475Z"
   },
   {
    "duration": 199,
    "start_time": "2023-04-22T21:18:21.643Z"
   },
   {
    "duration": 247,
    "start_time": "2023-04-22T21:18:21.843Z"
   },
   {
    "duration": 241,
    "start_time": "2023-04-22T21:18:22.093Z"
   },
   {
    "duration": 214,
    "start_time": "2023-04-22T21:18:22.336Z"
   },
   {
    "duration": 387,
    "start_time": "2023-04-22T21:18:22.553Z"
   },
   {
    "duration": 806,
    "start_time": "2023-04-22T21:18:22.942Z"
   },
   {
    "duration": 197,
    "start_time": "2023-04-22T21:18:23.750Z"
   },
   {
    "duration": 196,
    "start_time": "2023-04-22T21:18:23.949Z"
   },
   {
    "duration": 206,
    "start_time": "2023-04-22T21:18:24.147Z"
   },
   {
    "duration": 192,
    "start_time": "2023-04-22T21:18:24.355Z"
   },
   {
    "duration": 158,
    "start_time": "2023-04-22T21:18:24.549Z"
   },
   {
    "duration": 192,
    "start_time": "2023-04-22T21:18:24.709Z"
   },
   {
    "duration": 193,
    "start_time": "2023-04-22T21:18:24.903Z"
   },
   {
    "duration": 94,
    "start_time": "2023-04-22T21:18:25.098Z"
   },
   {
    "duration": 0,
    "start_time": "2023-04-22T21:18:25.198Z"
   },
   {
    "duration": 0,
    "start_time": "2023-04-22T21:18:25.205Z"
   },
   {
    "duration": 0,
    "start_time": "2023-04-22T21:18:25.207Z"
   },
   {
    "duration": 0,
    "start_time": "2023-04-22T21:18:25.209Z"
   },
   {
    "duration": 0,
    "start_time": "2023-04-22T21:18:25.210Z"
   },
   {
    "duration": 197,
    "start_time": "2023-04-22T21:19:48.790Z"
   },
   {
    "duration": 32,
    "start_time": "2023-04-22T21:19:53.878Z"
   },
   {
    "duration": 146,
    "start_time": "2023-04-22T21:19:54.935Z"
   },
   {
    "duration": 40,
    "start_time": "2023-04-22T21:19:55.098Z"
   },
   {
    "duration": 10,
    "start_time": "2023-04-22T21:19:55.280Z"
   }
  ],
  "kernelspec": {
   "display_name": "Python 3 (ipykernel)",
   "language": "python",
   "name": "python3"
  },
  "language_info": {
   "codemirror_mode": {
    "name": "ipython",
    "version": 3
   },
   "file_extension": ".py",
   "mimetype": "text/x-python",
   "name": "python",
   "nbconvert_exporter": "python",
   "pygments_lexer": "ipython3",
   "version": "3.9.5"
  },
  "toc": {
   "base_numbering": 1,
   "nav_menu": {},
   "number_sections": true,
   "sideBar": true,
   "skip_h1_title": true,
   "title_cell": "Table of Contents",
   "title_sidebar": "Contents",
   "toc_cell": false,
   "toc_position": {},
   "toc_section_display": true,
   "toc_window_display": false
  }
 },
 "nbformat": 4,
 "nbformat_minor": 2
}
